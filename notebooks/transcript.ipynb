{
 "cells": [
  {
   "cell_type": "code",
   "execution_count": 14,
   "id": "cab0b552-b28c-4cc3-b82f-deac27cc2d74",
   "metadata": {},
   "outputs": [],
   "source": [
    "import os\n",
    "\n",
    "from dataclasses import replace\n",
    "\n",
    "from freespeech.lib import notion\n",
    "from freespeech.lib import subtitles\n",
    "from freespeech.lib import speech\n",
    "\n",
    "\n",
    "os.environ[\"NOTION_TOKEN\"] = \"secret_hdkQcBV0aZmDXJDANPnTLdg2hDKBZJG0o9LcczBnfay\"\n",
    "srt_file = \"/workspaces/freespeech/data/karlsson.srt\"\n",
    "page_id = \"a8301bda40734f8d989f2ec7e6495272\"\n",
    "\n",
    "transcript = await notion.get_transcript(page_id)\n",
    "events = subtitles.srt(srt_file)\n",
    "events = speech.normalize_speech(events)\n",
    "events = [replace(event, time_ms=event.time_ms - 3_000) for event in events]\n",
    "transcript = replace(transcript, events=events)\n",
    "\n",
    "await notion.put_transcript('', transcript)\n"
   ]
  }
 ],
 "metadata": {
  "kernelspec": {
   "display_name": "Python 3 (ipykernel)",
   "language": "python",
   "name": "python3"
  },
  "language_info": {
   "codemirror_mode": {
    "name": "ipython",
    "version": 3
   },
   "file_extension": ".py",
   "mimetype": "text/x-python",
   "name": "python",
   "nbconvert_exporter": "python",
   "pygments_lexer": "ipython3",
   "version": "3.10.4"
  }
 },
 "nbformat": 4,
 "nbformat_minor": 5
}
