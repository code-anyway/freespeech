{
 "cells": [
  {
   "cell_type": "markdown",
   "metadata": {},
   "source": [
    "# README\n",
    "\n",
    "Use it to crunch the data from logs, extract URLs of transcripts, to count minutes dubbed, etc."
   ]
  },
  {
   "cell_type": "code",
   "execution_count": null,
   "metadata": {},
   "outputs": [],
   "source": [
    "dubs_clean = {\n",
    "        'https://docs.google.com/document/d/1-AlQha9MuuvXrRF1URAILLb2cjWmyj4mbPrjgq3yR_E/edit#': 1,\n",
    " 'https://docs.google.com/document/d/10mpKrD1rm9fULRB5UTGW0rHc3qkFM3PQMkv95k1xm0M/edit#': 1,\n",
    " 'https://docs.google.com/document/d/12q_pKXVS1CELC_bIddSJKL1tEW2fb6AtDLTLDIwy--s/edit#': 5,\n",
    " 'https://docs.google.com/document/d/14nOq5UuGPLV488kP8LnrHRskR3pmtQSb_1qHd_od1Uk/edit#': 3,\n",
    " 'https://docs.google.com/document/d/171sf6kDts6-RQexj255Kl2OO0ygJRDNTqKdleb8kp9A/edit#': 1,\n",
    " 'https://docs.google.com/document/d/18vBrHLCgHsVA1jY2zIzQrC_21GA2oPLDHWe-ZjBVMPk/edit#': 5,\n",
    " 'https://docs.google.com/document/d/1A0AM4EuCAvrk-uyPA1RjAVQCzt1P5SWIzkAS8Y_akmA/edit#': 3,\n",
    " 'https://docs.google.com/document/d/1B5_JqT-uQlKpSb97354K24kPYMFx95Tv07Vwo7NJYqs/edit#': 3,\n",
    " 'https://docs.google.com/document/d/1D4oRgOfwboO5CCLWJsIVRO3UBHS3lZTu-PrwAYPe6o0/edit': 2,\n",
    " 'https://docs.google.com/document/d/1DRAp9rN7bHWkiZU3qNPLRB6SqIkI-qYDNS7TEoWO79w/edit#': 2,\n",
    " 'https://docs.google.com/document/d/1DU94oiDJdrgcAoRwMnxD9PIQQyvgU2H6-KJOwQ4wxUI/edit#': 2,\n",
    " 'https://docs.google.com/document/d/1FDRDW8aG3o_ul5Jhz1br_2oZE-cyR76Nwu9x-sXCxlQ/edit': 2,\n",
    " 'https://docs.google.com/document/d/1FbV0eW4Q-yKWYjPkMRCrGd2yD78n7MtswVmN9LSo4mA/edit#': 2,\n",
    " 'https://docs.google.com/document/d/1GT0fMGNGmxhqAk8S5HV_2MGxFDEueIVDDHwNtSm6Zek/edit#': 8,\n",
    " 'https://docs.google.com/document/d/1GU2XlIFYrT7c8y0vVCacze7oLh8m9jDmEvY1KtBGj3U/edit#': 2,\n",
    " 'https://docs.google.com/document/d/1GfOTqVdbTaeiWjiAWVREKr0ZJT6PRtacmhRehx6oGyg/edit#': 3,\n",
    " 'https://docs.google.com/document/d/1Gh_XY_rtK9Ipclxlg7UuE8nXwAY1NUIbeimgU09A7Ks/edit': 2,\n",
    " 'https://docs.google.com/document/d/1IYa-31vjtP5rK4d_-q6DG9SlTdO06S8U7VZqPO69Xh8/edit': 2,\n",
    " 'https://docs.google.com/document/d/1IYa-31vjtP5rK4d_-q6DG9SlTdO06S8U7VZqPO69Xh8/edit#': 3,\n",
    " 'https://docs.google.com/document/d/1J2oxSv-LkvOKnfPiQYSPwcQkBjTdLh6WQZC8qQDwsL8/edit': 1,\n",
    " 'https://docs.google.com/document/d/1J2oxSv-LkvOKnfPiQYSPwcQkBjTdLh6WQZC8qQDwsL8/edit#': 1,\n",
    " 'https://docs.google.com/document/d/1LeQsFBy87iTgIPGpmV7z_z6wSswmSVfZ0pqWdT7_oLA/edit#': 6,\n",
    " 'https://docs.google.com/document/d/1NhvCl4RhUoDnL4BW1PNgY7RvD71kQ6uXhuDgbPX1XLI/edit': 2,\n",
    " 'https://docs.google.com/document/d/1P8v-1QoqCDRJoCuJoT9dnom_orhlU9qRfjbkfIsxayE/edit': 2,\n",
    " 'https://docs.google.com/document/d/1Pun5YXtH_2CD5NPgKIzWYwFpWaVL3aA_JpwagE-h8p8/edit': 1,\n",
    " 'https://docs.google.com/document/d/1Q2DKTQnd6SAgPtEG4hROPcTEN36__4ZGq8zV0JJfQjo/edit': 4,\n",
    " 'https://docs.google.com/document/d/1RDRYuldI2qdnfMao9j4LL3KedC1-2kqgTWVfuSLX1aQ/edit#': 8,\n",
    " 'https://docs.google.com/document/d/1ToKzlik_eXIkUHCoQCeWsAH5UQE-qVIyTlY9_vbi950/edit#': 1,\n",
    " 'https://docs.google.com/document/d/1UfujOEUA-PatcZQnXpBoUkAVv5IUc9lzNXy4YlQI5Gc/edit': 1,\n",
    " 'https://docs.google.com/document/d/1Up95AfwhythRNGPeKNbd84xfc0lNXjcVShkmdvx6rfY/edit#': 1,\n",
    " 'https://docs.google.com/document/d/1VOqxrWgjo3risvdqYebei4qOAdyZxphOejvZyValSFM/edit?usp=drivesdk': 4,\n",
    " 'https://docs.google.com/document/d/1YEEXE-2_ZqBT7j02UsFrbHy-oBefLQaolFoBeNqE7jM/edit': 2,\n",
    " 'https://docs.google.com/document/d/1_AERVq_AvhcINIHxNFAb2DDMw0NLOCQe-hYkJEpRhWA/edit': 9,\n",
    " 'https://docs.google.com/document/d/1_AERVq_AvhcINIHxNFAb2DDMw0NLOCQe-hYkJEpRhWA/edit#': 1,\n",
    " 'https://docs.google.com/document/d/1cFJ_wC2UqpCtI5CgDM9FMuI1zQZ3tlrV7BXanU_9KXc/edit': 1,\n",
    " 'https://docs.google.com/document/d/1edAIf9bGnIcOQJoQLu4zQ-TiXZs3cRYa5V0Z2WFjhCI/edit': 2,\n",
    " 'https://docs.google.com/document/d/1ejmzxLK6wmTG10AKyh_rhlduUj6ISbGseu4skb5Scdc/edit#': 5,\n",
    " 'https://docs.google.com/document/d/1eyQIbGsh6EGoUptDVKHg9sm0HSFoZju25CfMqGKKifU/edit?usp=drivesdk': 1,\n",
    " 'https://docs.google.com/document/d/1i0Skv44_TDZj1jTkivnCE0XJeuzBaWyrf-yRseRlGm4/edit': 1,\n",
    " 'https://docs.google.com/document/d/1iTPs0fUtrUp4Grx16ZXmEeCl0HD-3es0j3YL3wIuuXQ/edit#': 2,\n",
    " 'https://docs.google.com/document/d/1jAOVjC51TS2p4fcmZUXeAEjqXrbyfpQxouiycIYB3k0/edit': 9,\n",
    " 'https://docs.google.com/document/d/1jCLoi-cI09noL8j_Ib5Hn5OrePdKP3-2mwvrKF-KldA/edit#': 1,\n",
    " 'https://docs.google.com/document/d/1lcktTd06gIr7dVtUKFJGksESDQoMUay7W44mH5ezaaI/edit#': 3,\n",
    " 'https://docs.google.com/document/d/1mDHFE2YyhoHrnz9XdtMEe-VaLerDbNmTdjY2fG9JjsQ/edit#': 4,\n",
    " 'https://docs.google.com/document/d/1mN0tvb_X4p0gGZQH8R6q-EZtF6vjaFt5CQsr-LJm5aU/edit': 2,\n",
    " 'https://docs.google.com/document/d/1n22VlQDB9l5idflSBeMpStaVzqh-kvEDGO0Bt42ZA_g/edit#': 2,\n",
    " 'https://docs.google.com/document/d/1nJ2dArS24RZG_vqdmumfqTuVsfVrkA4xYQ-eH-Od1Ac/edit': 1,\n",
    " 'https://docs.google.com/document/d/1nJ2dArS24RZG_vqdmumfqTuVsfVrkA4xYQ-eH-Od1Ac/edit#': 1,\n",
    " 'https://docs.google.com/document/d/1nLRDYCgayxeOeYtAl2koa4K11WX4gereoBTMKNZBZGA/edit': 1,\n",
    " 'https://docs.google.com/document/d/1ocedmWq3gNOuwO4VCAEzCNgcNUL_iE77MLHSAlGJ_r4/edit': 4,\n",
    " 'https://docs.google.com/document/d/1p9jmepDdTrWYyritkub4ygeYGKsiPIc_yEZdlNjzMr8/edit#': 4,\n",
    " 'https://docs.google.com/document/d/1q4f-qetO71VbMefrIye2y6iqzdEQZCxOORXUtQ7-mEU/edit': 2,\n",
    " 'https://docs.google.com/document/d/1sC8ITjCIU6JEz21pkRXo4ejLcSUUVaAz6Q7bNgXoEOY/edit#': 2,\n",
    " 'https://docs.google.com/document/d/1v086Z-OtJcamo63bns4qGHzbL4sVT0iyrhm8OEdbv5k/edit': 3,\n",
    " 'https://docs.google.com/document/d/1v6VPQGObbOZ6EhofWHXUOSmJ-bh8_NwoD6h5GCvHPGg/edit': 3,\n",
    " 'https://docs.google.com/document/d/1vVZsGss1QwPJHfo7x0qFG81JkjjKUZK7DPyuJT25CDg/edit': 6,\n",
    " 'https://docs.google.com/document/d/1wT28vpa3Y90bLNT6zN3prTxwV2wIVCi3bfZUO8t9LsU/edit#': 6,\n",
    " 'https://docs.google.com/document/d/1wdFEJbVXGvvcTZXoX7G1IuPPr9nmG11Qh9_8ovG92Ig/edit': 1,\n",
    " 'https://docs.google.com/document/d/1x-OnM59ohgkpY9wilnIWbv6RQph794u_FQ8EDcsz3iY/edit': 2,\n",
    " 'https://docs.google.com/document/d/1xZqt9snRbR7sDju_qMub0W3QVueZjZO-0lMi9hANb-4/edit#': 1,\n",
    " 'https://docs.google.com/document/d/1ytumc8HKe2vqhs8LJZv_egfcot-EZ699x38A88HXAf8/edit': 4,\n",
    "}"
   ]
  },
  {
   "cell_type": "code",
   "execution_count": null,
   "metadata": {},
   "outputs": [],
   "source": [
    "import pytube\n",
    "\n",
    "\n",
    "def load(url):\n",
    "    try:\n",
    "        return gdocs.load(url)\n",
    "    except Exception as e:\n",
    "        print(f\"{url}: {str(e)}\")\n",
    "        return None\n",
    "\n",
    "dubs_info = [\n",
    "    {\n",
    "        \"doc\": doc_url,\n",
    "        \"count\": count,\n",
    "        \"video\": transcript.source.url,\n",
    "        \"length\": pytube.YouTube(transcript.source.url).length\n",
    "    }\n",
    "    for doc_url, count in dubs_clean.items()\n",
    "    if (transcript := load(doc_url))\n",
    "]"
   ]
  },
  {
   "cell_type": "code",
   "execution_count": null,
   "metadata": {},
   "outputs": [],
   "source": [
    "sum(info[\"length\"] for info in dubs_info) / 60\n"
   ]
  },
  {
   "cell_type": "code",
   "execution_count": null,
   "metadata": {},
   "outputs": [],
   "source": [
    "import seaborn as sns\n",
    "\n",
    "\n",
    "sns.histplot(data=list(dubs_clean.values()),  binwidth=1)"
   ]
  }
 ],
 "metadata": {
  "kernelspec": {
   "display_name": "Python 3.10.6 ('venv': venv)",
   "language": "python",
   "name": "python3"
  },
  "language_info": {
   "codemirror_mode": {
    "name": "ipython",
    "version": 3
   },
   "file_extension": ".py",
   "mimetype": "text/x-python",
   "name": "python",
   "nbconvert_exporter": "python",
   "pygments_lexer": "ipython3",
   "version": "3.10.6"
  },
  "orig_nbformat": 4,
  "vscode": {
   "interpreter": {
    "hash": "601a0e3347eda342ec82d57697f08e150b7cb45b7884154032a9c299007702e4"
   }
  }
 },
 "nbformat": 4,
 "nbformat_minor": 2
}
