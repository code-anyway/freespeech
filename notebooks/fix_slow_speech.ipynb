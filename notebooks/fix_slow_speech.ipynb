{
 "cells": [
  {
   "cell_type": "markdown",
   "metadata": {},
   "source": [
    "\n",
    "# Overview\n",
    "\n",
    "This is a prototype of the pipeline to fix slow speech rate by adding speech breaks between the sentences.\n",
    "\n",
    "Known Issue: there are times when the resulting waveform is longer than original length + breaks.\n",
    "\n",
    "Workaround: this will result in longer clips and overlapping with the following event. Can be seen in the logs and speech breaks can be adjusted.\n",
    "Add breaks before each sentence and in the end of a sentences. To avoid long weird pauses and occasionally truncated the end of the clip."
   ]
  },
  {
   "cell_type": "code",
   "execution_count": null,
   "metadata": {},
   "outputs": [],
   "source": [
    "!mkdir /tmp/freespeech"
   ]
  },
  {
   "cell_type": "code",
   "execution_count": null,
   "metadata": {},
   "outputs": [],
   "source": [
    "import asyncio\n",
    "\n",
    "from dataclasses import replace\n",
    "from typing import Sequence\n",
    "\n",
    "from freespeech.lib import gdocs, media, speech\n",
    "from freespeech.types import Event, Language\n",
    "\n",
    "\n",
    "async def synthesize_events(events: Sequence[Event], rate: float, lang: Language) -> list[dict]:\n",
    "    acc = []\n",
    "    for event in events:\n",
    "        file, voice = await speech.synthesize_text(\n",
    "            text := \" \".join(event.chunks),\n",
    "            duration_ms=None,\n",
    "            voice=replace(event.voice, speech_rate=rate),\n",
    "            lang=lang,\n",
    "            output_dir=\"/tmp/freespeech\")\n",
    "        ((audio, *_), *_) = media.probe(file)\n",
    "        acc += [{\n",
    "            \"actual\": audio.duration_ms,\n",
    "            \"target\": event.duration_ms,\n",
    "            \"delta\": event.duration_ms - audio.duration_ms if event.duration_ms is not None else None,\n",
    "            \"ratio\": audio.duration_ms / event.duration_ms if event.duration_ms is not None else None,\n",
    "            \"event\": event,\n",
    "            \"voice\": voice,\n",
    "            \"file\": file\n",
    "        }]\n",
    "    return acc\n",
    "\n",
    "\n",
    "transcript = gdocs.load(\"https://docs.google.com/document/d/1CVnL1fbBjLOPNAwwfReZuGVm34FPpE7ZKrWMqKOD6lY/edit#\")\n",
    "rates = [0.9, 1.0]\n",
    "res = [await synthesize_events(transcript.events, rate=rate, lang=transcript.lang) for rate in rates]\n"
   ]
  },
  {
   "cell_type": "code",
   "execution_count": null,
   "metadata": {},
   "outputs": [],
   "source": [
    "import re\n",
    "import spacy\n",
    "\n",
    "\n",
    "nlp = spacy.load(\"en_core_web_sm\")\n",
    "\n",
    "\n",
    "def fix_breaks(text):\n",
    "    breaks = re.compile(r\"#(\\d+(\\.\\d+)?)#\")\n",
    "    total_breaks = sum([float(value) for value, *_ in breaks.findall(text)])\n",
    "    doc = nlp(breaks.sub(\"\", text))\n",
    "    senter = nlp.get_pipe(\"senter\")\n",
    "    sentences = [sentence for span in senter(doc).sents if (sentence := span.text.strip())]\n",
    "\n",
    "    return ' '.join(f\"#{total_breaks / len(sentences):.2f}# {sentence}\" for sentence in sentences)\n",
    "\n",
    "\n",
    "fix_breaks(\"#10.87# Well, I wanted to start. Let me begin. #1.0# My name is Sergey, I'm a Product Owner, I've been working with DataArt for more than a year on different projects. Why am I here? Actually, because I believe that each of us can always learn something better. Those who we are today can become better tomorrow. That's actually what I came here with in mind.\")\n",
    "\n"
   ]
  },
  {
   "cell_type": "code",
   "execution_count": null,
   "metadata": {},
   "outputs": [],
   "source": [
    "def fix_event(event, actual, target, voice):\n",
    "    if target is None:\n",
    "        return event\n",
    "\n",
    "    if actual / target < 0.8:\n",
    "        text = f\"#{(target - actual - 200) / 1000:.2f}# {' '.join(event.chunks)}\"\n",
    "        return replace(event, chunks=[fix_breaks(text)], duration_ms=None, voice=voice)\n",
    "    else:\n",
    "        return event\n",
    "\n",
    "\n",
    "fixed_events = [[fix_event(item[\"event\"], item[\"actual\"], item[\"target\"], item[\"voice\"]) for item in batch] for batch in res]"
   ]
  }
 ],
 "metadata": {
  "kernelspec": {
   "display_name": "Python 3.10.6 ('venv': venv)",
   "language": "python",
   "name": "python3"
  },
  "language_info": {
   "name": "python",
   "version": "3.10.6"
  },
  "orig_nbformat": 4,
  "vscode": {
   "interpreter": {
    "hash": "601a0e3347eda342ec82d57697f08e150b7cb45b7884154032a9c299007702e4"
   }
  }
 },
 "nbformat": 4,
 "nbformat_minor": 2
}
