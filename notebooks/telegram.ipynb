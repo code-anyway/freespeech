{
 "cells": [
  {
   "cell_type": "code",
   "execution_count": 1,
   "metadata": {},
   "outputs": [],
   "source": [
    "TELEGRAM_API_HASH = \"be61fffade19a0894bc44a17e8a58b52\"\n",
    "TELEGRAM_API_ID = 20723300"
   ]
  },
  {
   "cell_type": "code",
   "execution_count": 2,
   "metadata": {},
   "outputs": [
    {
     "name": "stdout",
     "output_type": "stream",
     "text": [
      "Collecting telethon\n",
      "  Downloading Telethon-1.25.4-py3-none-any.whl (569 kB)\n",
      "\u001b[2K     \u001b[90m━━━━━━━━━━━━━━━━━━━━━━━━━━━━━━━━━━━━━━━\u001b[0m \u001b[32m569.8/569.8 kB\u001b[0m \u001b[31m9.6 MB/s\u001b[0m eta \u001b[36m0:00:00\u001b[0ma \u001b[36m0:00:01\u001b[0m\n",
      "\u001b[?25hRequirement already satisfied: rsa in /home/astaff/code/freespeech/venv/lib/python3.10/site-packages (from telethon) (4.9)\n",
      "Collecting pyaes\n",
      "  Downloading pyaes-1.6.1.tar.gz (28 kB)\n",
      "  Preparing metadata (setup.py) ... \u001b[?25ldone\n",
      "\u001b[?25hRequirement already satisfied: pyasn1>=0.1.3 in /home/astaff/code/freespeech/venv/lib/python3.10/site-packages (from rsa->telethon) (0.4.8)\n",
      "Building wheels for collected packages: pyaes\n",
      "  Building wheel for pyaes (setup.py) ... \u001b[?25ldone\n",
      "\u001b[?25h  Created wheel for pyaes: filename=pyaes-1.6.1-py3-none-any.whl size=26347 sha256=bb862325cde794c6f8395832817887d162a59736dfeba8864140f385ef97ed8d\n",
      "  Stored in directory: /home/astaff/.cache/pip/wheels/60/9b/97/e53da26f9cc31f82f8c9bf9870328e72888be92cc4660f4a06\n",
      "Successfully built pyaes\n",
      "Installing collected packages: pyaes, telethon\n",
      "Successfully installed pyaes-1.6.1 telethon-1.25.4\n"
     ]
    }
   ],
   "source": [
    "!pip install telethon"
   ]
  },
  {
   "cell_type": "code",
   "execution_count": 4,
   "metadata": {},
   "outputs": [
    {
     "ename": "OperationalError",
     "evalue": "database is locked",
     "output_type": "error",
     "traceback": [
      "\u001b[0;31m---------------------------------------------------------------------------\u001b[0m",
      "\u001b[0;31mOperationalError\u001b[0m                          Traceback (most recent call last)",
      "Cell \u001b[0;32mIn [4], line 4\u001b[0m\n\u001b[1;32m      1\u001b[0m \u001b[39mfrom\u001b[39;00m \u001b[39mtelethon\u001b[39;00m \u001b[39mimport\u001b[39;00m TelegramClient\n\u001b[0;32m----> 4\u001b[0m client \u001b[39m=\u001b[39m TelegramClient(\u001b[39m'\u001b[39;49m\u001b[39manon\u001b[39;49m\u001b[39m'\u001b[39;49m, TELEGRAM_API_ID, TELEGRAM_API_HASH)\n\u001b[1;32m      6\u001b[0m me \u001b[39m=\u001b[39m client\u001b[39m.\u001b[39mget_me()\n\u001b[1;32m      7\u001b[0m \u001b[39mprint\u001b[39m(me\u001b[39m.\u001b[39mstringify())\n",
      "File \u001b[0;32m~/code/freespeech/venv/lib/python3.10/site-packages/telethon/client/telegrambaseclient.py:294\u001b[0m, in \u001b[0;36mTelegramBaseClient.__init__\u001b[0;34m(self, session, api_id, api_hash, connection, use_ipv6, proxy, local_addr, timeout, request_retries, connection_retries, retry_delay, auto_reconnect, sequential_updates, flood_sleep_threshold, raise_last_call_error, device_model, system_version, app_version, lang_code, system_lang_code, loop, base_logger, receive_updates, catch_up)\u001b[0m\n\u001b[1;32m    291\u001b[0m \u001b[39m# ':' in session.server_address is True if it's an IPv6 address\u001b[39;00m\n\u001b[1;32m    292\u001b[0m \u001b[39mif\u001b[39;00m (\u001b[39mnot\u001b[39;00m session\u001b[39m.\u001b[39mserver_address \u001b[39mor\u001b[39;00m\n\u001b[1;32m    293\u001b[0m         (\u001b[39m'\u001b[39m\u001b[39m:\u001b[39m\u001b[39m'\u001b[39m \u001b[39min\u001b[39;00m session\u001b[39m.\u001b[39mserver_address) \u001b[39m!=\u001b[39m use_ipv6):\n\u001b[0;32m--> 294\u001b[0m     session\u001b[39m.\u001b[39;49mset_dc(\n\u001b[1;32m    295\u001b[0m         DEFAULT_DC_ID,\n\u001b[1;32m    296\u001b[0m         DEFAULT_IPV6_IP \u001b[39mif\u001b[39;49;00m \u001b[39mself\u001b[39;49m\u001b[39m.\u001b[39;49m_use_ipv6 \u001b[39melse\u001b[39;49;00m DEFAULT_IPV4_IP,\n\u001b[1;32m    297\u001b[0m         DEFAULT_PORT\n\u001b[1;32m    298\u001b[0m     )\n\u001b[1;32m    300\u001b[0m \u001b[39mself\u001b[39m\u001b[39m.\u001b[39mflood_sleep_threshold \u001b[39m=\u001b[39m flood_sleep_threshold\n\u001b[1;32m    302\u001b[0m \u001b[39m# TODO Use AsyncClassWrapper(session)\u001b[39;00m\n\u001b[1;32m    303\u001b[0m \u001b[39m# ChatGetter and SenderGetter can use the in-memory _entity_cache\u001b[39;00m\n\u001b[1;32m    304\u001b[0m \u001b[39m# to avoid network access and the need for await in session files.\u001b[39;00m\n\u001b[0;32m   (...)\u001b[0m\n\u001b[1;32m    308\u001b[0m \u001b[39m# TODO Session should probably return all cached\u001b[39;00m\n\u001b[1;32m    309\u001b[0m \u001b[39m#      info of entities, not just the input versions\u001b[39;00m\n",
      "File \u001b[0;32m~/code/freespeech/venv/lib/python3.10/site-packages/telethon/sessions/sqlite.py:168\u001b[0m, in \u001b[0;36mSQLiteSession.set_dc\u001b[0;34m(self, dc_id, server_address, port)\u001b[0m\n\u001b[1;32m    166\u001b[0m \u001b[39mdef\u001b[39;00m \u001b[39mset_dc\u001b[39m(\u001b[39mself\u001b[39m, dc_id, server_address, port):\n\u001b[1;32m    167\u001b[0m     \u001b[39msuper\u001b[39m()\u001b[39m.\u001b[39mset_dc(dc_id, server_address, port)\n\u001b[0;32m--> 168\u001b[0m     \u001b[39mself\u001b[39;49m\u001b[39m.\u001b[39;49m_update_session_table()\n\u001b[1;32m    170\u001b[0m     \u001b[39m# Fetch the auth_key corresponding to this data center\u001b[39;00m\n\u001b[1;32m    171\u001b[0m     row \u001b[39m=\u001b[39m \u001b[39mself\u001b[39m\u001b[39m.\u001b[39m_execute(\u001b[39m'\u001b[39m\u001b[39mselect auth_key from sessions\u001b[39m\u001b[39m'\u001b[39m)\n",
      "File \u001b[0;32m~/code/freespeech/venv/lib/python3.10/site-packages/telethon/sessions/sqlite.py:194\u001b[0m, in \u001b[0;36mSQLiteSession._update_session_table\u001b[0;34m(self)\u001b[0m\n\u001b[1;32m    188\u001b[0m c \u001b[39m=\u001b[39m \u001b[39mself\u001b[39m\u001b[39m.\u001b[39m_cursor()\n\u001b[1;32m    189\u001b[0m \u001b[39m# While we can save multiple rows into the sessions table\u001b[39;00m\n\u001b[1;32m    190\u001b[0m \u001b[39m# currently we only want to keep ONE as the tables don't\u001b[39;00m\n\u001b[1;32m    191\u001b[0m \u001b[39m# tell us which auth_key's are usable and will work. Needs\u001b[39;00m\n\u001b[1;32m    192\u001b[0m \u001b[39m# some more work before being able to save auth_key's for\u001b[39;00m\n\u001b[1;32m    193\u001b[0m \u001b[39m# multiple DCs. Probably done differently.\u001b[39;00m\n\u001b[0;32m--> 194\u001b[0m c\u001b[39m.\u001b[39;49mexecute(\u001b[39m'\u001b[39;49m\u001b[39mdelete from sessions\u001b[39;49m\u001b[39m'\u001b[39;49m)\n\u001b[1;32m    195\u001b[0m c\u001b[39m.\u001b[39mexecute(\u001b[39m'\u001b[39m\u001b[39minsert or replace into sessions values (?,?,?,?,?)\u001b[39m\u001b[39m'\u001b[39m, (\n\u001b[1;32m    196\u001b[0m     \u001b[39mself\u001b[39m\u001b[39m.\u001b[39m_dc_id,\n\u001b[1;32m    197\u001b[0m     \u001b[39mself\u001b[39m\u001b[39m.\u001b[39m_server_address,\n\u001b[0;32m   (...)\u001b[0m\n\u001b[1;32m    200\u001b[0m     \u001b[39mself\u001b[39m\u001b[39m.\u001b[39m_takeout_id\n\u001b[1;32m    201\u001b[0m ))\n\u001b[1;32m    202\u001b[0m c\u001b[39m.\u001b[39mclose()\n",
      "\u001b[0;31mOperationalError\u001b[0m: database is locked"
     ]
    }
   ],
   "source": [
    "from telethon import TelegramClient\n",
    "\n",
    "\n",
    "client = TelegramClient('anon', TELEGRAM_API_ID, TELEGRAM_API_HASH)\n",
    "\n",
    "me = client.get_me()\n",
    "print(me.stringify())\n"
   ]
  },
  {
   "cell_type": "code",
   "execution_count": null,
   "metadata": {},
   "outputs": [],
   "source": []
  }
 ],
 "metadata": {
  "kernelspec": {
   "display_name": "Python 3.10.8 ('venv': venv)",
   "language": "python",
   "name": "python3"
  },
  "language_info": {
   "codemirror_mode": {
    "name": "ipython",
    "version": 3
   },
   "file_extension": ".py",
   "mimetype": "text/x-python",
   "name": "python",
   "nbconvert_exporter": "python",
   "pygments_lexer": "ipython3",
   "version": "3.10.8"
  },
  "orig_nbformat": 4,
  "vscode": {
   "interpreter": {
    "hash": "5652a68a482a1e90ced5dcbb8d22880790b6ab37bf812ad1c4d4e7f6cb30c547"
   }
  }
 },
 "nbformat": 4,
 "nbformat_minor": 2
}
