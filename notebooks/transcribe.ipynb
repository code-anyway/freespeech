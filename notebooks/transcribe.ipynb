{
 "cells": [
  {
   "cell_type": "code",
   "execution_count": 1,
   "metadata": {},
   "outputs": [],
   "source": [
    "WORKING_DIR = \"/tmp/freespeech/\""
   ]
  },
  {
   "cell_type": "code",
   "execution_count": 2,
   "metadata": {},
   "outputs": [],
   "source": [
    "!mkdir -p {WORKING_DIR}"
   ]
  },
  {
   "cell_type": "code",
   "execution_count": 4,
   "metadata": {},
   "outputs": [
    {
     "name": "stderr",
     "output_type": "stream",
     "text": [
      "Unsupported caption language: en-GB\n"
     ]
    }
   ],
   "source": [
    "from freespeech.lib import youtube, speech, media\n",
    "from freespeech.lib.storage import obj\n",
    "\n",
    "\n",
    "VIDEO_URL = \"https://www.youtube.com/watch?v=o1Y4Z0oh1GE\"\n",
    "LANGUAGE = \"en-US\"\n",
    "AUDIO_FILE = f\"{media.new_file(WORKING_DIR)}.wav\"\n",
    "VIDEO_FILE = f\"{media.new_file(WORKING_DIR)}.mp4\"\n",
    "\n",
    "\n",
    "audio_file, video_file, meta, subtitles = youtube.download(\n",
    "    url=VIDEO_URL,\n",
    "    output_dir=WORKING_DIR,\n",
    "    audio_filename=AUDIO_FILE,\n",
    "    video_filename=VIDEO_FILE,\n",
    ")\n",
    "\n",
    "\n",
    "audio_uri = await obj.put(audio_file, f\"gs://freespeech-tests/{audio_file.name}\")\n",
    "video_uri = await obj.put(video_file, f\"gs://freespeech-tests/{video_file.name}\")\n",
    "\n",
    "events = await speech.transcribe(uri=audio_uri, lang=LANGUAGE, provider=\"Azure\")\n"
   ]
  },
  {
   "cell_type": "code",
   "execution_count": 8,
   "metadata": {},
   "outputs": [],
   "source": [
    "from freespeech.lib import ssmd\n",
    "\n",
    "\n",
    "events_aligned = ssmd.align(events=list(events), threshold_ms=1_000)"
   ]
  },
  {
   "cell_type": "code",
   "execution_count": 11,
   "metadata": {},
   "outputs": [
    {
     "data": {
      "text/plain": [
       "'https://docs.google.com/document/d/1c1Bgwj_kwZ_3Qahvx4mKAAIUD0xLAXRf_d25S0nh3YU/edit#'"
      ]
     },
     "execution_count": 11,
     "metadata": {},
     "output_type": "execute_result"
    }
   ],
   "source": [
    "from freespeech.lib import gdocs\n",
    "\n",
    "\n",
    "gdocs.create_from_text(\n",
    "    title=f\"{LANGUAGE} {meta.title}\",\n",
    "    text=ssmd.render(events_aligned)\n",
    ")"
   ]
  },
  {
   "cell_type": "code",
   "execution_count": 9,
   "metadata": {},
   "outputs": [
    {
     "ename": "ValidationError",
     "evalue": "48 validation errors for Transcript\nevents -> 0 -> time_ms\n  value is not a valid integer (type=type_error.integer)\nevents -> 0 -> chunks\n  value is not a valid list (type=type_error.list)\nevents -> 0 -> duration_ms\n  value is not a valid integer (type=type_error.integer)\nevents -> 0 -> voice\n  instance of Voice, tuple or dict expected (type=type_error.dataclass; class_name=Voice)\nevents -> 1\n  Event.__init__() takes from 3 to 5 positional arguments but 7 were given (type=type_error)\nevents -> 2 -> time_ms\n  value is not a valid integer (type=type_error.integer)\nevents -> 2 -> chunks\n  value is not a valid list (type=type_error.list)\nevents -> 3 -> time_ms\n  value is not a valid integer (type=type_error.integer)\nevents -> 3 -> chunks\n  value is not a valid list (type=type_error.list)\nevents -> 3 -> duration_ms\n  value is not a valid integer (type=type_error.integer)\nevents -> 4 -> time_ms\n  value is not a valid integer (type=type_error.integer)\nevents -> 4 -> chunks\n  value is not a valid list (type=type_error.list)\nevents -> 4 -> duration_ms\n  value is not a valid integer (type=type_error.integer)\nevents -> 4 -> voice\n  instance of Voice, tuple or dict expected (type=type_error.dataclass; class_name=Voice)\nevents -> 5\n  Event.__init__() takes from 3 to 5 positional arguments but 11 were given (type=type_error)\nevents -> 6 -> time_ms\n  value is not a valid integer (type=type_error.integer)\nevents -> 6 -> chunks\n  value is not a valid list (type=type_error.list)\nevents -> 6 -> duration_ms\n  value is not a valid integer (type=type_error.integer)\nevents -> 6 -> voice\n  instance of Voice, tuple or dict expected (type=type_error.dataclass; class_name=Voice)\nevents -> 7\n  Event.__init__() missing 1 required positional argument: 'chunks' (type=type_error)\nevents -> 8 -> time_ms\n  value is not a valid integer (type=type_error.integer)\nevents -> 8 -> chunks\n  value is not a valid list (type=type_error.list)\nevents -> 9\n  Event.__init__() missing 1 required positional argument: 'chunks' (type=type_error)\nevents -> 10\n  Event.__init__() takes from 3 to 5 positional arguments but 8 were given (type=type_error)\nevents -> 11 -> time_ms\n  value is not a valid integer (type=type_error.integer)\nevents -> 11 -> chunks\n  value is not a valid list (type=type_error.list)\nevents -> 11 -> duration_ms\n  value is not a valid integer (type=type_error.integer)\nevents -> 11 -> voice\n  instance of Voice, tuple or dict expected (type=type_error.dataclass; class_name=Voice)\nevents -> 12 -> time_ms\n  value is not a valid integer (type=type_error.integer)\nevents -> 12 -> chunks\n  value is not a valid list (type=type_error.list)\nevents -> 13 -> time_ms\n  value is not a valid integer (type=type_error.integer)\nevents -> 13 -> chunks\n  value is not a valid list (type=type_error.list)\nevents -> 13 -> duration_ms\n  value is not a valid integer (type=type_error.integer)\nevents -> 14 -> time_ms\n  value is not a valid integer (type=type_error.integer)\nevents -> 14 -> chunks\n  value is not a valid list (type=type_error.list)\nevents -> 14 -> duration_ms\n  value is not a valid integer (type=type_error.integer)\nevents -> 14 -> voice\n  instance of Voice, tuple or dict expected (type=type_error.dataclass; class_name=Voice)\nevents -> 15 -> time_ms\n  value is not a valid integer (type=type_error.integer)\nevents -> 15 -> chunks\n  value is not a valid list (type=type_error.list)\nevents -> 15 -> duration_ms\n  value is not a valid integer (type=type_error.integer)\nevents -> 16\n  Event.__init__() takes from 3 to 5 positional arguments but 15 were given (type=type_error)\nevents -> 17\n  Event.__init__() missing 1 required positional argument: 'chunks' (type=type_error)\nevents -> 18\n  Event.__init__() missing 1 required positional argument: 'chunks' (type=type_error)\nevents -> 19\n  Event.__init__() missing 1 required positional argument: 'chunks' (type=type_error)\nevents -> 20\n  Event.__init__() missing 1 required positional argument: 'chunks' (type=type_error)\nevents -> 21 -> time_ms\n  value is not a valid integer (type=type_error.integer)\nevents -> 21 -> chunks\n  value is not a valid list (type=type_error.list)\nevents -> 21 -> duration_ms\n  value is not a valid integer (type=type_error.integer)",
     "output_type": "error",
     "traceback": [
      "\u001b[0;31m---------------------------------------------------------------------------\u001b[0m",
      "\u001b[0;31mValidationError\u001b[0m                           Traceback (most recent call last)",
      "Cell \u001b[0;32mIn [9], line 5\u001b[0m\n\u001b[1;32m      1\u001b[0m \u001b[39mfrom\u001b[39;00m \u001b[39mfreespeech\u001b[39;00m\u001b[39m.\u001b[39;00m\u001b[39mlib\u001b[39;00m \u001b[39mimport\u001b[39;00m gdocs\n\u001b[1;32m      2\u001b[0m \u001b[39mfrom\u001b[39;00m \u001b[39mfreespeech\u001b[39;00m\u001b[39m.\u001b[39;00m\u001b[39mtypes\u001b[39;00m \u001b[39mimport\u001b[39;00m Transcript, Source, Settings\n\u001b[1;32m      4\u001b[0m transcript_url \u001b[39m=\u001b[39m gdocs\u001b[39m.\u001b[39mcreate(\n\u001b[0;32m----> 5\u001b[0m     source\u001b[39m=\u001b[39mTranscript(\n\u001b[1;32m      6\u001b[0m         events\u001b[39m=\u001b[39;49mevents_aligned,\n\u001b[1;32m      7\u001b[0m         lang\u001b[39m=\u001b[39;49mLANGUAGE,\n\u001b[1;32m      8\u001b[0m         title\u001b[39m=\u001b[39;49m\u001b[39mf\u001b[39;49m\u001b[39m\"\u001b[39;49m\u001b[39m{\u001b[39;49;00mLANGUAGE\u001b[39m}\u001b[39;49;00m\u001b[39m \u001b[39;49m\u001b[39m{\u001b[39;49;00mmeta\u001b[39m.\u001b[39;49mtitle\u001b[39m}\u001b[39;49;00m\u001b[39m\"\u001b[39;49m,\n\u001b[1;32m      9\u001b[0m         source\u001b[39m=\u001b[39;49mSource(\n\u001b[1;32m     10\u001b[0m             method\u001b[39m=\u001b[39;49m\u001b[39m\"\u001b[39;49m\u001b[39mMachine C\u001b[39;49m\u001b[39m\"\u001b[39;49m,\n\u001b[1;32m     11\u001b[0m             url\u001b[39m=\u001b[39;49mVIDEO_URL,\n\u001b[1;32m     12\u001b[0m         ),\n\u001b[1;32m     13\u001b[0m         audio\u001b[39m=\u001b[39;49maudio_uri,\n\u001b[1;32m     14\u001b[0m         video\u001b[39m=\u001b[39;49mvideo_uri,\n\u001b[1;32m     15\u001b[0m         settings\u001b[39m=\u001b[39;49mSettings(),\n\u001b[1;32m     16\u001b[0m     ),\n\u001b[1;32m     17\u001b[0m     \u001b[39mformat\u001b[39m\u001b[39m=\u001b[39m\u001b[39m\"\u001b[39m\u001b[39mSSMD-LITE\u001b[39m\u001b[39m\"\u001b[39m,\n\u001b[1;32m     18\u001b[0m )\n",
      "File \u001b[0;32m~/code/freespeech/venv/lib/python3.10/site-packages/pydantic/dataclasses.py:313\u001b[0m, in \u001b[0;36mpydantic.dataclasses._add_pydantic_validation_attributes.new_init\u001b[0;34m()\u001b[0m\n",
      "File \u001b[0;32m~/code/freespeech/venv/lib/python3.10/site-packages/pydantic/dataclasses.py:416\u001b[0m, in \u001b[0;36mpydantic.dataclasses._dataclass_validate_values\u001b[0;34m()\u001b[0m\n",
      "\u001b[0;31mValidationError\u001b[0m: 48 validation errors for Transcript\nevents -> 0 -> time_ms\n  value is not a valid integer (type=type_error.integer)\nevents -> 0 -> chunks\n  value is not a valid list (type=type_error.list)\nevents -> 0 -> duration_ms\n  value is not a valid integer (type=type_error.integer)\nevents -> 0 -> voice\n  instance of Voice, tuple or dict expected (type=type_error.dataclass; class_name=Voice)\nevents -> 1\n  Event.__init__() takes from 3 to 5 positional arguments but 7 were given (type=type_error)\nevents -> 2 -> time_ms\n  value is not a valid integer (type=type_error.integer)\nevents -> 2 -> chunks\n  value is not a valid list (type=type_error.list)\nevents -> 3 -> time_ms\n  value is not a valid integer (type=type_error.integer)\nevents -> 3 -> chunks\n  value is not a valid list (type=type_error.list)\nevents -> 3 -> duration_ms\n  value is not a valid integer (type=type_error.integer)\nevents -> 4 -> time_ms\n  value is not a valid integer (type=type_error.integer)\nevents -> 4 -> chunks\n  value is not a valid list (type=type_error.list)\nevents -> 4 -> duration_ms\n  value is not a valid integer (type=type_error.integer)\nevents -> 4 -> voice\n  instance of Voice, tuple or dict expected (type=type_error.dataclass; class_name=Voice)\nevents -> 5\n  Event.__init__() takes from 3 to 5 positional arguments but 11 were given (type=type_error)\nevents -> 6 -> time_ms\n  value is not a valid integer (type=type_error.integer)\nevents -> 6 -> chunks\n  value is not a valid list (type=type_error.list)\nevents -> 6 -> duration_ms\n  value is not a valid integer (type=type_error.integer)\nevents -> 6 -> voice\n  instance of Voice, tuple or dict expected (type=type_error.dataclass; class_name=Voice)\nevents -> 7\n  Event.__init__() missing 1 required positional argument: 'chunks' (type=type_error)\nevents -> 8 -> time_ms\n  value is not a valid integer (type=type_error.integer)\nevents -> 8 -> chunks\n  value is not a valid list (type=type_error.list)\nevents -> 9\n  Event.__init__() missing 1 required positional argument: 'chunks' (type=type_error)\nevents -> 10\n  Event.__init__() takes from 3 to 5 positional arguments but 8 were given (type=type_error)\nevents -> 11 -> time_ms\n  value is not a valid integer (type=type_error.integer)\nevents -> 11 -> chunks\n  value is not a valid list (type=type_error.list)\nevents -> 11 -> duration_ms\n  value is not a valid integer (type=type_error.integer)\nevents -> 11 -> voice\n  instance of Voice, tuple or dict expected (type=type_error.dataclass; class_name=Voice)\nevents -> 12 -> time_ms\n  value is not a valid integer (type=type_error.integer)\nevents -> 12 -> chunks\n  value is not a valid list (type=type_error.list)\nevents -> 13 -> time_ms\n  value is not a valid integer (type=type_error.integer)\nevents -> 13 -> chunks\n  value is not a valid list (type=type_error.list)\nevents -> 13 -> duration_ms\n  value is not a valid integer (type=type_error.integer)\nevents -> 14 -> time_ms\n  value is not a valid integer (type=type_error.integer)\nevents -> 14 -> chunks\n  value is not a valid list (type=type_error.list)\nevents -> 14 -> duration_ms\n  value is not a valid integer (type=type_error.integer)\nevents -> 14 -> voice\n  instance of Voice, tuple or dict expected (type=type_error.dataclass; class_name=Voice)\nevents -> 15 -> time_ms\n  value is not a valid integer (type=type_error.integer)\nevents -> 15 -> chunks\n  value is not a valid list (type=type_error.list)\nevents -> 15 -> duration_ms\n  value is not a valid integer (type=type_error.integer)\nevents -> 16\n  Event.__init__() takes from 3 to 5 positional arguments but 15 were given (type=type_error)\nevents -> 17\n  Event.__init__() missing 1 required positional argument: 'chunks' (type=type_error)\nevents -> 18\n  Event.__init__() missing 1 required positional argument: 'chunks' (type=type_error)\nevents -> 19\n  Event.__init__() missing 1 required positional argument: 'chunks' (type=type_error)\nevents -> 20\n  Event.__init__() missing 1 required positional argument: 'chunks' (type=type_error)\nevents -> 21 -> time_ms\n  value is not a valid integer (type=type_error.integer)\nevents -> 21 -> chunks\n  value is not a valid list (type=type_error.list)\nevents -> 21 -> duration_ms\n  value is not a valid integer (type=type_error.integer)"
     ]
    }
   ],
   "source": [
    "from freespeech.lib import gdocs\n",
    "from freespeech.types import Transcript, Source, Settings\n",
    "\n",
    "transcript_url = gdocs.create(\n",
    "    source=Transcript(\n",
    "        events=events_aligned,\n",
    "        lang=LANGUAGE,\n",
    "        title=f\"{LANGUAGE} {meta.title}\",\n",
    "        source=Source(\n",
    "            method=\"Machine C\",\n",
    "            url=VIDEO_URL,\n",
    "        ),\n",
    "        audio=audio_uri,\n",
    "        video=video_uri,\n",
    "        settings=Settings(),\n",
    "    ),\n",
    "    format=\"SSMD-LITE\",\n",
    ")"
   ]
  },
  {
   "cell_type": "code",
   "execution_count": 20,
   "metadata": {},
   "outputs": [],
   "source": [
    "from freespeech.lib import gdocs\n",
    "\n",
    "\n",
    "title, text = gdocs.extract(\"https://docs.google.com/document/d/1c1Bgwj_kwZ_3Qahvx4mKAAIUD0xLAXRf_d25S0nh3YU/edit#\")"
   ]
  },
  {
   "cell_type": "code",
   "execution_count": 21,
   "metadata": {},
   "outputs": [],
   "source": [
    "from freespeech.lib import language\n",
    "\n",
    "\n",
    "events_pt = [language.translate_events(events, source=LANGUAGE, target=\"pt-PT\") for events in ssmd.parse(text)]"
   ]
  },
  {
   "cell_type": "code",
   "execution_count": 22,
   "metadata": {},
   "outputs": [
    {
     "data": {
      "text/plain": [
       "'https://docs.google.com/document/d/1I3Oh6JeC6V0cHVnSo347I4Ho-4QtAFmQhFDScVdbSFM/edit#'"
      ]
     },
     "execution_count": 22,
     "metadata": {},
     "output_type": "execute_result"
    }
   ],
   "source": [
    "gdocs.create_from_text(\n",
    "    title=f\"pt-PT {meta.title}\",\n",
    "    text=ssmd.render(events_pt)\n",
    ")"
   ]
  },
  {
   "cell_type": "code",
   "execution_count": 24,
   "metadata": {},
   "outputs": [
    {
     "data": {
      "text/plain": [
       "PosixPath('/tmp/freespeech/8f8eb204-750b-4903-a62f-3d7be02b577b.wav')"
      ]
     },
     "execution_count": 24,
     "metadata": {},
     "output_type": "execute_result"
    }
   ],
   "source": [
    "audio_file\n"
   ]
  },
  {
   "cell_type": "code",
   "execution_count": 27,
   "metadata": {},
   "outputs": [],
   "source": [
    "from freespeech.lib import media\n",
    "\n",
    "voiceover_file = \"/tmp/freespeech/52e1cb85-7a0e-485f-88f4-49940bf2a6e6.wav\"\n",
    "mixed_file = await media.mix(\n",
    "    [audio_file, voiceover_file], [1, 10],\n",
    "    output_dir=WORKING_DIR\n",
    ")\n",
    "\n",
    "dubbed_video = await media.dub(video=video_file, audio=mixed_file, output_dir=WORKING_DIR)"
   ]
  },
  {
   "cell_type": "code",
   "execution_count": 29,
   "metadata": {},
   "outputs": [
    {
     "data": {
      "text/plain": [
       "PosixPath('/tmp/freespeech/e801ef33-8ce4-4342-9870-5dcc2fe4a7fa.mp4')"
      ]
     },
     "execution_count": 29,
     "metadata": {},
     "output_type": "execute_result"
    }
   ],
   "source": [
    "dubbed_video"
   ]
  },
  {
   "cell_type": "code",
   "execution_count": null,
   "metadata": {},
   "outputs": [],
   "source": []
  }
 ],
 "metadata": {
  "kernelspec": {
   "display_name": "Python 3.10.8 ('venv': venv)",
   "language": "python",
   "name": "python3"
  },
  "language_info": {
   "codemirror_mode": {
    "name": "ipython",
    "version": 3
   },
   "file_extension": ".py",
   "mimetype": "text/x-python",
   "name": "python",
   "nbconvert_exporter": "python",
   "pygments_lexer": "ipython3",
   "version": "3.10.8"
  },
  "orig_nbformat": 4,
  "vscode": {
   "interpreter": {
    "hash": "5652a68a482a1e90ced5dcbb8d22880790b6ab37bf812ad1c4d4e7f6cb30c547"
   }
  }
 },
 "nbformat": 4,
 "nbformat_minor": 2
}
