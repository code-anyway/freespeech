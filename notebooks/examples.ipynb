{
 "cells": [
  {
   "cell_type": "markdown",
   "id": "71159715",
   "metadata": {},
   "source": [
    "# Setup"
   ]
  },
  {
   "cell_type": "code",
   "execution_count": null,
   "outputs": [],
   "source": [
    "from os import environ\n",
    "\n",
    "\n",
    "environ[\"GOOGLE_APPLICATION_CREDENTIALS\"] = \"/workspaces/freespeech/id/test-service-credentials.json\"\n",
    "environ[\"DEEPGRAM_TOKEN\"] = \"\"\n",
    "environ[\"NOTION_TOKEN\"] = \"\"\n",
    "\n",
    "OUTPUT_DIR = \"/workspaces/freespeech/output\""
   ],
   "metadata": {
    "collapsed": false,
    "pycharm": {
     "name": "#%%\n"
    }
   }
  },
  {
   "cell_type": "markdown",
   "source": [
    "# Download Video"
   ],
   "metadata": {
    "collapsed": false,
    "pycharm": {
     "name": "#%% md\n"
    }
   }
  },
  {
   "cell_type": "code",
   "execution_count": null,
   "outputs": [],
   "source": [
    "from freespeech.lib import youtube\n",
    "\n",
    "\n",
    "VIDEO_URL = \"https://youtu.be/bhRaND9jiOA\"\n",
    "audio_file, video_file, meta, subtitles = youtube.download(VIDEO_URL, output_dir=OUTPUT_DIR)"
   ],
   "metadata": {
    "collapsed": false,
    "pycharm": {
     "name": "#%%\n"
    }
   }
  },
  {
   "cell_type": "markdown",
   "source": [
    "# Cut Video"
   ],
   "metadata": {
    "collapsed": false,
    "pycharm": {
     "name": "#%% md\n"
    }
   }
  },
  {
   "cell_type": "code",
   "execution_count": null,
   "outputs": [],
   "source": [
    "from freespeech.lib import media\n",
    "\n",
    "\n",
    "START = '00:00:00'\n",
    "FINISH = '00:00:15'\n",
    "\n",
    "cut_audio_file = await media.cut(audio_file, start=START, finish=FINISH, output_dir=OUTPUT_DIR)\n",
    "cut_video_file = await media.cut(video_file, start=START, finish=FINISH, output_dir=OUTPUT_DIR)\n",
    "\n",
    "cut_video_with_audio_file = await media.dub(cut_video_file, cut_audio_file, output_dir=OUTPUT_DIR)"
   ],
   "metadata": {
    "collapsed": false,
    "pycharm": {
     "name": "#%%\n"
    }
   }
  },
  {
   "cell_type": "markdown",
   "source": [
    "# Load Transcript\n",
    "## From Notion Page"
   ],
   "metadata": {
    "collapsed": false,
    "pycharm": {
     "name": "#%% md\n"
    }
   }
  },
  {
   "cell_type": "code",
   "execution_count": null,
   "outputs": [],
   "source": [
    "from freespeech.lib import notion\n",
    "from freespeech.lib import language\n",
    "\n",
    "\n",
    "# Get the GUID from the share link in Notion for database and page\n",
    "database_id = \"\"\n",
    "target_page_id = \"\"\n",
    "\n",
    "target_transcript = await notion.get_transcript(target_page_id)"
   ],
   "metadata": {
    "collapsed": false,
    "pycharm": {
     "name": "#%%\n"
    }
   }
  },
  {
   "cell_type": "markdown",
   "source": [
    "# Transcribe"
   ],
   "metadata": {
    "collapsed": false,
    "pycharm": {
     "name": "#%% md\n"
    }
   }
  },
  {
   "cell_type": "code",
   "execution_count": null,
   "outputs": [],
   "source": [
    "from freespeech.lib import media, speech\n",
    "from freespeech.lib.storage import obj\n",
    "\n",
    "audio_file = cut_audio_file\n",
    "\n",
    "audio_file_mono = await media.multi_channel_audio_to_mono(audio_file, output_dir=OUTPUT_DIR)\n",
    "(audio_info, *_), _ = media.probe(audio_file_mono)\n",
    "\n",
    "audio_uri = f\"gs://freespeech-tests/transcribe/{audio_file_mono.name}\"\n",
    "await obj.put(audio_file_mono, audio_uri)\n",
    "\n",
    "transcript = await speech.transcribe(audio_uri, audio_info, \"ru-RU\", \"default\", provider=\"Deepgram\")\n",
    "normalized_events = speech.normalize_speech(transcript, gap_ms=2000, length=500)\n"
   ],
   "metadata": {
    "collapsed": false,
    "pycharm": {
     "name": "#%%\n"
    }
   }
  },
  {
   "cell_type": "markdown",
   "source": [
    "# Translate"
   ],
   "metadata": {
    "collapsed": false,
    "pycharm": {
     "name": "#%% md\n"
    }
   }
  },
  {
   "cell_type": "code",
   "execution_count": null,
   "outputs": [],
   "source": [
    "source_transcript = await notion.get_transcript(str(target_transcript.source))\n",
    "translated_events = language.translate_events(\n",
    "    source_transcript.events,\n",
    "    source=source_transcript.lang,\n",
    "    target=target_transcript.lang,\n",
    ")\n",
    "\n",
    "updated_transcript = await notion.put_transcript(\n",
    "    database_id=database_id, transcript=replace(target_transcript, events=translated_events)\n",
    ")"
   ],
   "metadata": {
    "collapsed": false,
    "pycharm": {
     "name": "#%%\n"
    }
   }
  }
 ],
 "metadata": {
  "interpreter": {
   "hash": "23393d2575091a37cff0d0e9e7479591a295495b26c3b2ebf9b64da572e02d85"
  },
  "kernelspec": {
   "display_name": "Python 3.10.4 64-bit",
   "language": "python",
   "name": "python3"
  },
  "language_info": {
   "codemirror_mode": {
    "name": "ipython",
    "version": 3
   },
   "file_extension": ".py",
   "mimetype": "text/x-python",
   "name": "python",
   "nbconvert_exporter": "python",
   "pygments_lexer": "ipython3",
   "version": "3.10.4"
  }
 },
 "nbformat": 4,
 "nbformat_minor": 5
}