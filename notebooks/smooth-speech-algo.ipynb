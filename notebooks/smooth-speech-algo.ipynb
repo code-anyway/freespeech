{
 "cells": [
  {
   "cell_type": "code",
   "execution_count": 66,
   "metadata": {},
   "outputs": [],
   "source": [
    "from freespeech.lib import gdocs\n",
    "\n",
    "\n",
    "transcript = gdocs.load(\"https://docs.google.com/document/d/1CXHCVOi4fARqSNH1SdsY4dLsqrxWXfP3Z437cQnmdmo/edit#\")"
   ]
  },
  {
   "cell_type": "code",
   "execution_count": 67,
   "metadata": {},
   "outputs": [
    {
     "data": {
      "text/plain": [
       "[Event(time_ms=170, chunks=['Привет всем! Как дела? Добро пожаловать на наш канал. #0.1#'], duration_ms=2460, voice=Voice(character='Alan', pitch=0.0, speech_rate=1.2)),\n",
       " Event(time_ms=2630, chunks=['Меня зовут Скотт Мосс. '], duration_ms=1220, voice=Voice(character='Alan', pitch=0.0, speech_rate=1.2)),\n",
       " Event(time_ms=3850, chunks=['В этом видео мы делаем кое-что слегка иначе. #0.2#'], duration_ms=3020, voice=Voice(character='Alan', pitch=0.0, speech_rate=1.2)),\n",
       " Event(time_ms=6870, chunks=['Я хотел немного кое-что поменять. '], duration_ms=1680, voice=Voice(character='Alan', pitch=0.0, speech_rate=1.2)),\n",
       " Event(time_ms=8550, chunks=['Я тут почувствовал небольшое вдохновение. '], duration_ms=1440, voice=Voice(character='Alan', pitch=0.0, speech_rate=1.2)),\n",
       " Event(time_ms=9990, chunks=['Пару дней назад у меня в гостях был мой друг, который работает инженером здесь, в Долине.'], duration_ms=3490, voice=Voice(character='Alan', pitch=0.0, speech_rate=1.2)),\n",
       " Event(time_ms=13480, chunks=['Он думал о том, чтобы открыть компанию и вот все это. #0.1#'], duration_ms=3190, voice=Voice(character='Alan', pitch=0.0, speech_rate=1.2)),\n",
       " Event(time_ms=16670, chunks=['Но у него нет никакого опыта, когда дело доходит до привлечения денег, общения с венчурными инвесторами и так далее. '], duration_ms=4280, voice=Voice(character='Alan', pitch=0.0, speech_rate=1.2)),\n",
       " Event(time_ms=20950, chunks=['Он сказал: \"Йо, Скотт, когда ты создавал свою компанию и тебе пришлось обращаться к венчурным инвесторам, просить денег, делать все это и собирать деньги. #0.5# На что был похож твой опыт? '], duration_ms=8590, voice=Voice(character='Alan', pitch=0.0, speech_rate=1.2)),\n",
       " Event(time_ms=29540, chunks=['Знаешь, какие были самые дикие истории, хорошие и плохие? Каждый раз, когда кто-то задает мне этот вопрос, я всегда вспоминаю один питч, который я сделал одному инвестору и была просто совсем странная атмосфера.'], duration_ms=12640, voice=Voice(character='Alan', pitch=0.0, speech_rate=1.2)),\n",
       " Event(time_ms=42180, chunks=['Это то, чего я никак не мог ожидать. '], duration_ms=1980, voice=Voice(character='Alan', pitch=0.0, speech_rate=1.2)),\n",
       " Event(time_ms=44160, chunks=['#0.5# Я подключился к зуму с этим человеком. И он появился, ну, знаете, опоздав почти на 10 минут, кажется. #0.1#'], duration_ms=5700, voice=Voice(character='Alan', pitch=0.0, speech_rate=1.2)),\n",
       " Event(time_ms=49860, chunks=['И потом он ответил на зум типа, в своей спальне. #0.1#'], duration_ms=3740, voice=Voice(character='Alan', pitch=0.0, speech_rate=1.2)),\n",
       " Event(time_ms=53600, chunks=['И я помню, первое, что я увидел, была огромная козявка у него в носу, типа. И я, такой думаю: как ты не почувствовал эту козявку в носу? #0.4#'], duration_ms=8460, voice=Voice(character='Alan', pitch=0.0, speech_rate=1.2)),\n",
       " Event(time_ms=62060, chunks=['Я не знаю. Это было очень странно.'], duration_ms=2070, voice=Voice(character='Alan', pitch=0.0, speech_rate=1.2)),\n",
       " Event(time_ms=64130, chunks=['И да, дальше все стало еще безумнее. '], duration_ms=2870, voice=Voice(character='Alan', pitch=0.0, speech_rate=1.2)),\n",
       " Event(time_ms=67000, chunks=['Так что, знаете, все происходило примерно так.'], duration_ms=4000, voice=Voice(character='Alan', pitch=0.0, speech_rate=1.2)),\n",
       " Event(time_ms=92770, chunks=['Давай, выложись! Приведи нервы в порядок!'], duration_ms=2710, voice=Voice(character='Alan', pitch=0.0, speech_rate=1.2)),\n",
       " Event(time_ms=95480, chunks=['Ты умный. #0.1#'], duration_ms=1060, voice=Voice(character='Alan', pitch=0.0, speech_rate=1.2)),\n",
       " Event(time_ms=96540, chunks=['Ты ценный. #0.1#'], duration_ms=1160, voice=Voice(character='Alan', pitch=0.0, speech_rate=1.2)),\n",
       " Event(time_ms=97700, chunks=['Ты сделаешь это! OK. #0.5#'], duration_ms=2540, voice=Voice(character='Alan', pitch=0.0, speech_rate=1.2)),\n",
       " Event(time_ms=100240, chunks=['Позже.'], duration_ms=5840, voice=Voice(character='Alonzo', pitch=0.0, speech_rate=1.0)),\n",
       " Event(time_ms=106080, chunks=['Еще позже.'], duration_ms=4820, voice=Voice(character='Alonzo', pitch=0.0, speech_rate=1.0)),\n",
       " Event(time_ms=110900, chunks=['Двенадцать секунд спустя.'], duration_ms=15970, voice=Voice(character='Alonzo', pitch=0.0, speech_rate=1.0)),\n",
       " Event(time_ms=126870, chunks=['Еще несколько мгновений спустя.'], duration_ms=4250, voice=Voice(character='Alonzo', pitch=0.0, speech_rate=1.0)),\n",
       " Event(time_ms=131120, chunks=['Привет, Скотт. '], duration_ms=800, voice=Voice(character='Bill', pitch=0.0, speech_rate=1.2)),\n",
       " Event(time_ms=131920, chunks=['Спасибо, что присоединился к разговору. #2.8#'], duration_ms=6010, voice=Voice(character='Bill', pitch=0.0, speech_rate=1.2)),\n",
       " Event(time_ms=137930, chunks=['Эй. '], duration_ms=530, voice=Voice(character='Bill', pitch=0.0, speech_rate=1.2)),\n",
       " Event(time_ms=138460, chunks=['Привет, Скотт.'], duration_ms=2200, voice=Voice(character='Bill', pitch=0.0, speech_rate=1.2)),\n",
       " Event(time_ms=140660, chunks=['Я тебя не слышу. '], duration_ms=740, voice=Voice(character='Bill', pitch=0.0, speech_rate=1.2)),\n",
       " Event(time_ms=141400, chunks=['Скотт. '], duration_ms=680, voice=Voice(character='Bill', pitch=0.0, speech_rate=1.2)),\n",
       " Event(time_ms=142080, chunks=['Скотт, я тебя сейчас не слышу. '], duration_ms=2000, voice=Voice(character='Bill', pitch=0.0, speech_rate=1.2)),\n",
       " Event(time_ms=144080, chunks=['Ты на мьюте. '], duration_ms=540, voice=Voice(character='Bill', pitch=0.0, speech_rate=1.2)),\n",
       " Event(time_ms=144620, chunks=['Ты можешь включить микрофон? #0.1#'], duration_ms=1240, voice=Voice(character='Bill', pitch=0.0, speech_rate=1.2)),\n",
       " Event(time_ms=145860, chunks=['Я тебя не слышу. '], duration_ms=860, voice=Voice(character='Bill', pitch=0.0, speech_rate=1.2)),\n",
       " Event(time_ms=146720, chunks=['Я не уловил ничего из того, что ты только что сказал. #0.5# Потому что ты был на мьюте. #0.6#'], duration_ms=5960, voice=Voice(character='Bill', pitch=0.0, speech_rate=1.2)),\n",
       " Event(time_ms=152680, chunks=['Так что если у тебя есть вопросы по поводу того, что я только что сказал, мы можем ответить на них после звонка. #0.6#'], duration_ms=6040, voice=Voice(character='Alan', pitch=0.0, speech_rate=1.2)),\n",
       " Event(time_ms=158720, chunks=['Да. '], duration_ms=550, voice=Voice(character='Bill', pitch=0.0, speech_rate=1.2)),\n",
       " Event(time_ms=159270, chunks=['Да, хорошо. #0.1#'], duration_ms=870, voice=Voice(character='Bill', pitch=0.0, speech_rate=1.2)),\n",
       " Event(time_ms=160140, chunks=['Да, конечно. #0.1#'], duration_ms=860, voice=Voice(character='Bill', pitch=0.0, speech_rate=1.2)),\n",
       " Event(time_ms=161000, chunks=['Да, у меня есть вопросы, но я оставлю их на потом. '], duration_ms=2340, voice=Voice(character='Bill', pitch=0.0, speech_rate=1.2)),\n",
       " Event(time_ms=163340, chunks=['Да, ничего особенного. #16.0#'], duration_ms=17120, voice=Voice(character='Bill', pitch=0.0, speech_rate=1.2)),\n",
       " Event(time_ms=180460, chunks=['Если это будет полезно, я могу рассказать о своей биографии, прежде чем мы перейдем к тому, что мы с командой создали. Как тебе это, Скотт? #0.1#'], duration_ms=9400, voice=Voice(character='Bill', pitch=0.0, speech_rate=1.2)),\n",
       " Event(time_ms=189860, chunks=['Конечно, почему бы и нет? #0.4#'], duration_ms=2000, voice=Voice(character='Alan', pitch=0.0, speech_rate=1.2)),\n",
       " Event(time_ms=191860, chunks=['Итак, я учился в Технологическом институте Джорджии, чтобы получить степень по информатике, и прекрасно провел время. И, знаете, переезд в Джорджию так сильно отличался от того, как я вырос здесь, в Беркли, понимаете. Там все просто... Другой образ жизни. #0.1#'], duration_ms=12280, voice=Voice(character='Bill', pitch=0.0, speech_rate=1.2)),\n",
       " Event(time_ms=204140, chunks=['Но, чувак, я вот что скажу: я отлично провел время в Georgia Tech и что программа была...'], duration_ms=3860, voice=Voice(character='Bill', pitch=0.0, speech_rate=1.2)),\n",
       " Event(time_ms=208000, chunks=['Ты сказал, Джорджия Тек?'], duration_ms=2640, voice=Voice(character='Alan', pitch=0.0, speech_rate=1.2)),\n",
       " Event(time_ms=210640, chunks=['Такое безумное совпадение. '], duration_ms=1700, voice=Voice(character='Alan', pitch=0.0, speech_rate=1.2)),\n",
       " Event(time_ms=212340, chunks=['Забавная история.'], duration_ms=1020, voice=Voice(character='Alan', pitch=0.0, speech_rate=1.2)),\n",
       " Event(time_ms=213360, chunks=['Мой маленький кузен, знаешь, мы называем его \"проблемным кузеном\". '], duration_ms=3020, voice=Voice(character='Alan', pitch=0.0, speech_rate=1.2)),\n",
       " Event(time_ms=216380, chunks=['Знаешь, у каждого есть двоюродные братья, которые, там, попали в тюрьму или, там, занимались сомнительными делами.'], duration_ms=5340, voice=Voice(character='Alan', pitch=0.0, speech_rate=1.2)),\n",
       " Event(time_ms=221720, chunks=['Короче, после получения аттестата зрелости, после нескольких попыток, он поступил в Технологический институт Джорджии. '], duration_ms=4880, voice=Voice(character='Alan', pitch=0.0, speech_rate=1.2)),\n",
       " Event(time_ms=226600, chunks=['Похоже, что в наши дни в эту школу пускают всех подряд, верно? #1.0#'], duration_ms=4650, voice=Voice(character='Alan', pitch=0.0, speech_rate=1.2)),\n",
       " Event(time_ms=231250, chunks=['Это была сложная программа, понимаешь? '], duration_ms=1550, voice=Voice(character='Bill', pitch=0.0, speech_rate=1.2)),\n",
       " Event(time_ms=232800, chunks=['Я сделал все возможное. #0.3#'], duration_ms=1640, voice=Voice(character='Bill', pitch=0.0, speech_rate=1.2)),\n",
       " Event(time_ms=234440, chunks=['Давай вернемся к продукту. '], duration_ms=1040, voice=Voice(character='Alan', pitch=0.0, speech_rate=1.2)),\n",
       " Event(time_ms=235480, chunks=['Расскажи подробнее. '], duration_ms=850, voice=Voice(character='Alan', pitch=0.0, speech_rate=1.2)),\n",
       " Event(time_ms=236330, chunks=['Знаешь, я прочитал слайды. '], duration_ms=1230, voice=Voice(character='Alan', pitch=0.0, speech_rate=1.2)),\n",
       " Event(time_ms=237560, chunks=['Кажется, это очень интересно. #0.1#'], duration_ms=1480, voice=Voice(character='Alan', pitch=0.0, speech_rate=1.2)),\n",
       " Event(time_ms=239040, chunks=['Знаешь, судя по всему, вы создаете Airbnb для одежды, верно? #1.6#'], duration_ms=6640, voice=Voice(character='Alan', pitch=0.0, speech_rate=1.2)),\n",
       " Event(time_ms=245680, chunks=['Хм. Да, хорошо. '], duration_ms=2200, voice=Voice(character='Alan', pitch=0.0, speech_rate=1.2)),\n",
       " Event(time_ms=247880, chunks=['Но я бы не описал это именно так. Мы больше похожи на торговую площадку и дэшборд, которые позволяют людям получать прибыль от высокой моды, которая сейчас очень популярна. И мы берем долю с каждой сделки, как и традиционный рынок. #0.1#'], duration_ms=17540, voice=Voice(character='Alan', pitch=0.0, speech_rate=1.2)),\n",
       " Event(time_ms=265420, chunks=['Ооо. #0.1#'], duration_ms=920, voice=Voice(character='Bill', pitch=0.0, speech_rate=1.2)),\n",
       " Event(time_ms=266340, chunks=['Ладно, ладно, я понял. '], duration_ms=1320, voice=Voice(character='Alan', pitch=0.0, speech_rate=1.2)),\n",
       " Event(time_ms=267660, chunks=['Прости, виноват, виноват. #0.1#'], duration_ms=1780, voice=Voice(character='Alan', pitch=0.0, speech_rate=1.2)),\n",
       " Event(time_ms=269440, chunks=['На самом деле вы больше похожи на Stripe, но для одежды, верно?'], duration_ms=4800, voice=Voice(character='Alan', pitch=0.0, speech_rate=1.2)),\n",
       " Event(time_ms=274240, chunks=['Опять-таки. #0.5# Не совсем то, что мы делаем, как таковое, но, знаете, для экономии времени, давай просто двигаться дальше.'], duration_ms=14960, voice=Voice(character='Bill', pitch=0.0, speech_rate=1.2)),\n",
       " Event(time_ms=289200, chunks=['Да. '], duration_ms=460, voice=Voice(character='Alan', pitch=0.0, speech_rate=1.2)),\n",
       " Event(time_ms=289660, chunks=['Знаешь что?'], duration_ms=1100, voice=Voice(character='Alan', pitch=0.0, speech_rate=1.2)),\n",
       " Event(time_ms=290760, chunks=['Я думаю, я увидел достаточно. '], duration_ms=1070, voice=Voice(character='Alan', pitch=0.0, speech_rate=1.2)),\n",
       " Event(time_ms=291830, chunks=['Спасибо, что рассказал о продукте и все такое. '], duration_ms=3610, voice=Voice(character='Alan', pitch=0.0, speech_rate=1.2)),\n",
       " Event(time_ms=295440, chunks=['Звучит очень круто. #0.7#'], duration_ms=2120, voice=Voice(character='Alan', pitch=0.0, speech_rate=1.2)),\n",
       " Event(time_ms=297560, chunks=['Как я уже сказал, в конце у тебя будет время, чтобы задать мне любые вопросы, хорошо? #0.4#'], duration_ms=4440, voice=Voice(character='Alan', pitch=0.0, speech_rate=1.2)),\n",
       " Event(time_ms=302000, chunks=['У вас есть ко мне вопросы? #0.2#'], duration_ms=1940, voice=Voice(character='Alan', pitch=0.0, speech_rate=1.2)),\n",
       " Event(time_ms=303940, chunks=['О, да. '], duration_ms=640, voice=Voice(character='Bill', pitch=0.0, speech_rate=1.2)),\n",
       " Event(time_ms=304580, chunks=['На самом деле, у меня есть несколько вопросов.'], duration_ms=2780, voice=Voice(character='Bill', pitch=0.0, speech_rate=1.2)),\n",
       " Event(time_ms=307360, chunks=['Первый - самый важный. #0.5#'], duration_ms=2600, voice=Voice(character='Bill', pitch=0.0, speech_rate=1.2)),\n",
       " Event(time_ms=309960, chunks=['Каков процесс? '], duration_ms=1090, voice=Voice(character='Bill', pitch=0.0, speech_rate=1.2)),\n",
       " Event(time_ms=311050, chunks=['Да, круто. '], duration_ms=930, voice=Voice(character='Alan', pitch=0.0, speech_rate=1.2)),\n",
       " Event(time_ms=311980, chunks=['Да. '], duration_ms=260, voice=Voice(character='Alan', pitch=0.0, speech_rate=1.2)),\n",
       " Event(time_ms=312240, chunks=['Так что просто перешли мне эти вопросы. #0.9#'], duration_ms=2870, voice=Voice(character='Alan', pitch=0.0, speech_rate=1.2)),\n",
       " Event(time_ms=315110, chunks=['Которые у тебя есть. '], duration_ms=800, voice=Voice(character='Alan', pitch=0.0, speech_rate=1.2)),\n",
       " Event(time_ms=315910, chunks=['И, знаешь, я думаю, что это интересный продукт. '], duration_ms=2040, voice=Voice(character='Alan', pitch=0.0, speech_rate=1.2)),\n",
       " Event(time_ms=317950, chunks=['Ты знаешь, мы любим этот рынок, и вы должны услышать о нас очень скоро. #0.2#'], duration_ms=6360, voice=Voice(character='Alan', pitch=0.0, speech_rate=1.2)),\n",
       " Event(time_ms=324310, chunks=['Береги себя. #2.8#'], duration_ms=5450, voice=Voice(character='Alan', pitch=0.0, speech_rate=1.2)),\n",
       " Event(time_ms=329760, chunks=['Хлопнул дверью прямо у меня перед носом. '], duration_ms=1610, voice=Voice(character='Bill', pitch=0.0, speech_rate=1.2)),\n",
       " Event(time_ms=331370, chunks=['Окей. #0.1#'], duration_ms=1310, voice=Voice(character='Bill', pitch=0.0, speech_rate=1.2)),\n",
       " Event(time_ms=332680, chunks=['Да. #1.8#'], duration_ms=2680, voice=Voice(character='Bill', pitch=0.0, speech_rate=1.2)),\n",
       " Event(time_ms=335360, chunks=['Было приятно пообщаться с вами.'], duration_ms=2650, voice=Voice(character='Bill', pitch=0.0, speech_rate=1.2)),\n",
       " Event(time_ms=338010, chunks=['Oкей. #5.4#'], duration_ms=5880, voice=Voice(character='Bill', pitch=0.0, speech_rate=1.2)),\n",
       " Event(time_ms=343890, chunks=['Уже? Oкей. #2.5#'], duration_ms=4520, voice=Voice(character='Bill', pitch=0.0, speech_rate=1.2)),\n",
       " Event(time_ms=348410, chunks=['Давай посмотрим. #1.2#'], duration_ms=3190, voice=Voice(character='Bill', pitch=0.0, speech_rate=1.2)),\n",
       " Event(time_ms=351600, chunks=['Еще раз спасибо, что встретился с нами. #0.3#'], duration_ms=1960, voice=Voice(character='Bill', pitch=0.0, speech_rate=1.2)),\n",
       " Event(time_ms=353560, chunks=['Мы считаем что ты и команда - потрясающие, и мы очень впечатлены вашими достижениями и успехами. '], duration_ms=5060, voice=Voice(character='Bill', pitch=0.0, speech_rate=1.2)),\n",
       " Event(time_ms=358620, chunks=['Спасибо-спасибо. #0.9#'], duration_ms=1920, voice=Voice(character='Bill', pitch=0.0, speech_rate=1.2)),\n",
       " Event(time_ms=360540, chunks=['Нам интересно финансировать продукты в этой области. #0.1#'], duration_ms=3000, voice=Voice(character='Bill', pitch=0.0, speech_rate=1.2)),\n",
       " Event(time_ms=363540, chunks=['Oкей. '], duration_ms=600, voice=Voice(character='Bill', pitch=0.0, speech_rate=1.2)),\n",
       " Event(time_ms=364140, chunks=['Да. #1.2#'], duration_ms=3180, voice=Voice(character='Bill', pitch=0.0, speech_rate=1.2)),\n",
       " Event(time_ms=367320, chunks=['Однако, Окей. #1.6#'], duration_ms=3150, voice=Voice(character='Bill', pitch=0.0, speech_rate=1.2)),\n",
       " Event(time_ms=370470, chunks=['Мы решили не финансировать ваш продукт.'], duration_ms=4240, voice=Voice(character='Bill', pitch=0.0, speech_rate=1.2)),\n",
       " Event(time_ms=374710, chunks=['Такие вот дела. '], duration_ms=630, voice=Voice(character='Bill', pitch=0.0, speech_rate=1.2)),\n",
       " Event(time_ms=375340, chunks=['Надеюсь, вы понимаете. '], duration_ms=1100, voice=Voice(character='Bill', pitch=0.0, speech_rate=1.2)),\n",
       " Event(time_ms=376440, chunks=['Ну и, дайте мне знать, чем я могу помочь. #0.8#'], duration_ms=2990, voice=Voice(character='Bill', pitch=0.0, speech_rate=1.2)),\n",
       " Event(time_ms=379430, chunks=['Кроме того, не знаешь ли ты кого-нибудь еще в этом сегменте, кто создает крутые вещи?'], duration_ms=5420, voice=Voice(character='Bill', pitch=0.0, speech_rate=1.2)),\n",
       " Event(time_ms=384850, chunks=['Если да, не мог бы ты нас представить? #14.3#'], duration_ms=16170, voice=Voice(character='Bill', pitch=0.0, speech_rate=1.2)),\n",
       " Event(time_ms=401020, chunks=['Круто. '], duration_ms=420, voice=Voice(character='Alan', pitch=0.0, speech_rate=1.2)),\n",
       " Event(time_ms=401440, chunks=['Если вам понравилось, пожалуйста, оставьте лайк, подпишитесь на новые выпуски. '], duration_ms=3340, voice=Voice(character='Alan', pitch=0.0, speech_rate=1.2)),\n",
       " Event(time_ms=404780, chunks=['Определенно буду снимать больше контента. #0.4#'], duration_ms=2560, voice=Voice(character='Alan', pitch=0.0, speech_rate=1.2)),\n",
       " Event(time_ms=407340, chunks=['У нас много всего происходит, и мы все очень увлечены этим. #0.1#'], duration_ms=4920, voice=Voice(character='Alan', pitch=0.0, speech_rate=1.2)),\n",
       " Event(time_ms=412260, chunks=['У меня есть много вещей, о которых я хочу поговорить. '], duration_ms=1980, voice=Voice(character='Alan', pitch=0.0, speech_rate=1.2)),\n",
       " Event(time_ms=414240, chunks=['Так что, как всегда, пишите в комментарии, если вы хотите что-то увидеть, и о чем бы вы хотели, чтобы я рассказал, или найдите меня в Twitter. '], duration_ms=6500, voice=Voice(character='Alan', pitch=0.0, speech_rate=1.2)),\n",
       " Event(time_ms=420740, chunks=['Я постоянно общаюсь с людьми по поводу различных вещей, над которыми я могу работать. '], duration_ms=3380, voice=Voice(character='Alan', pitch=0.0, speech_rate=1.2)),\n",
       " Event(time_ms=424120, chunks=['Так что, я здесь. '], duration_ms=1880, voice=Voice(character='Alan', pitch=0.0, speech_rate=1.2)),\n",
       " Event(time_ms=426000, chunks=['Вы знаете, я стараюсь создавать вещи, которые будут полезными, образовательными, а также развлекательными. Так что дайте мне знать. А пока - до скорого. Мир всем!'], duration_ms=10000, voice=Voice(character='Alan', pitch=0.0, speech_rate=1.2))]"
      ]
     },
     "execution_count": 67,
     "metadata": {},
     "output_type": "execute_result"
    }
   ],
   "source": [
    "transcript.events"
   ]
  },
  {
   "cell_type": "code",
   "execution_count": 103,
   "metadata": {},
   "outputs": [
    {
     "name": "stdout",
     "output_type": "stream",
     "text": [
      "[0, 50, 50]\n"
     ]
    },
    {
     "data": {
      "text/plain": [
       "[Interval(speech_ms=1050, rate=0.9523809523809523, character='Alan', outline=['Hello.', 50, 'World!', 50, 'How are you?', 50])]"
      ]
     },
     "execution_count": 103,
     "metadata": {},
     "output_type": "execute_result"
    }
   ],
   "source": [
    "import re\n",
    "from itertools import zip_longest\n",
    "\n",
    "from dataclasses import dataclass\n",
    "from tempfile import TemporaryDirectory\n",
    "from freespeech.types import Character, Event, Language\n",
    "from freespeech.lib import text, speech, audio, media\n",
    "\n",
    "\n",
    "@dataclass(frozen=True)\n",
    "class Interval:\n",
    "    speech_ms: int\n",
    "    rate: float\n",
    "    character: Character\n",
    "    outline: list[str | int]\n",
    "\n",
    "\n",
    "def merge(a: Interval, b: Interval) -> Interval:\n",
    "    speech_ms = a.speech_ms + b.speech_ms\n",
    "    rate = (a.rate * a.speech_ms + b.rate * b.speech_ms) / speech_ms\n",
    "\n",
    "    if a.character != b.character:\n",
    "        raise ValueError(f\"character in a and b should be the same\")\n",
    "\n",
    "    return Interval(\n",
    "        speech_ms=speech_ms,\n",
    "        rate=rate,\n",
    "        outline=a.outline + b.outline,\n",
    "        character=a.character\n",
    "    )\n",
    "\n",
    "\n",
    "def adjust(interval: Interval, target_rate: float, min_pause_ms: int) -> Interval:\n",
    "    \"\"\"Brings speech rate and pauses of an interval to match target speech rate.\n",
    "\n",
    "    Args:\n",
    "        interval: Speech interval.\n",
    "        target_rate: Target speech rate.\n",
    "        min_pause_ms: Minimum duration of a pause in milliseconds.\n",
    "\n",
    "    Returns:\n",
    "        New speech interval with speech rate as close to target_rate as possible\n",
    "        while retaining minimum pauses.\n",
    "    \"\"\"\n",
    "    original_pauses = [unit for unit in interval.outline if isinstance(unit, int)]\n",
    "    original_silence_ms = sum(original_pauses)\n",
    "    min_silence_ms = len(original_pauses) * min_pause_ms\n",
    "\n",
    "    target_scale_factor = interval.rate / target_rate\n",
    "    speech_ms = round(interval.speech_ms * target_scale_factor)\n",
    "    silence_ms = max(min_silence_ms, original_silence_ms + interval.speech_ms - speech_ms)\n",
    "    \n",
    "    pauses = [min_pause_ms] * len(original_pauses)\n",
    "    pause_budget = silence_ms - sum(pauses)\n",
    "    deltas = [original - new if original > new else 0 for original, new in zip(original_pauses, pauses)]\n",
    "    pause_scale_factor = pause_budget / sum(deltas) if sum(deltas) != 0 else 0\n",
    "    print(deltas)\n",
    "    # Not rounding to avoid overflowing pauses due to rounding error which may result in longer\n",
    "    # synthesized clips than necessary.\n",
    "    pauses = (int(pause + delta * pause_scale_factor) for pause, delta in zip(pauses, deltas))\n",
    "\n",
    "    outline = [unit if isinstance(unit, str) else next(pauses) for unit in interval.outline]\n",
    "\n",
    "    speech_ms = interval.speech_ms + (original_silence_ms - silence_ms)\n",
    "    scale_factor = interval.speech_ms / speech_ms\n",
    "    rate = interval.rate * scale_factor\n",
    "\n",
    "    return Interval(\n",
    "        speech_ms=speech_ms,\n",
    "        rate=rate,\n",
    "        character=interval.character,\n",
    "        outline=outline,\n",
    "    )\n",
    "\n",
    "\n",
    "def get_outline(s: str, sentence_pause_ms: int, lang: Language) -> list[str | int]:\n",
    "    split = re.split(r\"#(\\d+(\\.\\d+)?)#\", s)\n",
    "    outline = [\n",
    "        [\n",
    "            *sum([[sentence_pause_ms, sentence] for sentence in text.sentences(s.strip(), lang=lang)], []),\n",
    "            round((float(pause) if pause else 0.0) * 1000)\n",
    "        ] for s, pause in zip_longest(split[0::3], split[1::3], fillvalue=\"\")\n",
    "        if s or pause\n",
    "    ]\n",
    "\n",
    "    return [item for item in sum(outline, []) if item]\n",
    "\n",
    "\n",
    "async def get_interval(event: Event, sentence_pause_ms: int, lang: Language) -> Interval:\n",
    "    paragraph = \" \".join(event.chunks)\n",
    "    outline = get_outline(paragraph, sentence_pause_ms=sentence_pause_ms, lang=lang)\n",
    "    with TemporaryDirectory() as tmp_dir:\n",
    "        clips = [\n",
    "            audio.strip((await speech.synthesize_text(\n",
    "                text=chunk,\n",
    "                duration_ms=None,\n",
    "                voice=event.voice,\n",
    "                lang=lang,\n",
    "                output_dir=tmp_dir\n",
    "            ))[0]) if isinstance(chunk, str) else chunk\n",
    "            for chunk in outline\n",
    "        ]\n",
    "        speech_ms = sum(media.audio_duration(clip) for clip in clips if not isinstance(clip, int))\n",
    "        silence_ms = sum(clip for clip in clips if isinstance(clip, int))\n",
    "        rate = event.voice.speech_rate\n",
    "        character = event.voice.character\n",
    "\n",
    "    scale_factor = event.duration_ms / (speech_ms + silence_ms)\n",
    "    outline = [int(item * scale_factor) if isinstance(item, int) else item for item in outline]\n",
    "    silence_ms = sum(item for item in outline if isinstance(item, int))\n",
    "\n",
    "    interval = Interval(\n",
    "        speech_ms=event.duration_ms - silence_ms,\n",
    "        rate=rate / scale_factor,\n",
    "        character=character,\n",
    "        outline=outline\n",
    "    )\n",
    "\n",
    "    return adjust(interval, target_rate=event.voice.speech_rate, min_pause_ms=sentence_pause_ms)\n",
    "\n",
    "intervals = [\n",
    "    Interval(speech_ms=1000, rate=1.0, character=\"Alan\", outline=[\"Hello.\", 0, \"World!\", 100, \"How are you?\", 100])\n",
    "]\n",
    "\n",
    "[adjust(interval, target_rate=0.5, min_pause_ms=50) for interval in intervals]\n"
   ]
  },
  {
   "cell_type": "code",
   "execution_count": 86,
   "metadata": {},
   "outputs": [
    {
     "ename": "ZeroDivisionError",
     "evalue": "float division by zero",
     "output_type": "error",
     "traceback": [
      "\u001b[0;31m---------------------------------------------------------------------------\u001b[0m",
      "\u001b[0;31mZeroDivisionError\u001b[0m                         Traceback (most recent call last)",
      "Cell \u001b[0;32mIn [86], line 5\u001b[0m\n\u001b[1;32m      1\u001b[0m intervals \u001b[38;5;241m=\u001b[39m [\n\u001b[1;32m      2\u001b[0m     Interval(speech_ms\u001b[38;5;241m=\u001b[39m\u001b[38;5;241m1000\u001b[39m, rate\u001b[38;5;241m=\u001b[39m\u001b[38;5;241m1.0\u001b[39m, character\u001b[38;5;241m=\u001b[39m\u001b[38;5;124m\"\u001b[39m\u001b[38;5;124mAlan\u001b[39m\u001b[38;5;124m\"\u001b[39m, outline\u001b[38;5;241m=\u001b[39m[\u001b[38;5;124m\"\u001b[39m\u001b[38;5;124mHello\u001b[39m\u001b[38;5;124m\"\u001b[39m, \u001b[38;5;241m0\u001b[39m, \u001b[38;5;124m\"\u001b[39m\u001b[38;5;124mworld!\u001b[39m\u001b[38;5;124m\"\u001b[39m])\n\u001b[1;32m      3\u001b[0m ]\n\u001b[0;32m----> 5\u001b[0m [adjust(interval, target_rate\u001b[38;5;241m=\u001b[39m\u001b[38;5;241m1.0\u001b[39m, min_pause_ms\u001b[38;5;241m=\u001b[39m\u001b[38;5;241m50\u001b[39m) \u001b[38;5;28;01mfor\u001b[39;00m interval \u001b[38;5;129;01min\u001b[39;00m intervals]\n",
      "Cell \u001b[0;32mIn [86], line 5\u001b[0m, in \u001b[0;36m<listcomp>\u001b[0;34m(.0)\u001b[0m\n\u001b[1;32m      1\u001b[0m intervals \u001b[38;5;241m=\u001b[39m [\n\u001b[1;32m      2\u001b[0m     Interval(speech_ms\u001b[38;5;241m=\u001b[39m\u001b[38;5;241m1000\u001b[39m, rate\u001b[38;5;241m=\u001b[39m\u001b[38;5;241m1.0\u001b[39m, character\u001b[38;5;241m=\u001b[39m\u001b[38;5;124m\"\u001b[39m\u001b[38;5;124mAlan\u001b[39m\u001b[38;5;124m\"\u001b[39m, outline\u001b[38;5;241m=\u001b[39m[\u001b[38;5;124m\"\u001b[39m\u001b[38;5;124mHello\u001b[39m\u001b[38;5;124m\"\u001b[39m, \u001b[38;5;241m0\u001b[39m, \u001b[38;5;124m\"\u001b[39m\u001b[38;5;124mworld!\u001b[39m\u001b[38;5;124m\"\u001b[39m])\n\u001b[1;32m      3\u001b[0m ]\n\u001b[0;32m----> 5\u001b[0m [\u001b[43madjust\u001b[49m\u001b[43m(\u001b[49m\u001b[43minterval\u001b[49m\u001b[43m,\u001b[49m\u001b[43m \u001b[49m\u001b[43mtarget_rate\u001b[49m\u001b[38;5;241;43m=\u001b[39;49m\u001b[38;5;241;43m1.0\u001b[39;49m\u001b[43m,\u001b[49m\u001b[43m \u001b[49m\u001b[43mmin_pause_ms\u001b[49m\u001b[38;5;241;43m=\u001b[39;49m\u001b[38;5;241;43m50\u001b[39;49m\u001b[43m)\u001b[49m \u001b[38;5;28;01mfor\u001b[39;00m interval \u001b[38;5;129;01min\u001b[39;00m intervals]\n",
      "Cell \u001b[0;32mIn [84], line 52\u001b[0m, in \u001b[0;36madjust\u001b[0;34m(interval, target_rate, min_pause_ms)\u001b[0m\n\u001b[1;32m     50\u001b[0m silence_ms \u001b[38;5;241m=\u001b[39m \u001b[38;5;28mmax\u001b[39m(min_silence_ms, \u001b[38;5;28mround\u001b[39m(original_silence_ms \u001b[38;5;241m/\u001b[39m target_scale_factor))\n\u001b[1;32m     51\u001b[0m scale_factor \u001b[38;5;241m=\u001b[39m original_silence_ms \u001b[38;5;241m/\u001b[39m silence_ms\n\u001b[0;32m---> 52\u001b[0m rate \u001b[38;5;241m=\u001b[39m \u001b[43minterval\u001b[49m\u001b[38;5;241;43m.\u001b[39;49m\u001b[43mrate\u001b[49m\u001b[43m \u001b[49m\u001b[38;5;241;43m/\u001b[39;49m\u001b[43m \u001b[49m\u001b[43mscale_factor\u001b[49m\n\u001b[1;32m     54\u001b[0m pauses \u001b[38;5;241m=\u001b[39m [min_pause_ms] \u001b[38;5;241m*\u001b[39m \u001b[38;5;28mlen\u001b[39m(original_pauses)\n\u001b[1;32m     55\u001b[0m pause_budget \u001b[38;5;241m=\u001b[39m silence_ms \u001b[38;5;241m-\u001b[39m \u001b[38;5;28msum\u001b[39m(pauses)\n",
      "\u001b[0;31mZeroDivisionError\u001b[0m: float division by zero"
     ]
    }
   ],
   "source": []
  },
  {
   "cell_type": "code",
   "execution_count": 71,
   "metadata": {},
   "outputs": [],
   "source": [
    "intervals = [await get_interval(event, sentence_pause_ms=50, lang=transcript.lang) for event in transcript.events]"
   ]
  },
  {
   "cell_type": "code",
   "execution_count": 82,
   "metadata": {},
   "outputs": [
    {
     "data": {
      "text/plain": [
       "[Interval(speech_ms=2460, silence_ms=0, rate=1.2808106285940908, character='Alan', outline=[0, 'Привет всем!', 0, 'Как дела?', 0, 'Добро пожаловать на наш канал.', 0]),\n",
       " Interval(speech_ms=1220, silence_ms=0, rate=1.210513302875571, character='Alan', outline=[0, 'Меня зовут Скотт Мосс.']),\n",
       " Interval(speech_ms=2381, silence_ms=639, rate=1.1353195716881574, character='Alan', outline=[127, 'В этом видео мы делаем кое-что слегка иначе.', 512]),\n",
       " Interval(speech_ms=1680, silence_ms=0, rate=1.2108163265306122, character='Alan', outline=[0, 'Я хотел немного кое-что поменять.']),\n",
       " Interval(speech_ms=1440, silence_ms=0, rate=1.799925925925926, character='Alan', outline=[0, 'Я тут почувствовал небольшое вдохновение.']),\n",
       " Interval(speech_ms=3490, silence_ms=0, rate=1.4768597958965854, character='Alan', outline=[0, 'Пару дней назад у меня в гостях был мой друг, который работает инженером здесь, в Долине.']),\n",
       " Interval(speech_ms=2798, silence_ms=392, rate=1.1353195716881577, character='Alan', outline=[131, 'Он думал о том, чтобы открыть компанию и вот все это.', 261]),\n",
       " Interval(speech_ms=4280, silence_ms=0, rate=1.6083199406061666, character='Alan', outline=[0, 'Но у него нет никакого опыта, когда дело доходит до привлечения денег, общения с венчурными инвесторами и так далее.']),\n",
       " Interval(speech_ms=8590, silence_ms=0, rate=1.2295568960306609, character='Alan', outline=[0, 'Он сказал: \"Йо, Скотт, когда ты создавал свою компанию и тебе пришлось обращаться к венчурным инвесторам, просить денег, делать все это и собирать деньги.', 0, 0, 'На что был похож твой опыт?']),\n",
       " Interval(speech_ms=11141, silence_ms=1499, rate=1.1353195716881574, character='Alan', outline=[749, 'Знаешь, какие были самые дикие истории, хорошие и плохие?', 749, 'Каждый раз, когда кто-то задает мне этот вопрос, я всегда вспоминаю один питч, который я сделал одному инвестору и была просто совсем странная атмосфера.']),\n",
       " Interval(speech_ms=1964, silence_ms=16, rate=1.1353195716881574, character='Alan', outline=[16, 'Это то, чего я никак не мог ожидать.']),\n",
       " Interval(speech_ms=5700, silence_ms=0, rate=1.1783216989843028, character='Alan', outline=[0, 0, 'Я подключился к зуму с этим человеком.', 0, 'И он появился, ну, знаете, опоздав почти на 10 минут, кажется.', 0]),\n",
       " Interval(speech_ms=2651, silence_ms=1089, rate=1.1353195716881574, character='Alan', outline=[363, 'И потом он ответил на зум типа, в своей спальне.', 726]),\n",
       " Interval(speech_ms=7312, silence_ms=1148, rate=1.1353195716881574, character='Alan', outline=[115, 'И я помню, первое, что я увидел, была огромная козявка у него в носу, типа.', 115, 'И я, такой думаю: как ты не почувствовал эту козявку в носу?', 918]),\n",
       " Interval(speech_ms=1890, silence_ms=180, rate=1.1353195716881577, character='Alan', outline=[90, 'Я не знаю.', 90, 'Это было очень странно.']),\n",
       " Interval(speech_ms=2110, silence_ms=760, rate=1.1353195716881577, character='Alan', outline=[760, 'И да, дальше все стало еще безумнее.']),\n",
       " Interval(speech_ms=2552, silence_ms=1448, rate=1.1353195716881574, character='Alan', outline=[1448, 'Так что, знаете, все происходило примерно так.']),\n",
       " Interval(speech_ms=2332, silence_ms=378, rate=1.1353195716881572, character='Alan', outline=[189, 'Давай, выложись!', 189, 'Приведи нервы в порядок!']),\n",
       " Interval(speech_ms=540, silence_ms=520, rate=1.1353195716881574, character='Alan', outline=[173, 'Ты умный.', 347]),\n",
       " Interval(speech_ms=637, silence_ms=523, rate=1.1353195716881574, character='Alan', outline=[174, 'Ты ценный.', 348]),\n",
       " Interval(speech_ms=1351, silence_ms=1189, rate=1.1353195716881574, character='Alan', outline=[98, 'Ты сделаешь это!', 98, 'OK.', 993])]"
      ]
     },
     "execution_count": 82,
     "metadata": {},
     "output_type": "execute_result"
    }
   ],
   "source": [
    "def average_rate(intervals: list[Interval]) -> float:\n",
    "    total_speech_ms = sum(interval.speech_ms for interval in intervals)\n",
    "    return sum(interval.rate * interval.speech_ms for interval in intervals) / total_speech_ms\n",
    "\n",
    "\n",
    "sample = intervals[:21]\n",
    "average = average_rate(sample)\n",
    "\n",
    "[adjust(item, average_rate(sample)) for item in sample]\n"
   ]
  },
  {
   "cell_type": "code",
   "execution_count": 36,
   "metadata": {},
   "outputs": [
    {
     "data": {
      "text/plain": [
       "Event(time_ms=170, chunks=['Was ist los, Leute? Willkommen zurück. #0.1#'], duration_ms=2460, voice=Voice(character='Alan', pitch=0.0, speech_rate=1.2))"
      ]
     },
     "execution_count": 36,
     "metadata": {},
     "output_type": "execute_result"
    }
   ],
   "source": [
    "transcript.events[0]"
   ]
  },
  {
   "cell_type": "code",
   "execution_count": 40,
   "metadata": {},
   "outputs": [
    {
     "data": {
      "text/plain": [
       "Interval(speech_ms=2309, silence_ms=151, rate=1.1829268292682926, character='Alan', outline=['Was ist los, Leute?', 50, 'Willkommen zurück.', 101])"
      ]
     },
     "execution_count": 40,
     "metadata": {},
     "output_type": "execute_result"
    }
   ],
   "source": [
    "i"
   ]
  },
  {
   "cell_type": "code",
   "execution_count": 3,
   "metadata": {},
   "outputs": [
    {
     "data": {
      "text/plain": [
       "[1000, 'Hello world!', 1000]"
      ]
     },
     "execution_count": 3,
     "metadata": {},
     "output_type": "execute_result"
    }
   ],
   "source": [
    "chunk_paragraph(\"#1.0# Hello world! #1.0#\", lang=\"en-US\")"
   ]
  },
  {
   "cell_type": "code",
   "execution_count": 30,
   "metadata": {},
   "outputs": [],
   "source": [
    "from itertools import permutations\n",
    "\n",
    "\n",
    "def all_merges(intervals: list[Interval], n: int) -> list[tuple[bool]]:\n",
    "    return sum((\n",
    "        list(set(permutations([True] * i + [False] * (len(intervals) - i - 1))))\n",
    "        for i in range(n)), [])"
   ]
  },
  {
   "cell_type": "code",
   "execution_count": 31,
   "metadata": {},
   "outputs": [],
   "source": [
    "def merge_intervals(intervals: list[Interval], flags: tuple[bool]) -> list[Interval]:\n",
    "    intervals = intervals.copy()\n",
    "    acc = [intervals.pop(0)]\n",
    "\n",
    "    for interval, should_merge in zip(intervals, flags):\n",
    "        if not should_merge:\n",
    "            acc += [interval]\n",
    "        else:\n",
    "            acc += [merge(interval, acc.pop())]\n",
    "\n",
    "    return acc"
   ]
  },
  {
   "cell_type": "code",
   "execution_count": 32,
   "metadata": {},
   "outputs": [],
   "source": [
    "solutions = [merge_intervals(intervals, flags) for flags in all_merges(intervals, len(intervals))]"
   ]
  },
  {
   "cell_type": "code",
   "execution_count": 33,
   "metadata": {},
   "outputs": [
    {
     "data": {
      "text/plain": [
       "[[Interval(speech_ms=10, pause_ms=0, speech_rate=1.0),\n",
       "  Interval(speech_ms=10, pause_ms=0, speech_rate=2.0),\n",
       "  Interval(speech_ms=20, pause_ms=10, speech_rate=1.0),\n",
       "  Interval(speech_ms=20, pause_ms=0, speech_rate=2.0)],\n",
       " [Interval(speech_ms=20, pause_ms=0, speech_rate=1.5),\n",
       "  Interval(speech_ms=20, pause_ms=10, speech_rate=1.0),\n",
       "  Interval(speech_ms=20, pause_ms=0, speech_rate=2.0)],\n",
       " [Interval(speech_ms=10, pause_ms=0, speech_rate=1.0),\n",
       "  Interval(speech_ms=10, pause_ms=0, speech_rate=2.0),\n",
       "  Interval(speech_ms=40, pause_ms=10, speech_rate=1.5)],\n",
       " [Interval(speech_ms=10, pause_ms=0, speech_rate=1.0),\n",
       "  Interval(speech_ms=30, pause_ms=10, speech_rate=1.3333333333333333),\n",
       "  Interval(speech_ms=20, pause_ms=0, speech_rate=2.0)],\n",
       " [Interval(speech_ms=20, pause_ms=0, speech_rate=1.5),\n",
       "  Interval(speech_ms=40, pause_ms=10, speech_rate=1.5)],\n",
       " [Interval(speech_ms=40, pause_ms=10, speech_rate=1.25),\n",
       "  Interval(speech_ms=20, pause_ms=0, speech_rate=2.0)],\n",
       " [Interval(speech_ms=10, pause_ms=0, speech_rate=1.0),\n",
       "  Interval(speech_ms=50, pause_ms=10, speech_rate=1.6)],\n",
       " [Interval(speech_ms=60, pause_ms=10, speech_rate=1.5)]]"
      ]
     },
     "execution_count": 33,
     "metadata": {},
     "output_type": "execute_result"
    }
   ],
   "source": [
    "solutions"
   ]
  },
  {
   "cell_type": "code",
   "execution_count": 35,
   "metadata": {},
   "outputs": [
    {
     "data": {
      "text/plain": [
       "[[Interval(speech_ms=8, pause_ms=2, speech_rate=1.3),\n",
       "  Interval(speech_ms=10, pause_ms=0, speech_rate=2.0),\n",
       "  Interval(speech_ms=15, pause_ms=15, speech_rate=1.3),\n",
       "  Interval(speech_ms=20, pause_ms=0, speech_rate=2.0)],\n",
       " [Interval(speech_ms=20, pause_ms=0, speech_rate=1.5),\n",
       "  Interval(speech_ms=15, pause_ms=15, speech_rate=1.3),\n",
       "  Interval(speech_ms=20, pause_ms=0, speech_rate=2.0)],\n",
       " [Interval(speech_ms=8, pause_ms=2, speech_rate=1.3),\n",
       "  Interval(speech_ms=10, pause_ms=0, speech_rate=2.0),\n",
       "  Interval(speech_ms=46, pause_ms=4, speech_rate=1.3000000000000003)],\n",
       " [Interval(speech_ms=8, pause_ms=2, speech_rate=1.3),\n",
       "  Interval(speech_ms=31, pause_ms=9, speech_rate=1.3),\n",
       "  Interval(speech_ms=20, pause_ms=0, speech_rate=2.0)],\n",
       " [Interval(speech_ms=20, pause_ms=0, speech_rate=1.5),\n",
       "  Interval(speech_ms=46, pause_ms=4, speech_rate=1.3000000000000003)],\n",
       " [Interval(speech_ms=38, pause_ms=12, speech_rate=1.3),\n",
       "  Interval(speech_ms=20, pause_ms=0, speech_rate=2.0)],\n",
       " [Interval(speech_ms=8, pause_ms=2, speech_rate=1.3),\n",
       "  Interval(speech_ms=60, pause_ms=0, speech_rate=1.3333333333333335)],\n",
       " [Interval(speech_ms=69, pause_ms=1, speech_rate=1.3)]]"
      ]
     },
     "execution_count": 35,
     "metadata": {},
     "output_type": "execute_result"
    }
   ],
   "source": [
    "[[adjust(interval, base_rate=1.3) for interval in intervals] for intervals in solutions]"
   ]
  },
  {
   "cell_type": "code",
   "execution_count": 24,
   "metadata": {},
   "outputs": [
    {
     "data": {
      "text/plain": [
       "Interval(speech_ms=20, pause_ms=10, speech_rate=1.5)"
      ]
     },
     "execution_count": 24,
     "metadata": {},
     "output_type": "execute_result"
    }
   ],
   "source": [
    "merge(\n",
    "    Interval(10, 0, 1.0),\n",
    "    Interval(10, 10, 2.0),\n",
    ")"
   ]
  },
  {
   "cell_type": "code",
   "execution_count": 18,
   "metadata": {},
   "outputs": [
    {
     "data": {
      "text/plain": [
       "Interval(signal_ms=10, silence_ms=5, speech_rate=1.0)"
      ]
     },
     "execution_count": 18,
     "metadata": {},
     "output_type": "execute_result"
    }
   ],
   "source": [
    "adjust_speech_rate(Interval(5, 10, 2.0), 1.0)"
   ]
  },
  {
   "cell_type": "code",
   "execution_count": null,
   "metadata": {},
   "outputs": [],
   "source": []
  }
 ],
 "metadata": {
  "kernelspec": {
   "display_name": "Python 3.10.6 ('venv': venv)",
   "language": "python",
   "name": "python3"
  },
  "language_info": {
   "codemirror_mode": {
    "name": "ipython",
    "version": 3
   },
   "file_extension": ".py",
   "mimetype": "text/x-python",
   "name": "python",
   "nbconvert_exporter": "python",
   "pygments_lexer": "ipython3",
   "version": "3.10.6"
  },
  "orig_nbformat": 4,
  "vscode": {
   "interpreter": {
    "hash": "5652a68a482a1e90ced5dcbb8d22880790b6ab37bf812ad1c4d4e7f6cb30c547"
   }
  }
 },
 "nbformat": 4,
 "nbformat_minor": 2
}
