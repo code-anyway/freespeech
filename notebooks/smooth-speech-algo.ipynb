{
 "cells": [
  {
   "cell_type": "code",
   "execution_count": 5,
   "metadata": {},
   "outputs": [],
   "source": [
    "from freespeech.lib import gdocs\n",
    "\n",
    "\n",
    "transcript = gdocs.load(\"https://docs.google.com/document/d/1RT3DFxDGZrZpIHc68p-Qy4VpEqk_Pat4Rufv958qbE8/edit#\")"
   ]
  },
  {
   "cell_type": "code",
   "execution_count": 6,
   "metadata": {},
   "outputs": [
    {
     "data": {
      "text/plain": [
       "[Event(time_ms=170, chunks=['Was ist los, Leute? Willkommen zurück. #0.1#'], duration_ms=2460, voice=Voice(character='Alan', pitch=0.0, speech_rate=1.2)),\n",
       " Event(time_ms=2630, chunks=['Mein Name ist Scott Moss. '], duration_ms=1220, voice=Voice(character='Alan', pitch=0.0, speech_rate=1.2)),\n",
       " Event(time_ms=3850, chunks=['In diesem Video machen wir etwas ganz anderes. #0.2#'], duration_ms=3020, voice=Voice(character='Alan', pitch=0.0, speech_rate=1.2)),\n",
       " Event(time_ms=6870, chunks=['Ich wollte ein wenig Abwechslung in die Sache bringen. '], duration_ms=1680, voice=Voice(character='Alan', pitch=0.0, speech_rate=1.2)),\n",
       " Event(time_ms=8550, chunks=['Ich habe mich ein wenig inspiriert gefühlt. '], duration_ms=1440, voice=Voice(character='Alan', pitch=0.0, speech_rate=1.2)),\n",
       " Event(time_ms=9990, chunks=['Vor ein paar Tagen traf ich einen Freund von mir, der Software-Ingenieur ist, hier in der Bay Area.'], duration_ms=3490, voice=Voice(character='Alan', pitch=0.0, speech_rate=1.2)),\n",
       " Event(time_ms=13480, chunks=['Er dachte darüber nach, ein Unternehmen zu gründen. #0.1#'], duration_ms=3190, voice=Voice(character='Alan', pitch=0.0, speech_rate=1.2)),\n",
       " Event(time_ms=16670, chunks=['Aber er hat keine Erfahrung, wenn es darum geht, Geld zu beschaffen und mit VCs und so weiter zu sprechen. '], duration_ms=4280, voice=Voice(character='Alan', pitch=0.0, speech_rate=1.2)),\n",
       " Event(time_ms=20950, chunks=['Er sagte: \"Yo, Scott, als du dein Unternehmen gegründet hast und zu den VCs gehen musstest, um Geld aufzutreiben. #0.5# Wie war deine Erfahrung damit?”'], duration_ms=8590, voice=Voice(character='Alan', pitch=0.0, speech_rate=1.2)),\n",
       " Event(time_ms=29540, chunks=['Was waren denn die wildesten Geschichten, die guten und die schlechten? Jedes Mal, wenn mir jemand diese Frage stellt, denke ich an diesen einen Pitch, den ich bei diesem VC gemacht habe und der einfach sonderbar war.'], duration_ms=12640, voice=Voice(character='Alan', pitch=0.0, speech_rate=1.2)),\n",
       " Event(time_ms=42180, chunks=['Einfach etwas, das ich nicht erwarten konnte. '], duration_ms=1980, voice=Voice(character='Alan', pitch=0.0, speech_rate=1.2)),\n",
       " Event(time_ms=44160, chunks=['#0.5# Ich bin mit dieser Person in einen Zoom-Anruf gemacht, nachdem sie mit fast 10 Minuten Verspätung aufgetaucht ist, wie es scheint. #0.1#'], duration_ms=5700, voice=Voice(character='Alan', pitch=0.0, speech_rate=1.2)),\n",
       " Event(time_ms=49860, chunks=['Und dann nahm Sie den Zoom-Anruf auf ihrem Telefon entgegen, in ihrem Schlafzimmer. #0.1#'], duration_ms=3740, voice=Voice(character='Alan', pitch=0.0, speech_rate=1.2)),\n",
       " Event(time_ms=53600, chunks=['Und ich erinnere mich, dass das erste, was ich sah, ein riesiger Popel war, der in der Nase steckte. Und ich fragte mich: \"Wie konntest du diesen Popel in deiner Nase nicht spüren? #0.4#'], duration_ms=8460, voice=Voice(character='Alan', pitch=0.0, speech_rate=1.2)),\n",
       " Event(time_ms=62060, chunks=['Ich weiß es nicht. Es war sehr seltsam.'], duration_ms=2070, voice=Voice(character='Alan', pitch=0.0, speech_rate=1.2)),\n",
       " Event(time_ms=64130, chunks=['Und ja, von da an wurde es irgendwie noch verrückter. '], duration_ms=2870, voice=Voice(character='Alan', pitch=0.0, speech_rate=1.2)),\n",
       " Event(time_ms=67000, chunks=['Es lief also in etwa so ab.'], duration_ms=4000, voice=Voice(character='Alan', pitch=0.0, speech_rate=1.2)),\n",
       " Event(time_ms=92770, chunks=['Lassen wir alles raus, um die Nerven zu behalten. #0.9#'], duration_ms=2710, voice=Voice(character='Alan', pitch=0.0, speech_rate=1.2)),\n",
       " Event(time_ms=95480, chunks=['Sie sind klug. #0.1#'], duration_ms=1060, voice=Voice(character='Alan', pitch=0.0, speech_rate=1.2)),\n",
       " Event(time_ms=96540, chunks=['Sie sind wertvoll. #0.1#'], duration_ms=1160, voice=Voice(character='Alan', pitch=0.0, speech_rate=1.2)),\n",
       " Event(time_ms=97700, chunks=['Sie können das schaffen. OK. #0.5#'], duration_ms=2540, voice=Voice(character='Alan', pitch=0.0, speech_rate=1.2)),\n",
       " Event(time_ms=100240, chunks=['Später.'], duration_ms=5840, voice=Voice(character='Alonzo', pitch=0.0, speech_rate=1.0)),\n",
       " Event(time_ms=106080, chunks=['Augenblicke später.'], duration_ms=4820, voice=Voice(character='Alonzo', pitch=0.0, speech_rate=1.0)),\n",
       " Event(time_ms=110900, chunks=['Zwölf Sekunden später.'], duration_ms=15970, voice=Voice(character='Alonzo', pitch=0.0, speech_rate=1.0)),\n",
       " Event(time_ms=126870, chunks=['Weitere Momente später.'], duration_ms=4250, voice=Voice(character='Alonzo', pitch=0.0, speech_rate=1.0)),\n",
       " Event(time_ms=131120, chunks=['Hey, Scott. '], duration_ms=800, voice=Voice(character='Bill', pitch=0.0, speech_rate=1.2)),\n",
       " Event(time_ms=131920, chunks=['Vielen Dank, dass Sie an dem Gespräch teilnehmen. #4.8#'], duration_ms=6010, voice=Voice(character='Bill', pitch=0.0, speech_rate=1.2)),\n",
       " Event(time_ms=137930, chunks=['Hallo. '], duration_ms=530, voice=Voice(character='Bill', pitch=0.0, speech_rate=1.2)),\n",
       " Event(time_ms=138460, chunks=['Hey, Scott. #1.6#'], duration_ms=2200, voice=Voice(character='Bill', pitch=0.0, speech_rate=1.2)),\n",
       " Event(time_ms=140660, chunks=['Ich kann Sie nicht wirklich hören. '], duration_ms=740, voice=Voice(character='Bill', pitch=0.0, speech_rate=1.2)),\n",
       " Event(time_ms=141400, chunks=['Scott. '], duration_ms=680, voice=Voice(character='Bill', pitch=0.0, speech_rate=1.2)),\n",
       " Event(time_ms=142080, chunks=['Scott, ich kann Sie im Moment nicht hören. '], duration_ms=2000, voice=Voice(character='Bill', pitch=0.0, speech_rate=1.2)),\n",
       " Event(time_ms=144080, chunks=['Sie sind stumm geschaltet. '], duration_ms=540, voice=Voice(character='Bill', pitch=0.0, speech_rate=1.2)),\n",
       " Event(time_ms=144620, chunks=['Würden Sie bitte die Stummschaltung aufheben? #0.1#'], duration_ms=1240, voice=Voice(character='Bill', pitch=0.0, speech_rate=1.2)),\n",
       " Event(time_ms=145860, chunks=['Ich kann Sie nicht hören. '], duration_ms=860, voice=Voice(character='Bill', pitch=0.0, speech_rate=1.2)),\n",
       " Event(time_ms=146720, chunks=['Ich habe nichts von dem verstanden, was Sie gerade gesagt haben.. #0.5# Sie waren stummgeschaltet. #0.6#'], duration_ms=5960, voice=Voice(character='Bill', pitch=0.0, speech_rate=1.2)),\n",
       " Event(time_ms=152680, chunks=['Wenn Sie also Fragen zu dem haben, was ich gerade gesagt habe, dann können wir diese nach dem Gespräch beantworten. #0.6#'], duration_ms=6040, voice=Voice(character='Alan', pitch=0.0, speech_rate=1.2)),\n",
       " Event(time_ms=158720, chunks=['Ja, ja. '], duration_ms=550, voice=Voice(character='Bill', pitch=0.0, speech_rate=1.2)),\n",
       " Event(time_ms=159270, chunks=['Ja, okay. #0.1#'], duration_ms=870, voice=Voice(character='Bill', pitch=0.0, speech_rate=1.2)),\n",
       " Event(time_ms=160140, chunks=['Ja, sicher. #0.1#'], duration_ms=860, voice=Voice(character='Bill', pitch=0.0, speech_rate=1.2)),\n",
       " Event(time_ms=161000, chunks=['Ja, ich habe Fragen, aber ich hebe sie mir für später auf. '], duration_ms=2340, voice=Voice(character='Bill', pitch=0.0, speech_rate=1.2)),\n",
       " Event(time_ms=163340, chunks=['Ja, keine große Sache. #16.0#'], duration_ms=17120, voice=Voice(character='Bill', pitch=0.0, speech_rate=1.2)),\n",
       " Event(time_ms=180460, chunks=['Wenn es hilfreich ist, kann ich auch über meinen Hintergrund sprechen, bevor wir uns mit dem befassen, was ich und das Team aufgebaut haben, wissen Sie. Hoert sich das gut an, Scott? #0.1#'], duration_ms=9400, voice=Voice(character='Bill', pitch=0.0, speech_rate=1.2)),\n",
       " Event(time_ms=189860, chunks=['Sicher, warum nicht? #0.4#'], duration_ms=2000, voice=Voice(character='Alan', pitch=0.0, speech_rate=1.2)),\n",
       " Event(time_ms=191860, chunks=['Ja, ich habe an der Georgia Tech Informatik studiert und hatte eine tolle Zeit. Und der Umzug nach Georgia war einfach so viel anders als das Aufwachsen hier in Berkeley. Die Dinge sind einfach... eine andere Art zu leben. #0.1#'], duration_ms=12280, voice=Voice(character='Bill', pitch=0.0, speech_rate=1.2)),\n",
       " Event(time_ms=204140, chunks=['Aber ich kann sagen, dass ich eine tolle Zeit an der Georgia Tech hatte und dass das Programm...'], duration_ms=3860, voice=Voice(character='Bill', pitch=0.0, speech_rate=1.2)),\n",
       " Event(time_ms=208000, chunks=['Sagten Sie Georgia Tech?'], duration_ms=2640, voice=Voice(character='Alan', pitch=0.0, speech_rate=1.2)),\n",
       " Event(time_ms=210640, chunks=['So ein verrückter Zufall. '], duration_ms=1700, voice=Voice(character='Alan', pitch=0.0, speech_rate=1.2)),\n",
       " Event(time_ms=212340, chunks=['Lustige Geschichte. #0.2#'], duration_ms=1020, voice=Voice(character='Alan', pitch=0.0, speech_rate=1.2)),\n",
       " Event(time_ms=213360, chunks=['Mein kleiner Cousin, wir nennen ihn \"der gestörte Cousin\". '], duration_ms=3020, voice=Voice(character='Alan', pitch=0.0, speech_rate=1.2)),\n",
       " Event(time_ms=216380, chunks=['Jeder von uns hat Cousins und Cousinen, die ins Gefängnis gegangen sind oder, Sie wissen schon, zwielichtige Dinge getan haben. #0.8#'], duration_ms=5340, voice=Voice(character='Alan', pitch=0.0, speech_rate=1.2)),\n",
       " Event(time_ms=221720, chunks=['Aber nachdem er seinen GED gemacht hatte, ging er nach ein paar Versuchen tatsächlich an die Georgia Tech. '], duration_ms=4880, voice=Voice(character='Alan', pitch=0.0, speech_rate=1.2)),\n",
       " Event(time_ms=226600, chunks=['Es scheint so, als ob die heutzutage jeden in diese Schule lassen, oder? #1.0#'], duration_ms=4650, voice=Voice(character='Alan', pitch=0.0, speech_rate=1.2)),\n",
       " Event(time_ms=231250, chunks=['Es war ein hartes Programm, wissen Sie? '], duration_ms=1550, voice=Voice(character='Bill', pitch=0.0, speech_rate=1.2)),\n",
       " Event(time_ms=232800, chunks=['Ich habe das Beste daraus gemacht. #0.3#'], duration_ms=1640, voice=Voice(character='Bill', pitch=0.0, speech_rate=1.2)),\n",
       " Event(time_ms=234440, chunks=['Lassen Sie uns zum Produkt kommen. '], duration_ms=1040, voice=Voice(character='Alan', pitch=0.0, speech_rate=1.2)),\n",
       " Event(time_ms=235480, chunks=['Erzählen Sie mir mehr darüber. '], duration_ms=850, voice=Voice(character='Alan', pitch=0.0, speech_rate=1.2)),\n",
       " Event(time_ms=236330, chunks=['Wissen Sie, ich habe mir die Präsentation durchgesehen. '], duration_ms=1230, voice=Voice(character='Alan', pitch=0.0, speech_rate=1.2)),\n",
       " Event(time_ms=237560, chunks=['Sieht super interessant aus. #0.1#'], duration_ms=1480, voice=Voice(character='Alan', pitch=0.0, speech_rate=1.2)),\n",
       " Event(time_ms=239040, chunks=['Im Großen und Ganzen hört es sich so an, als würden Sie ein Airbnb für Kleidung sein wollen, richtig? #1.6#'], duration_ms=6640, voice=Voice(character='Alan', pitch=0.0, speech_rate=1.2)),\n",
       " Event(time_ms=245680, chunks=['Ich meine, ja, okay. '], duration_ms=2200, voice=Voice(character='Alan', pitch=0.0, speech_rate=1.2)),\n",
       " Event(time_ms=247880, chunks=['Aber ich meine, ich würde es wirklich so beschreiben. Wir sind eher ein Marktplatz und ein Dashboard, das es den Leuten ermöglicht, von ihrer Designer-Mode zu profitieren, die gerade sehr angesagt ist. Und wir nehmen einen Anteil von jeder Transaktion, genau wie ein traditioneller Marktplatz es tun würde. #0.1#'], duration_ms=17540, voice=Voice(character='Alan', pitch=0.0, speech_rate=1.2)),\n",
       " Event(time_ms=265420, chunks=['Ohh. #0.1#'], duration_ms=920, voice=Voice(character='Bill', pitch=0.0, speech_rate=1.2)),\n",
       " Event(time_ms=266340, chunks=['Okay, okay, ich habe verstanden. '], duration_ms=1320, voice=Voice(character='Alan', pitch=0.0, speech_rate=1.2)),\n",
       " Event(time_ms=267660, chunks=['Entschuldigung, mein Fehler, mein Fehler. #0.1#'], duration_ms=1780, voice=Voice(character='Alan', pitch=0.0, speech_rate=1.2)),\n",
       " Event(time_ms=269440, chunks=['Sie sind eigentlich mehr wie Stripe, aber für Kleidung, richtig?'], duration_ms=4800, voice=Voice(character='Alan', pitch=0.0, speech_rate=1.2)),\n",
       " Event(time_ms=274240, chunks=['Nochmals. #0.5# Das ist zwar nicht genau das, was wir tun, aber aus Zeitgründen können wir einfach weitermachen.'], duration_ms=14960, voice=Voice(character='Bill', pitch=0.0, speech_rate=1.2)),\n",
       " Event(time_ms=289200, chunks=['Ja, ja. '], duration_ms=460, voice=Voice(character='Alan', pitch=0.0, speech_rate=1.2)),\n",
       " Event(time_ms=289660, chunks=['Und wissen Sie was? #0.5#'], duration_ms=1100, voice=Voice(character='Alan', pitch=0.0, speech_rate=1.2)),\n",
       " Event(time_ms=290760, chunks=['Ich glaube, ich habe genug gesehen. '], duration_ms=1070, voice=Voice(character='Alan', pitch=0.0, speech_rate=1.2)),\n",
       " Event(time_ms=291830, chunks=['Vielen Dank, dass Sie über das Produkt gesprochen haben und so weiter. '], duration_ms=3610, voice=Voice(character='Alan', pitch=0.0, speech_rate=1.2)),\n",
       " Event(time_ms=295440, chunks=['Klingt wirklich cool. #0.7#'], duration_ms=2120, voice=Voice(character='Alan', pitch=0.0, speech_rate=1.2)),\n",
       " Event(time_ms=297560, chunks=['Wie ich schon sagte, hatten Sie am Ende etwas Zeit, um mir Fragen zu stellen, OK? #0.4#'], duration_ms=4440, voice=Voice(character='Alan', pitch=0.0, speech_rate=1.2)),\n",
       " Event(time_ms=302000, chunks=['Haben Sie irgendwelche Fragen an mich? #0.2#'], duration_ms=1940, voice=Voice(character='Alan', pitch=0.0, speech_rate=1.2)),\n",
       " Event(time_ms=303940, chunks=['Oh, ja. '], duration_ms=640, voice=Voice(character='Bill', pitch=0.0, speech_rate=1.2)),\n",
       " Event(time_ms=304580, chunks=['Eigentlich habe ich ein paar Fragen. #0.6#'], duration_ms=2780, voice=Voice(character='Bill', pitch=0.0, speech_rate=1.2)),\n",
       " Event(time_ms=307360, chunks=['Die erste ist die wichtigste. #0.9#'], duration_ms=2600, voice=Voice(character='Bill', pitch=0.0, speech_rate=1.2)),\n",
       " Event(time_ms=309960, chunks=['Wie ist ihre Vorgehensweise? '], duration_ms=1090, voice=Voice(character='Bill', pitch=0.0, speech_rate=1.2)),\n",
       " Event(time_ms=311050, chunks=['Ja, cool, cool, cool. '], duration_ms=930, voice=Voice(character='Alan', pitch=0.0, speech_rate=1.2)),\n",
       " Event(time_ms=311980, chunks=['Ja, ja. '], duration_ms=260, voice=Voice(character='Alan', pitch=0.0, speech_rate=1.2)),\n",
       " Event(time_ms=312240, chunks=['Schicken Sie mir diese Fragen also einfach zu. #0.9#'], duration_ms=2870, voice=Voice(character='Alan', pitch=0.0, speech_rate=1.2)),\n",
       " Event(time_ms=315110, chunks=['Das haben Sie. '], duration_ms=800, voice=Voice(character='Alan', pitch=0.0, speech_rate=1.2)),\n",
       " Event(time_ms=315910, chunks=['Und, wissen Sie, ich denke, das ist ein interessantes Produkt. '], duration_ms=2040, voice=Voice(character='Alan', pitch=0.0, speech_rate=1.2)),\n",
       " Event(time_ms=317950, chunks=['Wissen Sie, wir lieben diesen Bereich, und Sie sollten sehr bald von uns hören. #0.2#'], duration_ms=6360, voice=Voice(character='Alan', pitch=0.0, speech_rate=1.2)),\n",
       " Event(time_ms=324310, chunks=['Passen Sie auf sich auf. #4.8#'], duration_ms=5450, voice=Voice(character='Alan', pitch=0.0, speech_rate=1.2)),\n",
       " Event(time_ms=329760, chunks=['Schlagen Sie mir die Tür direkt vor der Nase zu. '], duration_ms=1610, voice=Voice(character='Bill', pitch=0.0, speech_rate=1.2)),\n",
       " Event(time_ms=331370, chunks=['OKAY, OKAY. #0.1#'], duration_ms=1310, voice=Voice(character='Bill', pitch=0.0, speech_rate=1.2)),\n",
       " Event(time_ms=332680, chunks=['Ja, ja, ja. #1.8#'], duration_ms=2680, voice=Voice(character='Bill', pitch=0.0, speech_rate=1.2)),\n",
       " Event(time_ms=335360, chunks=['War auch schön, mit Ihnen zu reden. #1.8#'], duration_ms=2650, voice=Voice(character='Bill', pitch=0.0, speech_rate=1.2)),\n",
       " Event(time_ms=338010, chunks=['GUT. #5.4#'], duration_ms=5880, voice=Voice(character='Bill', pitch=0.0, speech_rate=1.2)),\n",
       " Event(time_ms=343890, chunks=['Jetzt schon? GUT. #2.5#'], duration_ms=4520, voice=Voice(character='Bill', pitch=0.0, speech_rate=1.2)),\n",
       " Event(time_ms=348410, chunks=['Schauen wir mal. #2.2#'], duration_ms=3190, voice=Voice(character='Bill', pitch=0.0, speech_rate=1.2)),\n",
       " Event(time_ms=351600, chunks=['Vielen Dank für das erneute Treffen mit uns. #0.3#'], duration_ms=1960, voice=Voice(character='Bill', pitch=0.0, speech_rate=1.2)),\n",
       " Event(time_ms=353560, chunks=['Wir finden Sie und Ihr Team großartig und sind sehr beeindruckt von Ihrem Hintergrund und Ihren Fortschritten. '], duration_ms=5060, voice=Voice(character='Bill', pitch=0.0, speech_rate=1.2)),\n",
       " Event(time_ms=358620, chunks=['Ich danke Ihnen. '], duration_ms=340, voice=Voice(character='Bill', pitch=0.0, speech_rate=1.2)),\n",
       " Event(time_ms=358960, chunks=['Ich danke Ihnen. #0.9#'], duration_ms=1580, voice=Voice(character='Bill', pitch=0.0, speech_rate=1.2)),\n",
       " Event(time_ms=360540, chunks=['Wir würden gerne ein Produkt in diesem Bereich finanzieren. #0.1#'], duration_ms=3000, voice=Voice(character='Bill', pitch=0.0, speech_rate=1.2)),\n",
       " Event(time_ms=363540, chunks=['GUT. '], duration_ms=600, voice=Voice(character='Bill', pitch=0.0, speech_rate=1.2)),\n",
       " Event(time_ms=364140, chunks=['Ja, ja. #2.2#'], duration_ms=3180, voice=Voice(character='Bill', pitch=0.0, speech_rate=1.2)),\n",
       " Event(time_ms=367320, chunks=['Wie auch immer, OK. #1.6#'], duration_ms=3150, voice=Voice(character='Bill', pitch=0.0, speech_rate=1.2)),\n",
       " Event(time_ms=370470, chunks=['Wir haben beschlossen, Ihr Projekt nicht zu finanzieren. #2.8#'], duration_ms=4240, voice=Voice(character='Bill', pitch=0.0, speech_rate=1.2)),\n",
       " Event(time_ms=374710, chunks=['Ja, wissen Sie. '], duration_ms=630, voice=Voice(character='Bill', pitch=0.0, speech_rate=1.2)),\n",
       " Event(time_ms=375340, chunks=['Ich hoffe, Sie verstehen das. '], duration_ms=1100, voice=Voice(character='Bill', pitch=0.0, speech_rate=1.2)),\n",
       " Event(time_ms=376440, chunks=['Lassen Sie mich wissen, wie ich helfen kann. #0.8#'], duration_ms=2990, voice=Voice(character='Bill', pitch=0.0, speech_rate=1.2)),\n",
       " Event(time_ms=379430, chunks=['Kennen Sie außerdem jemanden, der in diesem Bereich coole Dinge baut? #2.5#'], duration_ms=5420, voice=Voice(character='Bill', pitch=0.0, speech_rate=1.2)),\n",
       " Event(time_ms=384850, chunks=['Wenn ja, könnten Sie sich kurz vorstellen? #14.3#'], duration_ms=16170, voice=Voice(character='Bill', pitch=0.0, speech_rate=1.2)),\n",
       " Event(time_ms=401020, chunks=['Cool. '], duration_ms=420, voice=Voice(character='Alan', pitch=0.0, speech_rate=1.2)),\n",
       " Event(time_ms=401440, chunks=['Wenn euch das gefällt, hinterlasst bitte ein Like, abonniert für mehr. '], duration_ms=3340, voice=Voice(character='Alan', pitch=0.0, speech_rate=1.2)),\n",
       " Event(time_ms=404780, chunks=['Ich werde auf jeden Fall mehr Videos aufnehmen. #0.4#'], duration_ms=2560, voice=Voice(character='Alan', pitch=0.0, speech_rate=1.2)),\n",
       " Event(time_ms=407340, chunks=['Eine Menge Dinge sind in der Mache, bin echt begeistert. #0.1#'], duration_ms=4920, voice=Voice(character='Alan', pitch=0.0, speech_rate=1.2)),\n",
       " Event(time_ms=412260, chunks=['Ich habe eine Menge Dinge, über die ich sprechen möchte. '], duration_ms=1980, voice=Voice(character='Alan', pitch=0.0, speech_rate=1.2)),\n",
       " Event(time_ms=414240, chunks=['Also, wie immer, schreibt etwas in die Kommentare, wenn es etwas gibt, was ihr sehen wollt, worüber ich sprechen soll, oder findet mich auf Twitter. '], duration_ms=6500, voice=Voice(character='Alan', pitch=0.0, speech_rate=1.2)),\n",
       " Event(time_ms=420740, chunks=['Ich spreche dort immer mit Leuten über verschiedene Dinge, an denen ich arbeiten kann. '], duration_ms=3380, voice=Voice(character='Alan', pitch=0.0, speech_rate=1.2)),\n",
       " Event(time_ms=424120, chunks=['Dafür bin ich da. '], duration_ms=1880, voice=Voice(character='Alan', pitch=0.0, speech_rate=1.2)),\n",
       " Event(time_ms=426000, chunks=['Ich versuche, Content zu produzieren, der hilfreich, lehrreich, aber auch unterhaltsam ist. Also lasst es mich wissen. Und bis dahin. Wir sehen uns in der nächsten Ausgabe. Peace!'], duration_ms=10000, voice=Voice(character='Alan', pitch=0.0, speech_rate=1.2))]"
      ]
     },
     "execution_count": 6,
     "metadata": {},
     "output_type": "execute_result"
    }
   ],
   "source": [
    "transcript.events"
   ]
  },
  {
   "cell_type": "code",
   "execution_count": 7,
   "metadata": {},
   "outputs": [],
   "source": [
    "import re\n",
    "from itertools import zip_longest\n",
    "\n",
    "from dataclasses import dataclass\n",
    "from tempfile import TemporaryDirectory\n",
    "from freespeech.types import Character, Event, Language\n",
    "from freespeech.lib import text, speech, audio, media\n",
    "\n",
    "\n",
    "@dataclass(frozen=True)\n",
    "class Interval:\n",
    "    speech_ms: int\n",
    "    silence_ms: int\n",
    "    rate: float\n",
    "    character: Character\n",
    "    outline: list[str | int]\n",
    "\n",
    "\n",
    "def merge(a: Interval, b: Interval) -> Interval:\n",
    "    speech_ms = a.speech_ms + b.speech_ms\n",
    "    rate = (a.rate * a.speech_ms + b.rate * b.speech_ms) / speech_ms\n",
    "    silence_ms = a.silence_ms + b.silence_ms\n",
    "\n",
    "    if a.character != b.character:\n",
    "        raise ValueError(f\"character in a and b should be the same\")\n",
    "\n",
    "    return Interval(\n",
    "        silence_ms=silence_ms,\n",
    "        speech_ms=speech_ms,\n",
    "        rate=rate,\n",
    "        outline=a.outline + b.outline,\n",
    "        character=a.character\n",
    "    )\n",
    "\n",
    "\n",
    "def adjust(a: Interval, base_rate: float) -> Interval:\n",
    "    speech_ms = min(\n",
    "            a.speech_ms + a.silence_ms,  # can't be longer than total duration\n",
    "            a.speech_ms * (a.rate / base_rate)\n",
    "        )\n",
    "    silence_ms = (a.speech_ms + a.silence_ms) - speech_ms\n",
    "    rate = a.rate * (a.speech_ms / speech_ms)\n",
    "\n",
    "    return Interval(\n",
    "        speech_ms=round(speech_ms),\n",
    "        silence_ms=round(silence_ms),\n",
    "        rate=rate,\n",
    "        character=a.character,\n",
    "        outline=[\n",
    "            chunk if isinstance(chunk, str) else round(chunk * (silence_ms / a.silence_ms))\n",
    "            for chunk in a.outline\n",
    "        ]\n",
    "    )\n",
    "\n",
    "\n",
    "def chunk_paragraph(s: str, lang: Language) -> list[str | int]:\n",
    "    split = re.split(r\"#(\\d+(\\.\\d+)?)#\", s)\n",
    "    outline = [\n",
    "        [\n",
    "            *text.sentences(s, lang=lang),\n",
    "            round((float(pause) if pause else 0.0) * 1000)\n",
    "        ] for s, pause in zip_longest(split[0::3], split[1::3], fillvalue=\"\")\n",
    "        if s or pause\n",
    "    ]\n",
    "\n",
    "    return sum(outline, [])\n",
    "\n",
    "\n",
    "async def interval(event: Event, lang: Language) -> Interval:\n",
    "    paragraph = \" \".join(event.chunks)\n",
    "    outline = chunk_paragraph(paragraph, lang)\n",
    "    with TemporaryDirectory() as tmp_dir:\n",
    "        clips = [\n",
    "            audio.strip((await speech.synthesize_text(\n",
    "                text=chunk,\n",
    "                duration_ms=None,\n",
    "                voice=event.voice,\n",
    "                lang=lang,\n",
    "                output_dir=tmp_dir\n",
    "            ))[0]) if isinstance(chunk, str) else chunk\n",
    "            for chunk in outline\n",
    "        ]\n",
    "        speech_ms = sum(media.audio_duration(clip) for clip in clips if not isinstance(clip, int))\n",
    "        silence_ms = sum(clip for clip in clips if isinstance(clip, int))\n",
    "        rate = event.voice.speech_rate\n",
    "        character = event.voice.character\n",
    "\n",
    "    return Interval(\n",
    "        speech_ms=speech_ms,\n",
    "        silence_ms=silence_ms,\n",
    "        rate=rate,\n",
    "        character=character,\n",
    "        outline=outline\n",
    "    )\n"
   ]
  },
  {
   "cell_type": "code",
   "execution_count": 8,
   "metadata": {},
   "outputs": [
    {
     "data": {
      "text/plain": [
       "['Was ist los, Leute?', 'Willkommen zurück', 100]"
      ]
     },
     "execution_count": 8,
     "metadata": {},
     "output_type": "execute_result"
    }
   ],
   "source": [
    "from itertools import zip_longest\n",
    "\n",
    "\n",
    "s = \"Was ist los, Leute? Willkommen zurück #0.1#\"\n",
    "chunk_paragraph(s, lang=\"de-DE\")"
   ]
  },
  {
   "cell_type": "code",
   "execution_count": 10,
   "metadata": {},
   "outputs": [],
   "source": [
    "i = await interval(transcript.events[0], lang=transcript.lang)"
   ]
  },
  {
   "cell_type": "code",
   "execution_count": 11,
   "metadata": {},
   "outputs": [
    {
     "data": {
      "text/plain": [
       "Interval(speech_ms=2275, silence_ms=100, rate=1.2, character='Alan', outline=['Was ist los, Leute?', 'Willkommen zurück.', 100])"
      ]
     },
     "execution_count": 11,
     "metadata": {},
     "output_type": "execute_result"
    }
   ],
   "source": [
    "adjust(i, 1.2)"
   ]
  },
  {
   "cell_type": "code",
   "execution_count": 3,
   "metadata": {},
   "outputs": [
    {
     "data": {
      "text/plain": [
       "[1000, 'Hello world!', 1000]"
      ]
     },
     "execution_count": 3,
     "metadata": {},
     "output_type": "execute_result"
    }
   ],
   "source": [
    "chunk_paragraph(\"#1.0# Hello world! #1.0#\", lang=\"en-US\")"
   ]
  },
  {
   "cell_type": "code",
   "execution_count": 30,
   "metadata": {},
   "outputs": [],
   "source": [
    "from itertools import permutations\n",
    "\n",
    "\n",
    "def all_merges(intervals: list[Interval], n: int) -> list[tuple[bool]]:\n",
    "    return sum((\n",
    "        list(set(permutations([True] * i + [False] * (len(intervals) - i - 1))))\n",
    "        for i in range(n)), [])"
   ]
  },
  {
   "cell_type": "code",
   "execution_count": 31,
   "metadata": {},
   "outputs": [],
   "source": [
    "def merge_intervals(intervals: list[Interval], flags: tuple[bool]) -> list[Interval]:\n",
    "    intervals = intervals.copy()\n",
    "    acc = [intervals.pop(0)]\n",
    "\n",
    "    for interval, should_merge in zip(intervals, flags):\n",
    "        if not should_merge:\n",
    "            acc += [interval]\n",
    "        else:\n",
    "            acc += [merge(interval, acc.pop())]\n",
    "\n",
    "    return acc"
   ]
  },
  {
   "cell_type": "code",
   "execution_count": 32,
   "metadata": {},
   "outputs": [],
   "source": [
    "solutions = [merge_intervals(intervals, flags) for flags in all_merges(intervals, len(intervals))]"
   ]
  },
  {
   "cell_type": "code",
   "execution_count": 33,
   "metadata": {},
   "outputs": [
    {
     "data": {
      "text/plain": [
       "[[Interval(speech_ms=10, pause_ms=0, speech_rate=1.0),\n",
       "  Interval(speech_ms=10, pause_ms=0, speech_rate=2.0),\n",
       "  Interval(speech_ms=20, pause_ms=10, speech_rate=1.0),\n",
       "  Interval(speech_ms=20, pause_ms=0, speech_rate=2.0)],\n",
       " [Interval(speech_ms=20, pause_ms=0, speech_rate=1.5),\n",
       "  Interval(speech_ms=20, pause_ms=10, speech_rate=1.0),\n",
       "  Interval(speech_ms=20, pause_ms=0, speech_rate=2.0)],\n",
       " [Interval(speech_ms=10, pause_ms=0, speech_rate=1.0),\n",
       "  Interval(speech_ms=10, pause_ms=0, speech_rate=2.0),\n",
       "  Interval(speech_ms=40, pause_ms=10, speech_rate=1.5)],\n",
       " [Interval(speech_ms=10, pause_ms=0, speech_rate=1.0),\n",
       "  Interval(speech_ms=30, pause_ms=10, speech_rate=1.3333333333333333),\n",
       "  Interval(speech_ms=20, pause_ms=0, speech_rate=2.0)],\n",
       " [Interval(speech_ms=20, pause_ms=0, speech_rate=1.5),\n",
       "  Interval(speech_ms=40, pause_ms=10, speech_rate=1.5)],\n",
       " [Interval(speech_ms=40, pause_ms=10, speech_rate=1.25),\n",
       "  Interval(speech_ms=20, pause_ms=0, speech_rate=2.0)],\n",
       " [Interval(speech_ms=10, pause_ms=0, speech_rate=1.0),\n",
       "  Interval(speech_ms=50, pause_ms=10, speech_rate=1.6)],\n",
       " [Interval(speech_ms=60, pause_ms=10, speech_rate=1.5)]]"
      ]
     },
     "execution_count": 33,
     "metadata": {},
     "output_type": "execute_result"
    }
   ],
   "source": [
    "solutions"
   ]
  },
  {
   "cell_type": "code",
   "execution_count": 35,
   "metadata": {},
   "outputs": [
    {
     "data": {
      "text/plain": [
       "[[Interval(speech_ms=8, pause_ms=2, speech_rate=1.3),\n",
       "  Interval(speech_ms=10, pause_ms=0, speech_rate=2.0),\n",
       "  Interval(speech_ms=15, pause_ms=15, speech_rate=1.3),\n",
       "  Interval(speech_ms=20, pause_ms=0, speech_rate=2.0)],\n",
       " [Interval(speech_ms=20, pause_ms=0, speech_rate=1.5),\n",
       "  Interval(speech_ms=15, pause_ms=15, speech_rate=1.3),\n",
       "  Interval(speech_ms=20, pause_ms=0, speech_rate=2.0)],\n",
       " [Interval(speech_ms=8, pause_ms=2, speech_rate=1.3),\n",
       "  Interval(speech_ms=10, pause_ms=0, speech_rate=2.0),\n",
       "  Interval(speech_ms=46, pause_ms=4, speech_rate=1.3000000000000003)],\n",
       " [Interval(speech_ms=8, pause_ms=2, speech_rate=1.3),\n",
       "  Interval(speech_ms=31, pause_ms=9, speech_rate=1.3),\n",
       "  Interval(speech_ms=20, pause_ms=0, speech_rate=2.0)],\n",
       " [Interval(speech_ms=20, pause_ms=0, speech_rate=1.5),\n",
       "  Interval(speech_ms=46, pause_ms=4, speech_rate=1.3000000000000003)],\n",
       " [Interval(speech_ms=38, pause_ms=12, speech_rate=1.3),\n",
       "  Interval(speech_ms=20, pause_ms=0, speech_rate=2.0)],\n",
       " [Interval(speech_ms=8, pause_ms=2, speech_rate=1.3),\n",
       "  Interval(speech_ms=60, pause_ms=0, speech_rate=1.3333333333333335)],\n",
       " [Interval(speech_ms=69, pause_ms=1, speech_rate=1.3)]]"
      ]
     },
     "execution_count": 35,
     "metadata": {},
     "output_type": "execute_result"
    }
   ],
   "source": [
    "[[adjust(interval, base_rate=1.3) for interval in intervals] for intervals in solutions]"
   ]
  },
  {
   "cell_type": "code",
   "execution_count": 24,
   "metadata": {},
   "outputs": [
    {
     "data": {
      "text/plain": [
       "Interval(speech_ms=20, pause_ms=10, speech_rate=1.5)"
      ]
     },
     "execution_count": 24,
     "metadata": {},
     "output_type": "execute_result"
    }
   ],
   "source": [
    "merge(\n",
    "    Interval(10, 0, 1.0),\n",
    "    Interval(10, 10, 2.0),\n",
    ")"
   ]
  },
  {
   "cell_type": "code",
   "execution_count": 18,
   "metadata": {},
   "outputs": [
    {
     "data": {
      "text/plain": [
       "Interval(signal_ms=10, silence_ms=5, speech_rate=1.0)"
      ]
     },
     "execution_count": 18,
     "metadata": {},
     "output_type": "execute_result"
    }
   ],
   "source": [
    "adjust_speech_rate(Interval(5, 10, 2.0), 1.0)"
   ]
  },
  {
   "cell_type": "code",
   "execution_count": null,
   "metadata": {},
   "outputs": [],
   "source": []
  }
 ],
 "metadata": {
  "kernelspec": {
   "display_name": "Python 3.10.6 ('venv': venv)",
   "language": "python",
   "name": "python3"
  },
  "language_info": {
   "codemirror_mode": {
    "name": "ipython",
    "version": 3
   },
   "file_extension": ".py",
   "mimetype": "text/x-python",
   "name": "python",
   "nbconvert_exporter": "python",
   "pygments_lexer": "ipython3",
   "version": "3.10.6"
  },
  "orig_nbformat": 4,
  "vscode": {
   "interpreter": {
    "hash": "5652a68a482a1e90ced5dcbb8d22880790b6ab37bf812ad1c4d4e7f6cb30c547"
   }
  }
 },
 "nbformat": 4,
 "nbformat_minor": 2
}
