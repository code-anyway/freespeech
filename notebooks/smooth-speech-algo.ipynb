{
 "cells": [
  {
   "cell_type": "code",
   "execution_count": 11,
   "metadata": {},
   "outputs": [],
   "source": [
    "import re\n",
    "\n",
    "from dataclasses import dataclass\n",
    "from freespeech.types import Character, Language\n",
    "from freespeech.lib import text, speech\n",
    "\n",
    "\n",
    "@dataclass(frozen=True)\n",
    "class Interval:\n",
    "    speech_ms: int\n",
    "    pause_ms: int\n",
    "    speech_rate: float\n",
    "    character: Character\n",
    "    chunks: list[str | int]\n",
    "\n",
    "\n",
    "def merge(a: Interval, b: Interval) -> Interval:\n",
    "    speech_ms = a.speech_ms + b.speech_ms\n",
    "    speech_rate = (a.speech_rate * a.speech_ms + b.speech_rate * b.speech_ms) / speech_ms\n",
    "    pause_ms = a.pause_ms + b.pause_ms\n",
    "\n",
    "    if a.character != b.character:\n",
    "        raise ValueError(f\"character in a and b should be the same\")\n",
    "\n",
    "    return Interval(\n",
    "        pause_ms=pause_ms,\n",
    "        speech_ms=speech_ms,\n",
    "        speech_rate=speech_rate,\n",
    "        chunks=a.chunks + b.chunks,\n",
    "        character=a.character\n",
    "    )\n",
    "\n",
    "\n",
    "def adjust(a: Interval, base_rate: float) -> Interval:\n",
    "    speech_ms = min(\n",
    "            a.speech_ms + a.pause_ms,  # can't be longer than total duration\n",
    "            a.speech_ms * (a.speech_rate / base_rate)\n",
    "        )\n",
    "    pause_ms = (a.speech_ms + a.pause_ms) - speech_ms\n",
    "    speech_rate = a.speech_rate * (a.speech_ms / speech_ms)\n",
    "\n",
    "    return Interval(\n",
    "        speech_ms=round(speech_ms),\n",
    "        pause_ms=round(pause_ms),\n",
    "        speech_rate=speech_rate,\n",
    "        character=a.character,\n",
    "        chunks=[\n",
    "            chunk if isinstance(chunk, str) else round(chunk * (pause_ms / a.pause_ms))\n",
    "            for chunk in a.chunks\n",
    "        ]\n",
    "    )\n",
    "\n",
    "\n",
    "def chunk_paragraph(s: str, lang: Language) -> list[str | int]:\n",
    "    sentences = text.sentences(s, lang=lang)\n",
    "    outline = sum([list(reversed(speech.extract_pauses(sentence))) for sentence in sentences], [])\n",
    "    outline = [item.strip() if isinstance(item, str) else item for item in outline]\n",
    "    return [item for item in outline if item]\n"
   ]
  },
  {
   "cell_type": "code",
   "execution_count": 17,
   "metadata": {},
   "outputs": [
    {
     "data": {
      "text/plain": [
       "[1500, 'Hello  world!', 1000]"
      ]
     },
     "execution_count": 17,
     "metadata": {},
     "output_type": "execute_result"
    }
   ],
   "source": [
    "chunk_paragraph(\"#1.0# Hello world! #1.0#\", lang=\"en-US\")"
   ]
  },
  {
   "cell_type": "code",
   "execution_count": 30,
   "metadata": {},
   "outputs": [],
   "source": [
    "from itertools import permutations\n",
    "\n",
    "\n",
    "def all_merges(intervals: list[Interval], n: int) -> list[tuple[bool]]:\n",
    "    return sum((\n",
    "        list(set(permutations([True] * i + [False] * (len(intervals) - i - 1))))\n",
    "        for i in range(n)), [])"
   ]
  },
  {
   "cell_type": "code",
   "execution_count": 31,
   "metadata": {},
   "outputs": [],
   "source": [
    "def merge_intervals(intervals: list[Interval], flags: tuple[bool]) -> list[Interval]:\n",
    "    intervals = intervals.copy()\n",
    "    acc = [intervals.pop(0)]\n",
    "\n",
    "    for interval, should_merge in zip(intervals, flags):\n",
    "        if not should_merge:\n",
    "            acc += [interval]\n",
    "        else:\n",
    "            acc += [merge(interval, acc.pop())]\n",
    "\n",
    "    return acc"
   ]
  },
  {
   "cell_type": "code",
   "execution_count": 32,
   "metadata": {},
   "outputs": [],
   "source": [
    "solutions = [merge_intervals(intervals, flags) for flags in all_merges(intervals, len(intervals))]"
   ]
  },
  {
   "cell_type": "code",
   "execution_count": 33,
   "metadata": {},
   "outputs": [
    {
     "data": {
      "text/plain": [
       "[[Interval(speech_ms=10, pause_ms=0, speech_rate=1.0),\n",
       "  Interval(speech_ms=10, pause_ms=0, speech_rate=2.0),\n",
       "  Interval(speech_ms=20, pause_ms=10, speech_rate=1.0),\n",
       "  Interval(speech_ms=20, pause_ms=0, speech_rate=2.0)],\n",
       " [Interval(speech_ms=20, pause_ms=0, speech_rate=1.5),\n",
       "  Interval(speech_ms=20, pause_ms=10, speech_rate=1.0),\n",
       "  Interval(speech_ms=20, pause_ms=0, speech_rate=2.0)],\n",
       " [Interval(speech_ms=10, pause_ms=0, speech_rate=1.0),\n",
       "  Interval(speech_ms=10, pause_ms=0, speech_rate=2.0),\n",
       "  Interval(speech_ms=40, pause_ms=10, speech_rate=1.5)],\n",
       " [Interval(speech_ms=10, pause_ms=0, speech_rate=1.0),\n",
       "  Interval(speech_ms=30, pause_ms=10, speech_rate=1.3333333333333333),\n",
       "  Interval(speech_ms=20, pause_ms=0, speech_rate=2.0)],\n",
       " [Interval(speech_ms=20, pause_ms=0, speech_rate=1.5),\n",
       "  Interval(speech_ms=40, pause_ms=10, speech_rate=1.5)],\n",
       " [Interval(speech_ms=40, pause_ms=10, speech_rate=1.25),\n",
       "  Interval(speech_ms=20, pause_ms=0, speech_rate=2.0)],\n",
       " [Interval(speech_ms=10, pause_ms=0, speech_rate=1.0),\n",
       "  Interval(speech_ms=50, pause_ms=10, speech_rate=1.6)],\n",
       " [Interval(speech_ms=60, pause_ms=10, speech_rate=1.5)]]"
      ]
     },
     "execution_count": 33,
     "metadata": {},
     "output_type": "execute_result"
    }
   ],
   "source": [
    "solutions"
   ]
  },
  {
   "cell_type": "code",
   "execution_count": 35,
   "metadata": {},
   "outputs": [
    {
     "data": {
      "text/plain": [
       "[[Interval(speech_ms=8, pause_ms=2, speech_rate=1.3),\n",
       "  Interval(speech_ms=10, pause_ms=0, speech_rate=2.0),\n",
       "  Interval(speech_ms=15, pause_ms=15, speech_rate=1.3),\n",
       "  Interval(speech_ms=20, pause_ms=0, speech_rate=2.0)],\n",
       " [Interval(speech_ms=20, pause_ms=0, speech_rate=1.5),\n",
       "  Interval(speech_ms=15, pause_ms=15, speech_rate=1.3),\n",
       "  Interval(speech_ms=20, pause_ms=0, speech_rate=2.0)],\n",
       " [Interval(speech_ms=8, pause_ms=2, speech_rate=1.3),\n",
       "  Interval(speech_ms=10, pause_ms=0, speech_rate=2.0),\n",
       "  Interval(speech_ms=46, pause_ms=4, speech_rate=1.3000000000000003)],\n",
       " [Interval(speech_ms=8, pause_ms=2, speech_rate=1.3),\n",
       "  Interval(speech_ms=31, pause_ms=9, speech_rate=1.3),\n",
       "  Interval(speech_ms=20, pause_ms=0, speech_rate=2.0)],\n",
       " [Interval(speech_ms=20, pause_ms=0, speech_rate=1.5),\n",
       "  Interval(speech_ms=46, pause_ms=4, speech_rate=1.3000000000000003)],\n",
       " [Interval(speech_ms=38, pause_ms=12, speech_rate=1.3),\n",
       "  Interval(speech_ms=20, pause_ms=0, speech_rate=2.0)],\n",
       " [Interval(speech_ms=8, pause_ms=2, speech_rate=1.3),\n",
       "  Interval(speech_ms=60, pause_ms=0, speech_rate=1.3333333333333335)],\n",
       " [Interval(speech_ms=69, pause_ms=1, speech_rate=1.3)]]"
      ]
     },
     "execution_count": 35,
     "metadata": {},
     "output_type": "execute_result"
    }
   ],
   "source": [
    "[[adjust(interval, base_rate=1.3) for interval in intervals] for intervals in solutions]"
   ]
  },
  {
   "cell_type": "code",
   "execution_count": 24,
   "metadata": {},
   "outputs": [
    {
     "data": {
      "text/plain": [
       "Interval(speech_ms=20, pause_ms=10, speech_rate=1.5)"
      ]
     },
     "execution_count": 24,
     "metadata": {},
     "output_type": "execute_result"
    }
   ],
   "source": [
    "merge(\n",
    "    Interval(10, 0, 1.0),\n",
    "    Interval(10, 10, 2.0),\n",
    ")"
   ]
  },
  {
   "cell_type": "code",
   "execution_count": 18,
   "metadata": {},
   "outputs": [
    {
     "data": {
      "text/plain": [
       "Interval(signal_ms=10, silence_ms=5, speech_rate=1.0)"
      ]
     },
     "execution_count": 18,
     "metadata": {},
     "output_type": "execute_result"
    }
   ],
   "source": [
    "adjust_speech_rate(Interval(5, 10, 2.0), 1.0)"
   ]
  },
  {
   "cell_type": "code",
   "execution_count": null,
   "metadata": {},
   "outputs": [],
   "source": []
  }
 ],
 "metadata": {
  "kernelspec": {
   "display_name": "Python 3.10.6 ('venv': venv)",
   "language": "python",
   "name": "python3"
  },
  "language_info": {
   "codemirror_mode": {
    "name": "ipython",
    "version": 3
   },
   "file_extension": ".py",
   "mimetype": "text/x-python",
   "name": "python",
   "nbconvert_exporter": "python",
   "pygments_lexer": "ipython3",
   "version": "3.10.6"
  },
  "orig_nbformat": 4,
  "vscode": {
   "interpreter": {
    "hash": "5652a68a482a1e90ced5dcbb8d22880790b6ab37bf812ad1c4d4e7f6cb30c547"
   }
  }
 },
 "nbformat": 4,
 "nbformat_minor": 2
}
