{
 "cells": [
  {
   "cell_type": "code",
   "execution_count": 3,
   "metadata": {},
   "outputs": [],
   "source": [
    "from freespeech.lib import gdocs\n",
    "\n",
    "\n",
    "transcript = gdocs.load(\"https://docs.google.com/document/d/1CXHCVOi4fARqSNH1SdsY4dLsqrxWXfP3Z437cQnmdmo/edit#\")"
   ]
  },
  {
   "cell_type": "code",
   "execution_count": 4,
   "metadata": {},
   "outputs": [
    {
     "data": {
      "text/plain": [
       "[Interval(speech_ms=1050, rate=0.9523809523809523, character='Alan', outline=['Hello.', 50, 'World!', 50, 'How are you?', 50])]"
      ]
     },
     "execution_count": 4,
     "metadata": {},
     "output_type": "execute_result"
    }
   ],
   "source": [
    "import re\n",
    "from itertools import zip_longest\n",
    "from functools import reduce\n",
    "\n",
    "from dataclasses import dataclass\n",
    "from tempfile import TemporaryDirectory\n",
    "from freespeech.types import Character, Event, Language\n",
    "from freespeech.lib import text, speech, audio, media\n",
    "\n",
    "\n",
    "@dataclass(frozen=True)\n",
    "class Interval:\n",
    "    speech_ms: int\n",
    "    rate: float\n",
    "    character: Character\n",
    "    outline: list[str | int]\n",
    "\n",
    "\n",
    "def normalize(outline: list[str | int], sentence_pause_ms: int) -> list[str | int]:\n",
    "    def reducer(x: list[str | int], y: str | int) -> list[int | str]:\n",
    "        if x and isinstance(x[-1], int) and isinstance(y, int):\n",
    "            return x[:-1] + [x[-1] + y]\n",
    "        elif x and isinstance(x[-1], str) and isinstance(y, str):\n",
    "            return x[:-1] + [sentence_pause_ms] + [y]\n",
    "        else:\n",
    "            return x + [y]\n",
    "    \n",
    "    return reduce(reducer, outline, [])\n",
    "\n",
    "\n",
    "def merge(a: Interval, b: Interval, sentence_pause_ms: int) -> Interval:\n",
    "    speech_ms = a.speech_ms + b.speech_ms\n",
    "    rate = (a.rate * a.speech_ms + b.rate * b.speech_ms) / speech_ms\n",
    "\n",
    "    if a.character != b.character:\n",
    "        raise ValueError(f\"character in a and b should be the same\")\n",
    "\n",
    "    return Interval(\n",
    "        speech_ms=speech_ms,\n",
    "        rate=rate,\n",
    "        outline=normalize(\n",
    "            a.outline + b.outline,\n",
    "            sentence_pause_ms=sentence_pause_ms\n",
    "        ),\n",
    "        character=a.character\n",
    "    )\n",
    "\n",
    "\n",
    "def adjust(interval: Interval, target_rate: float, min_pause_ms: int) -> Interval:\n",
    "    \"\"\"Brings speech rate and pauses of an interval to match target speech rate.\n",
    "\n",
    "    Args:\n",
    "        interval: Speech interval.\n",
    "        target_rate: Target speech rate.\n",
    "        min_pause_ms: Minimum duration of a pause in milliseconds.\n",
    "\n",
    "    Returns:\n",
    "        New speech interval with speech rate as close to target_rate as possible\n",
    "        while retaining minimum pauses.\n",
    "    \"\"\"\n",
    "    original_pauses = [unit for unit in interval.outline if isinstance(unit, int)]\n",
    "    original_silence_ms = sum(original_pauses)\n",
    "    min_silence_ms = len(original_pauses) * min_pause_ms\n",
    "\n",
    "    target_scale_factor = interval.rate / target_rate\n",
    "    speech_ms = round(interval.speech_ms * target_scale_factor)\n",
    "    silence_ms = max(min_silence_ms, original_silence_ms + interval.speech_ms - speech_ms)\n",
    "    \n",
    "    pauses = [min_pause_ms] * len(original_pauses)\n",
    "    pause_budget = silence_ms - sum(pauses)\n",
    "    deltas = [original - new if original > new else 0 for original, new in zip(original_pauses, pauses)]\n",
    "    pause_scale_factor = pause_budget / sum(deltas) if sum(deltas) != 0 else 0\n",
    "\n",
    "    # Not rounding to avoid overflowing pauses due to rounding error which may result in longer\n",
    "    # synthesized clips than necessary.\n",
    "    pauses = (int(pause + delta * pause_scale_factor) for pause, delta in zip(pauses, deltas))\n",
    "\n",
    "    outline = [unit if isinstance(unit, str) else next(pauses) for unit in interval.outline]\n",
    "\n",
    "    speech_ms = interval.speech_ms + (original_silence_ms - silence_ms)\n",
    "    scale_factor = interval.speech_ms / speech_ms\n",
    "    rate = interval.rate * scale_factor\n",
    "\n",
    "    return Interval(\n",
    "        speech_ms=speech_ms,\n",
    "        rate=rate,\n",
    "        character=interval.character,\n",
    "        outline=outline,\n",
    "    )\n",
    "\n",
    "\n",
    "def get_outline(s: str, sentence_pause_ms: int, lang: Language) -> list[str | int]:\n",
    "    split = re.split(r\"#(\\d+(\\.\\d+)?)#\", s)\n",
    "    outline = [\n",
    "        [\n",
    "            # Interlace each sentence with pauses, doping the first pause.\n",
    "            *sum([\n",
    "                [sentence_pause_ms, sentence] for\n",
    "                sentence in text.sentences(s.strip(), lang=lang)], \n",
    "            [])[1:],\n",
    "            round((float(pause) if pause else 0.0) * 1000)\n",
    "        ] for s, pause in zip_longest(split[0::3], split[1::3], fillvalue=\"\")\n",
    "        if s or pause\n",
    "    ]\n",
    "\n",
    "    return normalize([item for item in sum(outline, []) if item], sentence_pause_ms=sentence_pause_ms)\n",
    "\n",
    "\n",
    "async def get_interval(event: Event, sentence_pause_ms: int, lang: Language) -> Interval:\n",
    "    paragraph = \" \".join(event.chunks)\n",
    "    outline = get_outline(paragraph, sentence_pause_ms=sentence_pause_ms, lang=lang)\n",
    "    with TemporaryDirectory() as tmp_dir:\n",
    "        clips = [\n",
    "            audio.strip((await speech.synthesize_text(\n",
    "                text=chunk,\n",
    "                duration_ms=None,\n",
    "                voice=event.voice,\n",
    "                lang=lang,\n",
    "                output_dir=tmp_dir\n",
    "            ))[0]) if isinstance(chunk, str) else chunk\n",
    "            for chunk in outline\n",
    "        ]\n",
    "        speech_ms = sum(media.audio_duration(clip) for clip in clips if not isinstance(clip, int))\n",
    "        silence_ms = sum(clip for clip in clips if isinstance(clip, int))\n",
    "        rate = event.voice.speech_rate\n",
    "        character = event.voice.character\n",
    "\n",
    "    scale_factor = event.duration_ms / (speech_ms + silence_ms)\n",
    "    outline = [int(item * scale_factor) if isinstance(item, int) else item for item in outline]\n",
    "    silence_ms = sum(item for item in outline if isinstance(item, int))\n",
    "\n",
    "    interval = Interval(\n",
    "        speech_ms=event.duration_ms - silence_ms,\n",
    "        rate=rate / scale_factor,\n",
    "        character=character,\n",
    "        outline=outline\n",
    "    )\n",
    "\n",
    "    return adjust(interval, target_rate=event.voice.speech_rate, min_pause_ms=sentence_pause_ms)\n",
    "\n",
    "intervals = [\n",
    "    Interval(speech_ms=1000, rate=1.0, character=\"Alan\", outline=[\"Hello.\", 0, \"World!\", 100, \"How are you?\", 100])\n",
    "]\n",
    "\n",
    "[adjust(interval, target_rate=0.5, min_pause_ms=50) for interval in intervals]\n"
   ]
  },
  {
   "cell_type": "code",
   "execution_count": 5,
   "metadata": {},
   "outputs": [
    {
     "name": "stderr",
     "output_type": "stream",
     "text": [
      "\n",
      "(python:62260): GLib-CRITICAL **: 15:30:56.425: Failed to set scheduler settings: Operation not permitted\n",
      "\n",
      "(python:62260): GLib-CRITICAL **: 15:30:57.023: Failed to set scheduler settings: Operation not permitted\n",
      "\n",
      "(python:62260): GLib-CRITICAL **: 15:30:57.630: Failed to set scheduler settings: Operation not permitted\n",
      "\n",
      "(python:62260): GLib-CRITICAL **: 15:30:58.190: Failed to set scheduler settings: Operation not permitted\n",
      "\n",
      "(python:62260): GLib-CRITICAL **: 15:30:59.239: Failed to set scheduler settings: Operation not permitted\n",
      "\n",
      "(python:62260): GLib-CRITICAL **: 15:30:59.973: Failed to set scheduler settings: Operation not permitted\n"
     ]
    }
   ],
   "source": [
    "intervals = [await get_interval(event, sentence_pause_ms=50, lang=transcript.lang) for event in transcript.events]"
   ]
  },
  {
   "cell_type": "code",
   "execution_count": 12,
   "metadata": {},
   "outputs": [
    {
     "data": {
      "text/plain": [
       "(1.167945003662336,\n",
       " [Interval(speech_ms=2310, rate=1.3578106852497098, character='Alan', outline=['Привет всем!', 50, 'Как дела?', 50, 'Добро пожаловать на наш канал.', 50]),\n",
       "  Interval(speech_ms=1220, rate=1.1795081967213115, character='Alan', outline=['Меня зовут Скотт Мосс.']),\n",
       "  Interval(speech_ms=2694, rate=0.9999060949768186, character='Alan', outline=['В этом видео мы делаем кое-что слегка иначе.', 326])],\n",
       " [Interval(speech_ms=3530, rate=1.296187728874456, character='Alan', outline=['Привет всем!', 50, 'Как дела?', 50, 'Добро пожаловать на наш канал.', 50, 'Меня зовут Скотт Мосс.']),\n",
       "  Interval(speech_ms=2694, rate=0.9999060949768186, character='Alan', outline=['В этом видео мы делаем кое-что слегка иначе.', 326])])"
      ]
     },
     "execution_count": 12,
     "metadata": {},
     "output_type": "execute_result"
    }
   ],
   "source": [
    "def average_rate(intervals: list[Interval]) -> float:\n",
    "    total_speech_ms = sum(interval.speech_ms for interval in intervals)\n",
    "    return sum(interval.rate * interval.speech_ms for interval in intervals) / total_speech_ms\n",
    "\n",
    "\n",
    "def patch(intervals: list[Interval], index: int, target_rate: float, min_pause_ms: int) -> list[Interval]:\n",
    "    \"\"\"Patch the interval sequence at the given index to achieve target speech rate.\n",
    "    \n",
    "    Args:\n",
    "        intervals: Input sequence of intervals.\n",
    "        index: index to patch around.\n",
    "        target_rate: target speech rate.\n",
    "        min_pause_ms: minimum pause between the sentences.\n",
    "\n",
    "    Returns:\n",
    "        Initial sequence of intervals with the interval at index i merge with\n",
    "        previous or next one to reduce the speech rate.\n",
    "    \"\"\"\n",
    "    if len(intervals) <= 1:\n",
    "        return intervals\n",
    "\n",
    "    def merge_and_adjust(a: Interval, b: Interval) -> Interval:\n",
    "        return adjust(\n",
    "            merge(a, b),\n",
    "            target_rate=target_rate,\n",
    "            min_pause_ms=min_pause_ms\n",
    "        )\n",
    "\n",
    "    if index == 0:\n",
    "        return [merge_and_adjust(intervals[index], intervals[index + 1])] + intervals[2:]\n",
    "\n",
    "    if index == len(intervals) - 1:\n",
    "        return intervals[:-2] + [merge_and_adjust(intervals[index - 1], intervals[index])]\n",
    "\n",
    "    _next = merge_and_adjust(intervals[index], intervals[index + 1])\n",
    "    _prev = merge_and_adjust(intervals[index - 1], intervals[index])\n",
    "\n",
    "    if _prev.rate < _next.rate:\n",
    "        return intervals[:index - 1] + [_prev] + intervals[index + 1:]\n",
    "    else:\n",
    "        return intervals[:index] + [_next] + intervals[index + 2:]\n",
    "\n",
    "\n",
    "sample = intervals[:3]\n",
    "average = average_rate(sample)\n",
    "\n",
    "average, sample, patch(\n",
    "    intervals=intervals[:3],\n",
    "    index=0,\n",
    "    target_rate=average,\n",
    "    min_pause_ms=50,\n",
    ")"
   ]
  },
  {
   "cell_type": "code",
   "execution_count": 19,
   "metadata": {},
   "outputs": [
    {
     "data": {
      "text/plain": [
       "[Interval(speech_ms=59102, rate=1.1892388241710872, character='Alan', outline=['Привет всем!', 50, 'Как дела?', 50, 'Добро пожаловать на наш канал.', 50, 'Меня зовут Скотт Мосс.', 'В этом видео мы делаем кое-что слегка иначе.', 50, 'Я хотел немного кое-что поменять.', 'Я тут почувствовал небольшое вдохновение.', 'Пару дней назад у меня в гостях был мой друг, который работает инженером здесь, в Долине.', 'Он думал о том, чтобы открыть компанию и вот все это.', 50, 'Но у него нет никакого опыта, когда дело доходит до привлечения денег, общения с венчурными инвесторами и так далее.', 'Он сказал: \"Йо, Скотт, когда ты создавал свою компанию и тебе пришлось обращаться к венчурным инвесторам, просить денег, делать все это и собирать деньги.', 50, 'На что был похож твой опыт?', 'Знаешь, какие были самые дикие истории, хорошие и плохие?', 50, 'Каждый раз, когда кто-то задает мне этот вопрос, я всегда вспоминаю один питч, который я сделал одному инвестору и была просто совсем странная атмосфера.', 'Это то, чего я никак не мог ожидать.', 50, 'Я подключился к зуму с этим человеком.', 50, 'И он появился, ну, знаете, опоздав почти на 10 минут, кажется.', 50, 'И потом он ответил на зум типа, в своей спальне.', 50, 'И я помню, первое, что я увидел, была огромная козявка у него в носу, типа.', 50, 'И я, такой думаю: как ты не почувствовал эту козявку в носу?', 50]),\n",
       " Interval(speech_ms=1833, rate=1.1527065527065528, character='Alan', outline=['Я не знаю.', 50, 'Это было очень странно.']),\n",
       " Interval(speech_ms=2075, rate=1.152289156626506, character='Alan', outline=['И да, дальше все стало еще безумнее.']),\n",
       " Interval(speech_ms=2498, rate=1.1525220176140913, character='Alan', outline=['Так что, знаете, все происходило примерно так.'])]"
      ]
     },
     "execution_count": 19,
     "metadata": {},
     "output_type": "execute_result"
    }
   ],
   "source": [
    "sample = intervals[:17]\n",
    "\n",
    "def smoothen(intervals: list[Interval], min_pause_ms: int) -> list[Interval]:\n",
    "    average = average_rate(intervals)\n",
    "    intervals = [\n",
    "        adjust(interval, target_rate=average, min_pause_ms=50) for interval in intervals\n",
    "    ]\n",
    "\n",
    "\n",
    "    while True:\n",
    "        value, index = max((interval.rate, i) for i, interval in enumerate(intervals))\n",
    "        if (value - average) > average * 0.05:\n",
    "            intervals = patch(\n",
    "                intervals=intervals,\n",
    "                index=index,\n",
    "                target_rate=average,\n",
    "                min_pause_ms=50,\n",
    "            )\n",
    "        else:\n",
    "            return intervals\n",
    "\n",
    "\n",
    "smoothen(intervals=sample, min_pause_ms=50)"
   ]
  },
  {
   "cell_type": "code",
   "execution_count": 43,
   "metadata": {},
   "outputs": [
    {
     "data": {
      "text/plain": [
       "[Interval(speech_ms=2260, rate=1.387373192315994, character='Alan', outline=[50, 'Привет всем!', 50, 'Как дела?', 50, 'Добро пожаловать на наш канал.', 50]),\n",
       " Interval(speech_ms=1170, rate=1.2309233571528653, character='Alan', outline=[50, 'Меня зовут Скотт Мосс.']),\n",
       " Interval(speech_ms=2300, rate=1.1615260581629716, character='Alan', outline=[52, 'В этом видео мы делаем кое-что слегка иначе.', 666]),\n",
       " Interval(speech_ms=1630, rate=1.239702015775635, character='Alan', outline=[50, 'Я хотел немного кое-что поменять.']),\n",
       " Interval(speech_ms=1390, rate=1.870728417266187, character='Alan', outline=[50, 'Я тут почувствовал небольшое вдохновение.']),\n",
       " Interval(speech_ms=3440, rate=1.4918635470113946, character='Alan', outline=[50, 'Пару дней назад у меня в гостях был мой друг, который работает инженером здесь, в Долине.']),\n",
       " Interval(speech_ms=2740, rate=1.161577923712331, character='Alan', outline=[50, 'Он думал о том, чтобы открыть компанию и вот все это.', 50]),\n",
       " Interval(speech_ms=4230, rate=1.619156171980292, character='Alan', outline=[50, 'Но у него нет никакого опыта, когда дело доходит до привлечения денег, общения с венчурными инвесторами и так далее.']),\n",
       " Interval(speech_ms=8490, rate=1.2471058877731935, character='Alan', outline=[50, 'Он сказал: \"Йо, Скотт, когда ты создавал свою компанию и тебе пришлось обращаться к венчурным инвесторам, просить денег, делать все это и собирать деньги.', 50, 'На что был похож твой опыт?']),\n",
       " Interval(speech_ms=10815, rate=1.1616123147058992, character='Alan', outline=[50, 'Знаешь, какие были самые дикие истории, хорошие и плохие?', 50, 'Каждый раз, когда кто-то задает мне этот вопрос, я всегда вспоминаю один питч, который я сделал одному инвестору и была просто совсем странная атмосфера.']),\n",
       " Interval(speech_ms=1899, rate=1.1616786612837167, character='Alan', outline=[50, 'Это то, чего я никак не мог ожидать.']),\n",
       " Interval(speech_ms=5550, rate=1.200982456140351, character='Alan', outline=[50, 'Я подключился к зуму с этим человеком.', 50, 'И он появился, ну, знаете, опоздав почти на 10 минут, кажется.', 50]),\n",
       " Interval(speech_ms=2579, rate=1.16175226479608, character='Alan', outline=[173, 'И потом он ответил на зум типа, в своей спальне.', 986]),\n",
       " Interval(speech_ms=7076, rate=1.1616990539726066, character='Alan', outline=[50, 'И я помню, первое, что я увидел, была огромная козявка у него в носу, типа.', 50, 'И я, такой думаю: как ты не почувствовал эту козявку в носу?', 1284]),\n",
       " Interval(speech_ms=1820, rate=1.1613675213675214, character='Alan', outline=[50, 'Я не знаю.', 50, 'Это было очень странно.']),\n",
       " Interval(speech_ms=2059, rate=1.161568570379383, character='Alan', outline=[811, 'И да, дальше все стало еще безумнее.']),\n",
       " Interval(speech_ms=2479, rate=1.1614388866478416, character='Alan', outline=[1521, 'Так что, знаете, все происходило примерно так.'])]"
      ]
     },
     "execution_count": 43,
     "metadata": {},
     "output_type": "execute_result"
    }
   ],
   "source": [
    "adjusted"
   ]
  },
  {
   "cell_type": "code",
   "execution_count": 30,
   "metadata": {},
   "outputs": [],
   "source": [
    "from itertools import permutations\n",
    "\n",
    "\n",
    "def all_merges(intervals: list[Interval], n: int) -> list[tuple[bool]]:\n",
    "    return sum((\n",
    "        list(set(permutations([True] * i + [False] * (len(intervals) - i - 1))))\n",
    "        for i in range(n)), [])"
   ]
  },
  {
   "cell_type": "code",
   "execution_count": 31,
   "metadata": {},
   "outputs": [],
   "source": [
    "def merge_intervals(intervals: list[Interval], flags: tuple[bool]) -> list[Interval]:\n",
    "    intervals = intervals.copy()\n",
    "    acc = [intervals.pop(0)]\n",
    "\n",
    "    for interval, should_merge in zip(intervals, flags):\n",
    "        if not should_merge:\n",
    "            acc += [interval]\n",
    "        else:\n",
    "            acc += [merge(interval, acc.pop())]\n",
    "\n",
    "    return acc"
   ]
  },
  {
   "cell_type": "code",
   "execution_count": 32,
   "metadata": {},
   "outputs": [],
   "source": [
    "solutions = [merge_intervals(intervals, flags) for flags in all_merges(intervals, len(intervals))]"
   ]
  },
  {
   "cell_type": "code",
   "execution_count": 33,
   "metadata": {},
   "outputs": [
    {
     "data": {
      "text/plain": [
       "[[Interval(speech_ms=10, pause_ms=0, speech_rate=1.0),\n",
       "  Interval(speech_ms=10, pause_ms=0, speech_rate=2.0),\n",
       "  Interval(speech_ms=20, pause_ms=10, speech_rate=1.0),\n",
       "  Interval(speech_ms=20, pause_ms=0, speech_rate=2.0)],\n",
       " [Interval(speech_ms=20, pause_ms=0, speech_rate=1.5),\n",
       "  Interval(speech_ms=20, pause_ms=10, speech_rate=1.0),\n",
       "  Interval(speech_ms=20, pause_ms=0, speech_rate=2.0)],\n",
       " [Interval(speech_ms=10, pause_ms=0, speech_rate=1.0),\n",
       "  Interval(speech_ms=10, pause_ms=0, speech_rate=2.0),\n",
       "  Interval(speech_ms=40, pause_ms=10, speech_rate=1.5)],\n",
       " [Interval(speech_ms=10, pause_ms=0, speech_rate=1.0),\n",
       "  Interval(speech_ms=30, pause_ms=10, speech_rate=1.3333333333333333),\n",
       "  Interval(speech_ms=20, pause_ms=0, speech_rate=2.0)],\n",
       " [Interval(speech_ms=20, pause_ms=0, speech_rate=1.5),\n",
       "  Interval(speech_ms=40, pause_ms=10, speech_rate=1.5)],\n",
       " [Interval(speech_ms=40, pause_ms=10, speech_rate=1.25),\n",
       "  Interval(speech_ms=20, pause_ms=0, speech_rate=2.0)],\n",
       " [Interval(speech_ms=10, pause_ms=0, speech_rate=1.0),\n",
       "  Interval(speech_ms=50, pause_ms=10, speech_rate=1.6)],\n",
       " [Interval(speech_ms=60, pause_ms=10, speech_rate=1.5)]]"
      ]
     },
     "execution_count": 33,
     "metadata": {},
     "output_type": "execute_result"
    }
   ],
   "source": [
    "solutions"
   ]
  },
  {
   "cell_type": "code",
   "execution_count": 35,
   "metadata": {},
   "outputs": [
    {
     "data": {
      "text/plain": [
       "[[Interval(speech_ms=8, pause_ms=2, speech_rate=1.3),\n",
       "  Interval(speech_ms=10, pause_ms=0, speech_rate=2.0),\n",
       "  Interval(speech_ms=15, pause_ms=15, speech_rate=1.3),\n",
       "  Interval(speech_ms=20, pause_ms=0, speech_rate=2.0)],\n",
       " [Interval(speech_ms=20, pause_ms=0, speech_rate=1.5),\n",
       "  Interval(speech_ms=15, pause_ms=15, speech_rate=1.3),\n",
       "  Interval(speech_ms=20, pause_ms=0, speech_rate=2.0)],\n",
       " [Interval(speech_ms=8, pause_ms=2, speech_rate=1.3),\n",
       "  Interval(speech_ms=10, pause_ms=0, speech_rate=2.0),\n",
       "  Interval(speech_ms=46, pause_ms=4, speech_rate=1.3000000000000003)],\n",
       " [Interval(speech_ms=8, pause_ms=2, speech_rate=1.3),\n",
       "  Interval(speech_ms=31, pause_ms=9, speech_rate=1.3),\n",
       "  Interval(speech_ms=20, pause_ms=0, speech_rate=2.0)],\n",
       " [Interval(speech_ms=20, pause_ms=0, speech_rate=1.5),\n",
       "  Interval(speech_ms=46, pause_ms=4, speech_rate=1.3000000000000003)],\n",
       " [Interval(speech_ms=38, pause_ms=12, speech_rate=1.3),\n",
       "  Interval(speech_ms=20, pause_ms=0, speech_rate=2.0)],\n",
       " [Interval(speech_ms=8, pause_ms=2, speech_rate=1.3),\n",
       "  Interval(speech_ms=60, pause_ms=0, speech_rate=1.3333333333333335)],\n",
       " [Interval(speech_ms=69, pause_ms=1, speech_rate=1.3)]]"
      ]
     },
     "execution_count": 35,
     "metadata": {},
     "output_type": "execute_result"
    }
   ],
   "source": [
    "[[adjust(interval, base_rate=1.3) for interval in intervals] for intervals in solutions]"
   ]
  },
  {
   "cell_type": "code",
   "execution_count": 24,
   "metadata": {},
   "outputs": [
    {
     "data": {
      "text/plain": [
       "Interval(speech_ms=20, pause_ms=10, speech_rate=1.5)"
      ]
     },
     "execution_count": 24,
     "metadata": {},
     "output_type": "execute_result"
    }
   ],
   "source": [
    "merge(\n",
    "    Interval(10, 0, 1.0),\n",
    "    Interval(10, 10, 2.0),\n",
    ")"
   ]
  },
  {
   "cell_type": "code",
   "execution_count": 18,
   "metadata": {},
   "outputs": [
    {
     "data": {
      "text/plain": [
       "Interval(signal_ms=10, silence_ms=5, speech_rate=1.0)"
      ]
     },
     "execution_count": 18,
     "metadata": {},
     "output_type": "execute_result"
    }
   ],
   "source": [
    "adjust_speech_rate(Interval(5, 10, 2.0), 1.0)"
   ]
  },
  {
   "cell_type": "code",
   "execution_count": null,
   "metadata": {},
   "outputs": [],
   "source": []
  }
 ],
 "metadata": {
  "kernelspec": {
   "display_name": "Python 3.10.6 ('venv': venv)",
   "language": "python",
   "name": "python3"
  },
  "language_info": {
   "codemirror_mode": {
    "name": "ipython",
    "version": 3
   },
   "file_extension": ".py",
   "mimetype": "text/x-python",
   "name": "python",
   "nbconvert_exporter": "python",
   "pygments_lexer": "ipython3",
   "version": "3.10.6"
  },
  "orig_nbformat": 4,
  "vscode": {
   "interpreter": {
    "hash": "5652a68a482a1e90ced5dcbb8d22880790b6ab37bf812ad1c4d4e7f6cb30c547"
   }
  }
 },
 "nbformat": 4,
 "nbformat_minor": 2
}
