{
 "cells": [
  {
   "cell_type": "markdown",
   "source": [
    "# CRUD API\n",
    "## Ingesting video from external source\n",
    "\n",
    "Calling ingest:\n",
    "\n",
    "1. Check if there is already an object with this URL in kv storage? If there is, just return metadata stored there\n",
    "2. If there is none, download the video locally, depending on the protocol (youtube - ok, youtube, if it is telegram video then telegram etc).\n",
    "3. Then save it to bucket\n",
    "4. And finally, store the serialized `Media` into the doc storage. Both video and audio URL should point to the same file, with relevant metadata.\n",
    "\n",
    "Thus, we have:\n",
    "1. Natural caching. Question here, are we OK with immutable URLs? I.e. can we judge that data behind the URL should never change? this is the case with YT and Telegram, but this sounds more general.\n",
    "2. Metadata is cached too. We Saving metadata should be transactional with saving data to the bucket. If we need to check that meta only no need to download file.\n",
    "3. Source to interface adaptor. Once ingested (via simple `str` parameter of URL) all the video is treated same.\n",
    "\n",
    "Keys in cache would be of two kinds - external URLs for externally-originated resources, and internal `gs://` for internal resources (dubs etc)"
   ],
   "metadata": {
    "collapsed": false,
    "pycharm": {
     "name": "#%% md\n"
    }
   }
  },
  {
   "cell_type": "code",
   "execution_count": 1,
   "outputs": [
    {
     "ename": "InvalidURL",
     "evalue": "/upload",
     "output_type": "error",
     "traceback": [
      "\u001B[0;31m---------------------------------------------------------------------------\u001B[0m",
      "\u001B[0;31mInvalidURL\u001B[0m                                Traceback (most recent call last)",
      "Input \u001B[0;32mIn [1]\u001B[0m, in \u001B[0;36m<cell line: 6>\u001B[0;34m()\u001B[0m\n\u001B[1;32m      4\u001B[0m \u001B[38;5;28;01mfrom\u001B[39;00m \u001B[38;5;21;01mfreespeech\u001B[39;00m\u001B[38;5;21;01m.\u001B[39;00m\u001B[38;5;21;01mtypes\u001B[39;00m \u001B[38;5;28;01mimport\u001B[39;00m Job, Media\n\u001B[1;32m      6\u001B[0m \u001B[38;5;28;01masync\u001B[39;00m \u001B[38;5;28;01mwith\u001B[39;00m aiohttp\u001B[38;5;241m.\u001B[39mClientSession() \u001B[38;5;28;01mas\u001B[39;00m session:\n\u001B[0;32m----> 8\u001B[0m     download_job:Job[Media] \u001B[38;5;241m=\u001B[39m \u001B[38;5;28;01mawait\u001B[39;00m client\u001B[38;5;241m.\u001B[39mingest_video(url\u001B[38;5;241m=\u001B[39m\u001B[38;5;124m\"\u001B[39m\u001B[38;5;124mhttps://youtube.com/?v=ASDLKJFH\u001B[39m\u001B[38;5;124m\"\u001B[39m, session\u001B[38;5;241m=\u001B[39msession)\n",
      "File \u001B[0;32m~/work/freespeech/freespeech/client.py:32\u001B[0m, in \u001B[0;36mingest_video\u001B[0;34m(session, url)\u001B[0m\n\u001B[1;32m     27\u001B[0m \u001B[38;5;28;01masync\u001B[39;00m \u001B[38;5;28;01mdef\u001B[39;00m \u001B[38;5;21mingest_video\u001B[39m(\u001B[38;5;241m*\u001B[39m, session: aiohttp\u001B[38;5;241m.\u001B[39mClientSession, url: \u001B[38;5;28mstr\u001B[39m) \u001B[38;5;241m-\u001B[39m\u001B[38;5;241m>\u001B[39m Job[Media] \u001B[38;5;241m|\u001B[39m Error:\n\u001B[1;32m     28\u001B[0m     params \u001B[38;5;241m=\u001B[39m {\n\u001B[1;32m     29\u001B[0m         \u001B[38;5;124m\"\u001B[39m\u001B[38;5;124murl\u001B[39m\u001B[38;5;124m\"\u001B[39m: url,\n\u001B[1;32m     30\u001B[0m     }\n\u001B[0;32m---> 32\u001B[0m     \u001B[38;5;28;01masync\u001B[39;00m \u001B[38;5;28;01mwith\u001B[39;00m session\u001B[38;5;241m.\u001B[39mpost(\u001B[38;5;124m\"\u001B[39m\u001B[38;5;124m/upload\u001B[39m\u001B[38;5;124m\"\u001B[39m, json\u001B[38;5;241m=\u001B[39mparams) \u001B[38;5;28;01mas\u001B[39;00m resp:\n\u001B[1;32m     33\u001B[0m         result \u001B[38;5;241m=\u001B[39m \u001B[38;5;28;01mawait\u001B[39;00m resp\u001B[38;5;241m.\u001B[39mjson()\n\u001B[1;32m     35\u001B[0m         \u001B[38;5;28;01mif\u001B[39;00m resp\u001B[38;5;241m.\u001B[39mok:\n",
      "File \u001B[0;32m~/work/freespeech/venv/lib/python3.10/site-packages/aiohttp/client.py:1138\u001B[0m, in \u001B[0;36m_BaseRequestContextManager.__aenter__\u001B[0;34m(self)\u001B[0m\n\u001B[1;32m   1137\u001B[0m \u001B[38;5;28;01masync\u001B[39;00m \u001B[38;5;28;01mdef\u001B[39;00m \u001B[38;5;21m__aenter__\u001B[39m(\u001B[38;5;28mself\u001B[39m) \u001B[38;5;241m-\u001B[39m\u001B[38;5;241m>\u001B[39m _RetType:\n\u001B[0;32m-> 1138\u001B[0m     \u001B[38;5;28mself\u001B[39m\u001B[38;5;241m.\u001B[39m_resp \u001B[38;5;241m=\u001B[39m \u001B[38;5;28;01mawait\u001B[39;00m \u001B[38;5;28mself\u001B[39m\u001B[38;5;241m.\u001B[39m_coro\n\u001B[1;32m   1139\u001B[0m     \u001B[38;5;28;01mreturn\u001B[39;00m \u001B[38;5;28mself\u001B[39m\u001B[38;5;241m.\u001B[39m_resp\n",
      "File \u001B[0;32m~/work/freespeech/venv/lib/python3.10/site-packages/aiohttp/client.py:507\u001B[0m, in \u001B[0;36mClientSession._request\u001B[0;34m(self, method, str_or_url, params, data, json, cookies, headers, skip_auto_headers, auth, allow_redirects, max_redirects, compress, chunked, expect100, raise_for_status, read_until_eof, proxy, proxy_auth, timeout, verify_ssl, fingerprint, ssl_context, ssl, proxy_headers, trace_request_ctx, read_bufsize)\u001B[0m\n\u001B[1;32m    504\u001B[0m     \u001B[38;5;28;01mwith\u001B[39;00m suppress(\u001B[38;5;167;01mLookupError\u001B[39;00m):\n\u001B[1;32m    505\u001B[0m         proxy, proxy_auth \u001B[38;5;241m=\u001B[39m get_env_proxy_for_url(url)\n\u001B[0;32m--> 507\u001B[0m req \u001B[38;5;241m=\u001B[39m \u001B[38;5;28;43mself\u001B[39;49m\u001B[38;5;241;43m.\u001B[39;49m\u001B[43m_request_class\u001B[49m\u001B[43m(\u001B[49m\n\u001B[1;32m    508\u001B[0m \u001B[43m    \u001B[49m\u001B[43mmethod\u001B[49m\u001B[43m,\u001B[49m\n\u001B[1;32m    509\u001B[0m \u001B[43m    \u001B[49m\u001B[43murl\u001B[49m\u001B[43m,\u001B[49m\n\u001B[1;32m    510\u001B[0m \u001B[43m    \u001B[49m\u001B[43mparams\u001B[49m\u001B[38;5;241;43m=\u001B[39;49m\u001B[43mparams\u001B[49m\u001B[43m,\u001B[49m\n\u001B[1;32m    511\u001B[0m \u001B[43m    \u001B[49m\u001B[43mheaders\u001B[49m\u001B[38;5;241;43m=\u001B[39;49m\u001B[43mheaders\u001B[49m\u001B[43m,\u001B[49m\n\u001B[1;32m    512\u001B[0m \u001B[43m    \u001B[49m\u001B[43mskip_auto_headers\u001B[49m\u001B[38;5;241;43m=\u001B[39;49m\u001B[43mskip_headers\u001B[49m\u001B[43m,\u001B[49m\n\u001B[1;32m    513\u001B[0m \u001B[43m    \u001B[49m\u001B[43mdata\u001B[49m\u001B[38;5;241;43m=\u001B[39;49m\u001B[43mdata\u001B[49m\u001B[43m,\u001B[49m\n\u001B[1;32m    514\u001B[0m \u001B[43m    \u001B[49m\u001B[43mcookies\u001B[49m\u001B[38;5;241;43m=\u001B[39;49m\u001B[43mall_cookies\u001B[49m\u001B[43m,\u001B[49m\n\u001B[1;32m    515\u001B[0m \u001B[43m    \u001B[49m\u001B[43mauth\u001B[49m\u001B[38;5;241;43m=\u001B[39;49m\u001B[43mauth\u001B[49m\u001B[43m,\u001B[49m\n\u001B[1;32m    516\u001B[0m \u001B[43m    \u001B[49m\u001B[43mversion\u001B[49m\u001B[38;5;241;43m=\u001B[39;49m\u001B[43mversion\u001B[49m\u001B[43m,\u001B[49m\n\u001B[1;32m    517\u001B[0m \u001B[43m    \u001B[49m\u001B[43mcompress\u001B[49m\u001B[38;5;241;43m=\u001B[39;49m\u001B[43mcompress\u001B[49m\u001B[43m,\u001B[49m\n\u001B[1;32m    518\u001B[0m \u001B[43m    \u001B[49m\u001B[43mchunked\u001B[49m\u001B[38;5;241;43m=\u001B[39;49m\u001B[43mchunked\u001B[49m\u001B[43m,\u001B[49m\n\u001B[1;32m    519\u001B[0m \u001B[43m    \u001B[49m\u001B[43mexpect100\u001B[49m\u001B[38;5;241;43m=\u001B[39;49m\u001B[43mexpect100\u001B[49m\u001B[43m,\u001B[49m\n\u001B[1;32m    520\u001B[0m \u001B[43m    \u001B[49m\u001B[43mloop\u001B[49m\u001B[38;5;241;43m=\u001B[39;49m\u001B[38;5;28;43mself\u001B[39;49m\u001B[38;5;241;43m.\u001B[39;49m\u001B[43m_loop\u001B[49m\u001B[43m,\u001B[49m\n\u001B[1;32m    521\u001B[0m \u001B[43m    \u001B[49m\u001B[43mresponse_class\u001B[49m\u001B[38;5;241;43m=\u001B[39;49m\u001B[38;5;28;43mself\u001B[39;49m\u001B[38;5;241;43m.\u001B[39;49m\u001B[43m_response_class\u001B[49m\u001B[43m,\u001B[49m\n\u001B[1;32m    522\u001B[0m \u001B[43m    \u001B[49m\u001B[43mproxy\u001B[49m\u001B[38;5;241;43m=\u001B[39;49m\u001B[43mproxy\u001B[49m\u001B[43m,\u001B[49m\n\u001B[1;32m    523\u001B[0m \u001B[43m    \u001B[49m\u001B[43mproxy_auth\u001B[49m\u001B[38;5;241;43m=\u001B[39;49m\u001B[43mproxy_auth\u001B[49m\u001B[43m,\u001B[49m\n\u001B[1;32m    524\u001B[0m \u001B[43m    \u001B[49m\u001B[43mtimer\u001B[49m\u001B[38;5;241;43m=\u001B[39;49m\u001B[43mtimer\u001B[49m\u001B[43m,\u001B[49m\n\u001B[1;32m    525\u001B[0m \u001B[43m    \u001B[49m\u001B[43msession\u001B[49m\u001B[38;5;241;43m=\u001B[39;49m\u001B[38;5;28;43mself\u001B[39;49m\u001B[43m,\u001B[49m\n\u001B[1;32m    526\u001B[0m \u001B[43m    \u001B[49m\u001B[43mssl\u001B[49m\u001B[38;5;241;43m=\u001B[39;49m\u001B[43mssl\u001B[49m\u001B[43m,\u001B[49m\n\u001B[1;32m    527\u001B[0m \u001B[43m    \u001B[49m\u001B[43mproxy_headers\u001B[49m\u001B[38;5;241;43m=\u001B[39;49m\u001B[43mproxy_headers\u001B[49m\u001B[43m,\u001B[49m\n\u001B[1;32m    528\u001B[0m \u001B[43m    \u001B[49m\u001B[43mtraces\u001B[49m\u001B[38;5;241;43m=\u001B[39;49m\u001B[43mtraces\u001B[49m\u001B[43m,\u001B[49m\n\u001B[1;32m    529\u001B[0m \u001B[43m\u001B[49m\u001B[43m)\u001B[49m\n\u001B[1;32m    531\u001B[0m \u001B[38;5;66;03m# connection timeout\u001B[39;00m\n\u001B[1;32m    532\u001B[0m \u001B[38;5;28;01mtry\u001B[39;00m:\n",
      "File \u001B[0;32m~/work/freespeech/venv/lib/python3.10/site-packages/aiohttp/client_reqrep.py:305\u001B[0m, in \u001B[0;36mClientRequest.__init__\u001B[0;34m(self, method, url, params, headers, skip_auto_headers, data, cookies, auth, version, compress, chunked, expect100, loop, response_class, proxy, proxy_auth, timer, session, ssl, proxy_headers, traces)\u001B[0m\n\u001B[1;32m    302\u001B[0m     \u001B[38;5;28mself\u001B[39m\u001B[38;5;241m.\u001B[39m_source_traceback \u001B[38;5;241m=\u001B[39m traceback\u001B[38;5;241m.\u001B[39mextract_stack(sys\u001B[38;5;241m.\u001B[39m_getframe(\u001B[38;5;241m1\u001B[39m))\n\u001B[1;32m    304\u001B[0m \u001B[38;5;28mself\u001B[39m\u001B[38;5;241m.\u001B[39mupdate_version(version)\n\u001B[0;32m--> 305\u001B[0m \u001B[38;5;28;43mself\u001B[39;49m\u001B[38;5;241;43m.\u001B[39;49m\u001B[43mupdate_host\u001B[49m\u001B[43m(\u001B[49m\u001B[43murl\u001B[49m\u001B[43m)\u001B[49m\n\u001B[1;32m    306\u001B[0m \u001B[38;5;28mself\u001B[39m\u001B[38;5;241m.\u001B[39mupdate_headers(headers)\n\u001B[1;32m    307\u001B[0m \u001B[38;5;28mself\u001B[39m\u001B[38;5;241m.\u001B[39mupdate_auto_headers(skip_auto_headers)\n",
      "File \u001B[0;32m~/work/freespeech/venv/lib/python3.10/site-packages/aiohttp/client_reqrep.py:366\u001B[0m, in \u001B[0;36mClientRequest.update_host\u001B[0;34m(self, url)\u001B[0m\n\u001B[1;32m    364\u001B[0m \u001B[38;5;66;03m# get host/port\u001B[39;00m\n\u001B[1;32m    365\u001B[0m \u001B[38;5;28;01mif\u001B[39;00m \u001B[38;5;129;01mnot\u001B[39;00m url\u001B[38;5;241m.\u001B[39mraw_host:\n\u001B[0;32m--> 366\u001B[0m     \u001B[38;5;28;01mraise\u001B[39;00m InvalidURL(url)\n\u001B[1;32m    368\u001B[0m \u001B[38;5;66;03m# basic auth info\u001B[39;00m\n\u001B[1;32m    369\u001B[0m username, password \u001B[38;5;241m=\u001B[39m url\u001B[38;5;241m.\u001B[39muser, url\u001B[38;5;241m.\u001B[39mpassword\n",
      "\u001B[0;31mInvalidURL\u001B[0m: /upload"
     ]
    }
   ],
   "source": [
    "import aiohttp\n",
    "\n",
    "from freespeech import client\n",
    "from freespeech.types import Job, Media\n",
    "\n",
    "async with aiohttp.ClientSession() as session:\n",
    "\n",
    "    # this ingests video from youtube.\n",
    "    download_job:Job[Media] = await client.ingest_video(url=\"https://youtube.com/?v=ASDLKJFH\", session=session)\n",
    "\n",
    "    # this hits cache and thus just returns meta from cache\n",
    "    download_job = await client.ingest_video(url=\"https://youtube.com/?v=ASDLKJFH\", session=session)\n",
    "\n",
    "    # this downloads video from telegram\n",
    "    download_job = await client.ingest_video(url=\"telegram://video/IDENTIFIER\", session=session)"
   ],
   "metadata": {
    "collapsed": false,
    "pycharm": {
     "name": "#%%\n"
    }
   }
  },
  {
   "cell_type": "markdown",
   "source": [
    "## Getting metadata\n",
    "\n",
    "To get a local copy for further processing, call `get_video(url:str)`. Within get_video we can do following:\n",
    "\n",
    "1. Check if there is a key in metadata storage, if there is none - try to `ingest`.\n",
    "2. Return metadata\n",
    "\n",
    "To get actual file if needed for processing, still should use `objectstorage.get`"
   ],
   "metadata": {
    "collapsed": false,
    "pycharm": {
     "name": "#%% md\n"
    }
   }
  },
  {
   "cell_type": "code",
   "execution_count": 2,
   "outputs": [
    {
     "ename": "RuntimeError",
     "evalue": "Session is closed",
     "output_type": "error",
     "traceback": [
      "\u001B[0;31m---------------------------------------------------------------------------\u001B[0m",
      "\u001B[0;31mRuntimeError\u001B[0m                              Traceback (most recent call last)",
      "Input \u001B[0;32mIn [2]\u001B[0m, in \u001B[0;36m<cell line: 2>\u001B[0;34m()\u001B[0m\n\u001B[1;32m      1\u001B[0m \u001B[38;5;66;03m# this has already been ingested\u001B[39;00m\n\u001B[0;32m----> 2\u001B[0m result \u001B[38;5;241m=\u001B[39m \u001B[38;5;28;01mawait\u001B[39;00m client\u001B[38;5;241m.\u001B[39mmedia(session\u001B[38;5;241m=\u001B[39m session, url\u001B[38;5;241m=\u001B[39m\u001B[38;5;124m\"\u001B[39m\u001B[38;5;124mhttps://youtube.com/?v=ASDLKJFH\u001B[39m\u001B[38;5;124m\"\u001B[39m)\n",
      "File \u001B[0;32m~/work/freespeech/freespeech/client.py:49\u001B[0m, in \u001B[0;36mmedia\u001B[0;34m(session, url)\u001B[0m\n\u001B[1;32m     42\u001B[0m params \u001B[38;5;241m=\u001B[39m {\n\u001B[1;32m     43\u001B[0m     \u001B[38;5;124m\"\u001B[39m\u001B[38;5;124murl\u001B[39m\u001B[38;5;124m\"\u001B[39m: url,\n\u001B[1;32m     44\u001B[0m }\n\u001B[1;32m     46\u001B[0m \u001B[38;5;66;03m# astaff: Sasha, do we want to make it a GET?..\\\u001B[39;00m\n\u001B[1;32m     47\u001B[0m \u001B[38;5;66;03m# this will remove boilerplate\u001B[39;00m\n\u001B[1;32m     48\u001B[0m \u001B[38;5;66;03m# with seriaizing/deserializing signle argument as dict\u001B[39;00m\n\u001B[0;32m---> 49\u001B[0m \u001B[38;5;28;01masync\u001B[39;00m \u001B[38;5;28;01mwith\u001B[39;00m session\u001B[38;5;241m.\u001B[39mpost(\u001B[38;5;124m\"\u001B[39m\u001B[38;5;124m/media\u001B[39m\u001B[38;5;124m\"\u001B[39m, json\u001B[38;5;241m=\u001B[39mparams) \u001B[38;5;28;01mas\u001B[39;00m resp:\n\u001B[1;32m     50\u001B[0m     result \u001B[38;5;241m=\u001B[39m \u001B[38;5;28;01mawait\u001B[39;00m resp\u001B[38;5;241m.\u001B[39mjson()\n\u001B[1;32m     52\u001B[0m     \u001B[38;5;28;01mif\u001B[39;00m resp\u001B[38;5;241m.\u001B[39mok:\n",
      "File \u001B[0;32m~/work/freespeech/venv/lib/python3.10/site-packages/aiohttp/client.py:1138\u001B[0m, in \u001B[0;36m_BaseRequestContextManager.__aenter__\u001B[0;34m(self)\u001B[0m\n\u001B[1;32m   1137\u001B[0m \u001B[38;5;28;01masync\u001B[39;00m \u001B[38;5;28;01mdef\u001B[39;00m \u001B[38;5;21m__aenter__\u001B[39m(\u001B[38;5;28mself\u001B[39m) \u001B[38;5;241m-\u001B[39m\u001B[38;5;241m>\u001B[39m _RetType:\n\u001B[0;32m-> 1138\u001B[0m     \u001B[38;5;28mself\u001B[39m\u001B[38;5;241m.\u001B[39m_resp \u001B[38;5;241m=\u001B[39m \u001B[38;5;28;01mawait\u001B[39;00m \u001B[38;5;28mself\u001B[39m\u001B[38;5;241m.\u001B[39m_coro\n\u001B[1;32m   1139\u001B[0m     \u001B[38;5;28;01mreturn\u001B[39;00m \u001B[38;5;28mself\u001B[39m\u001B[38;5;241m.\u001B[39m_resp\n",
      "File \u001B[0;32m~/work/freespeech/venv/lib/python3.10/site-packages/aiohttp/client.py:399\u001B[0m, in \u001B[0;36mClientSession._request\u001B[0;34m(self, method, str_or_url, params, data, json, cookies, headers, skip_auto_headers, auth, allow_redirects, max_redirects, compress, chunked, expect100, raise_for_status, read_until_eof, proxy, proxy_auth, timeout, verify_ssl, fingerprint, ssl_context, ssl, proxy_headers, trace_request_ctx, read_bufsize)\u001B[0m\n\u001B[1;32m    363\u001B[0m \u001B[38;5;28;01masync\u001B[39;00m \u001B[38;5;28;01mdef\u001B[39;00m \u001B[38;5;21m_request\u001B[39m(\n\u001B[1;32m    364\u001B[0m     \u001B[38;5;28mself\u001B[39m,\n\u001B[1;32m    365\u001B[0m     method: \u001B[38;5;28mstr\u001B[39m,\n\u001B[0;32m   (...)\u001B[0m\n\u001B[1;32m    395\u001B[0m     \u001B[38;5;66;03m# set the default to None because we need to detect if the user wants\u001B[39;00m\n\u001B[1;32m    396\u001B[0m     \u001B[38;5;66;03m# to use the existing timeouts by setting timeout to None.\u001B[39;00m\n\u001B[1;32m    398\u001B[0m     \u001B[38;5;28;01mif\u001B[39;00m \u001B[38;5;28mself\u001B[39m\u001B[38;5;241m.\u001B[39mclosed:\n\u001B[0;32m--> 399\u001B[0m         \u001B[38;5;28;01mraise\u001B[39;00m \u001B[38;5;167;01mRuntimeError\u001B[39;00m(\u001B[38;5;124m\"\u001B[39m\u001B[38;5;124mSession is closed\u001B[39m\u001B[38;5;124m\"\u001B[39m)\n\u001B[1;32m    401\u001B[0m     ssl \u001B[38;5;241m=\u001B[39m _merge_ssl_params(ssl, verify_ssl, ssl_context, fingerprint)\n\u001B[1;32m    403\u001B[0m     \u001B[38;5;28;01mif\u001B[39;00m data \u001B[38;5;129;01mis\u001B[39;00m \u001B[38;5;129;01mnot\u001B[39;00m \u001B[38;5;28;01mNone\u001B[39;00m \u001B[38;5;129;01mand\u001B[39;00m json \u001B[38;5;129;01mis\u001B[39;00m \u001B[38;5;129;01mnot\u001B[39;00m \u001B[38;5;28;01mNone\u001B[39;00m:\n",
      "\u001B[0;31mRuntimeError\u001B[0m: Session is closed"
     ]
    }
   ],
   "source": [
    "    # this has already been ingested\n",
    "    result = await client.media(session= session, url=\"https://youtube.com/?v=ASDLKJFH\")\n",
    "\n",
    "    # something which is not in system. Lack of this should mean application error, we should well control when we should have media for sure and when not.\n",
    "    result = await client.media(session= session, url=\"https://youtube.com/?v=NONEXIST\") # error"
   ],
   "metadata": {
    "collapsed": false,
    "pycharm": {
     "name": "#%%\n"
    }
   }
  },
  {
   "cell_type": "markdown",
   "source": [
    "## Saving clip\n",
    "\n",
    "We should have a method somewhere to save local stream (file) to bucket + metadata. It should only be one entry point, so that metadata is stored on write always. Something like\n",
    "`upload_media(local_file:Path)` which would calculate the meta and put it in the right place in obj storage.\n",
    "\n",
    "We are doing it now in dub.py, maybe just extracting to a method be enough?"
   ],
   "metadata": {
    "collapsed": false,
    "pycharm": {
     "name": "#%% md\n"
    }
   }
  }
 ],
 "metadata": {
  "kernelspec": {
   "display_name": "Python 3",
   "language": "python",
   "name": "python3"
  },
  "language_info": {
   "codemirror_mode": {
    "name": "ipython",
    "version": 2
   },
   "file_extension": ".py",
   "mimetype": "text/x-python",
   "name": "python",
   "nbconvert_exporter": "python",
   "pygments_lexer": "ipython2",
   "version": "2.7.6"
  }
 },
 "nbformat": 4,
 "nbformat_minor": 0
}