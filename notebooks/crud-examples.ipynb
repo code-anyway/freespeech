{
 "cells": [
  {
   "cell_type": "markdown",
   "source": [
    "# CRUD API\n",
    "## Ingesting video from external source\n",
    "\n",
    "Two methods:\n",
    "- ingest(origin: url | stream, session: ClientSession: None): Tuple[str, Video | Audio]\n",
    "- get(origin: url) :Tuple[str, Video | Audio] | None\n",
    "\n"
   ],
   "metadata": {
    "collapsed": false,
    "pycharm": {
     "name": "#%% md\n"
    }
   }
  },
  {
   "cell_type": "code",
   "execution_count": 5,
   "outputs": [
    {
     "ename": "AttributeError",
     "evalue": "module 'freespeech.client' has no attribute 'get'",
     "output_type": "error",
     "traceback": [
      "\u001B[0;31m---------------------------------------------------------------------------\u001B[0m",
      "\u001B[0;31mAttributeError\u001B[0m                            Traceback (most recent call last)",
      "Input \u001B[0;32mIn [5]\u001B[0m, in \u001B[0;36m<cell line: 7>\u001B[0;34m()\u001B[0m\n\u001B[1;32m      6\u001B[0m \u001B[38;5;66;03m# cached ingestion, as called from transcribe from chat\u001B[39;00m\n\u001B[1;32m      7\u001B[0m \u001B[38;5;28;01masync\u001B[39;00m \u001B[38;5;28;01mwith\u001B[39;00m aiohttp\u001B[38;5;241m.\u001B[39mClientSession() \u001B[38;5;28;01mas\u001B[39;00m session:\n\u001B[0;32m----> 8\u001B[0m     url, meta \u001B[38;5;241m=\u001B[39m \u001B[38;5;28;01mawait\u001B[39;00m client\u001B[38;5;241m.\u001B[39mget(url\u001B[38;5;241m=\u001B[39m\u001B[38;5;124m\"\u001B[39m\u001B[38;5;124mhttps://youtube.com/?v=ASDLKJFH\u001B[39m\u001B[38;5;124m\"\u001B[39m, session\u001B[38;5;241m=\u001B[39msession) \u001B[38;5;129;01mor\u001B[39;00m \u001B[38;5;28;01mawait\u001B[39;00m client\u001B[38;5;241m.\u001B[39mingest(url\u001B[38;5;241m=\u001B[39m\u001B[38;5;124m\"\u001B[39m\u001B[38;5;124mhttps://youtube.com/?v=ASDLKJFH\u001B[39m\u001B[38;5;124m\"\u001B[39m, session\u001B[38;5;241m=\u001B[39msession)\n\u001B[1;32m      9\u001B[0m     \u001B[38;5;28;01mmatch\u001B[39;00m method:\n\u001B[1;32m     10\u001B[0m         \u001B[38;5;28;01mcase\u001B[39;00m \u001B[38;5;124m\"\u001B[39m\u001B[38;5;124mgoogle\u001B[39m\u001B[38;5;124m\"\u001B[39m:\n\u001B[1;32m     11\u001B[0m             \u001B[38;5;66;03m# transcribe with google, using meta.url, not downloading stuff\u001B[39;00m\n\u001B[1;32m     12\u001B[0m             google\u001B[38;5;241m.\u001B[39mtranscribe(meta\u001B[38;5;241m.\u001B[39murl)\n\u001B[1;32m     13\u001B[0m         \u001B[38;5;28;01mcase\u001B[39;00m \u001B[38;5;124m\"\u001B[39m\u001B[38;5;124mdeepgram\u001B[39m\u001B[38;5;124m\"\u001B[39m:\n\u001B[1;32m     14\u001B[0m             local_file \u001B[38;5;241m=\u001B[39m original_blob \u001B[38;5;241m=\u001B[39m object_storage\u001B[38;5;241m.\u001B[39mdownload_to_local_machine(meta\u001B[38;5;241m.\u001B[39murl)\n\u001B[1;32m     15\u001B[0m             \u001B[38;5;66;03m# transcribe with deepgram\u001B[39;00m\n\u001B[1;32m     16\u001B[0m \n\u001B[1;32m     17\u001B[0m \u001B[38;5;66;03m# as called from dub. We already have the URL from origin field of google doc\u001B[39;00m\n",
      "\u001B[0;31mAttributeError\u001B[0m: module 'freespeech.client' has no attribute 'get'"
     ]
    }
   ],
   "source": [
    "import aiohttp\n",
    "\n",
    "from freespeech import client\n",
    "from freespeech.types import Job, Media\n",
    "\n",
    "# cached ingestion, as called from transcribe from chat\n",
    "async with aiohttp.ClientSession() as session:\n",
    "    url, meta = await client.get(url=\"https://youtube.com/?v=ASDLKJFH\", session=session) or await client.ingest(url=\"https://youtube.com/?v=ASDLKJFH\", session=session)\n",
    "    # somewhere inside transcribe\n",
    "    match method:\n",
    "        case \"google\":\n",
    "            # transcribe with google, using meta.url, not downloading stuff\n",
    "            google.transcribe(meta.url)\n",
    "        case \"deepgram\":\n",
    "            local_file = original_blob = object_storage.download_to_local_machine(meta.url)\n",
    "            # transcribe with deepgram\n",
    "\n",
    "# as called from dub. We already have the URL from origin field of google doc\n",
    "async with aiohttp.ClientSession() as session:\n",
    "    url, meta = await client.get(url=\"https://youtube.com/?v=ASDLKJFH\", session=session) or await client.ingest(url=\"https://youtube.com/?v=ASDLKJFH\", session=session)\n",
    "    original_blob = object_storage.download_to_local_machine(meta.url)\n",
    "    mixed = mix(original_blob, voiceover, ratio = (2, 10))\n",
    "\n"
   ],
   "metadata": {
    "collapsed": false,
    "pycharm": {
     "name": "#%%\n"
    }
   }
  },
  {
   "cell_type": "code",
   "execution_count": null,
   "outputs": [],
   "source": [],
   "metadata": {
    "collapsed": false,
    "pycharm": {
     "name": "#%%\n"
    }
   }
  }
 ],
 "metadata": {
  "kernelspec": {
   "display_name": "Python 3",
   "language": "python",
   "name": "python3"
  },
  "language_info": {
   "codemirror_mode": {
    "name": "ipython",
    "version": 2
   },
   "file_extension": ".py",
   "mimetype": "text/x-python",
   "name": "python",
   "nbconvert_exporter": "python",
   "pygments_lexer": "ipython2",
   "version": "2.7.6"
  }
 },
 "nbformat": 4,
 "nbformat_minor": 0
}