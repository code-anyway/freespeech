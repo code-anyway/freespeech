{
 "cells": [
  {
   "cell_type": "markdown",
   "id": "71159715",
   "metadata": {
    "pycharm": {
     "name": "#%% md\n"
    }
   },
   "source": [
    "# Setup"
   ]
  },
  {
   "cell_type": "code",
   "execution_count": 1,
   "id": "89de50c9",
   "metadata": {
    "pycharm": {
     "name": "#%%\n"
    }
   },
   "outputs": [],
   "source": [
    "from os import environ\n",
    "\n",
    "environ[\"GOOGLE_APPLICATION_CREDENTIALS\"] = \"/home/lexaux/work/freespeech/id/alex-prod-access-freespeech-343914-3b04c8fb86f9.json\"\n",
    "environ[\"DEEPGRAM_TOKEN\"] = \"853231a8db620681622baaef76fab33070613d19\"\n",
    "environ[\"NOTION_TOKEN\"] = \"secret_uLJMnhu0cXfPq2vkkIIVg0OjmytdWscQiN9nOQbTcVP\"\n",
    "environ[\"AZURE_SUBSCRIPTION_KEY\"] = \"5e872cb4b1694ca1aa785035dc64817e\"\n",
    "environ[\"AZURE_REGION\"] = \"eastus\"\n",
    "\n",
    "OUTPUT_DIR = \"/home/lexaux/work/freespeech/output\""
   ]
  },
  {
   "cell_type": "markdown",
   "id": "7454ab8a",
   "metadata": {
    "pycharm": {
     "name": "#%% md\n"
    }
   },
   "source": [
    "# Download Video\n",
    "\n",
    "A three-minute English teaching dialogue of ladies discussing the"
   ]
  },
  {
   "cell_type": "code",
   "execution_count": 2,
   "id": "c06a35c7-9a95-469a-878d-0e1a7b220997",
   "metadata": {
    "pycharm": {
     "name": "#%%\n"
    }
   },
   "outputs": [],
   "source": [
    "from freespeech.lib import youtube\n",
    "\n",
    "\n",
    "VIDEO_URL = \"https://youtu.be/VyRE4bgrNDs\"\n",
    "audio_file, video_file, meta, subtitles = youtube.download(VIDEO_URL, output_dir=OUTPUT_DIR)"
   ]
  },
  {
   "cell_type": "markdown",
   "id": "f0b0648d",
   "metadata": {
    "pycharm": {
     "name": "#%% md\n"
    }
   },
   "source": [
    "# Cut Video"
   ]
  },
  {
   "cell_type": "code",
   "execution_count": 3,
   "id": "d7c5b12f",
   "metadata": {
    "pycharm": {
     "name": "#%%\n"
    }
   },
   "outputs": [],
   "source": [
    "from freespeech.lib import media\n",
    "\n",
    "\n",
    "START = '00:00:00'\n",
    "FINISH = '00:02:00'\n",
    "\n",
    "cut_audio_file = await media.cut(audio_file, start=START, finish=FINISH, output_dir=OUTPUT_DIR)\n",
    "cut_video_file = await media.cut(video_file, start=START, finish=FINISH, output_dir=OUTPUT_DIR)\n",
    "\n",
    "cut_video_with_audio_file = await media.dub(cut_video_file, cut_audio_file, output_dir=OUTPUT_DIR)"
   ]
  },
  {
   "cell_type": "markdown",
   "id": "5819bd7b",
   "metadata": {
    "pycharm": {
     "name": "#%% md\n"
    }
   },
   "source": [
    "# Transcribe\n",
    "\n",
    "This would be an english-to-english dub so that we can see how well it fits against the original phrases and tempo.\n",
    "No need to translate here."
   ]
  },
  {
   "cell_type": "code",
   "execution_count": 4,
   "id": "cab0b552-b28c-4cc3-b82f-deac27cc2d74",
   "metadata": {
    "pycharm": {
     "name": "#%%\n"
    }
   },
   "outputs": [],
   "source": [
    "from freespeech.lib import media, speech\n",
    "from freespeech.lib.storage import obj\n",
    "\n",
    "audio_file = cut_audio_file\n",
    "\n",
    "audio_file_mono = await media.multi_channel_audio_to_mono(audio_file, output_dir=OUTPUT_DIR)\n",
    "(audio_info, *_), _ = media.probe(audio_file_mono)\n",
    "\n",
    "audio_uri = f\"gs://freespeech-tests/transcribe/{audio_file_mono.name}\"\n",
    "await obj.put(audio_file_mono, audio_uri)\n",
    "\n",
    "transcript = await speech.transcribe(audio_uri, audio_info, \"en-US\", \"default\", provider=\"Deepgram\")"
   ]
  },
  {
   "cell_type": "markdown",
   "source": [
    "# Normalize\n",
    "\n",
    "Normalizing the breaks and also ensuring voice is Azure."
   ],
   "metadata": {
    "collapsed": false,
    "pycharm": {
     "name": "#%% md\n"
    }
   }
  },
  {
   "cell_type": "code",
   "execution_count": 6,
   "outputs": [],
   "source": [
    "from freespeech.types import Voice\n",
    "from dataclasses import replace\n",
    "\n",
    "normalized_events = speech.normalize_speech(transcript, gap_ms=2000, length=500, method=\"break_ends_sentence\")\n",
    "\n",
    "# Deepgram gives us only 'Alonzo Church' and 'Alan Turing' voices after recognition.\n",
    "# We want Melinda in this case, so...\n",
    "events = [replace(e, voice=Voice(character=\"Melinda\", pitch=0.0, speech_rate=None)) for e in normalized_events]"
   ],
   "metadata": {
    "collapsed": false,
    "pycharm": {
     "name": "#%%\n"
    }
   }
  },
  {
   "cell_type": "markdown",
   "id": "fdb6cd1c",
   "metadata": {
    "pycharm": {
     "name": "#%% md\n"
    }
   },
   "source": [
    "# Text to speech with Azure"
   ]
  },
  {
   "cell_type": "code",
   "execution_count": 7,
   "outputs": [
    {
     "name": "stderr",
     "output_type": "stream",
     "text": [
      "retrying delta=998 rate=1.0\n",
      "retrying delta=8122 rate=1.0\n",
      "retrying delta=310 rate=1.2815251299826689\n",
      "retrying delta=1867 rate=1.0\n",
      "retrying delta=6013 rate=1.0\n",
      "retrying delta=1617 rate=1.0\n",
      "retrying delta=5754 rate=1.0\n",
      "retrying delta=2997 rate=1.0\n",
      "retrying delta=5876 rate=1.0\n"
     ]
    },
    {
     "data": {
      "text/plain": "PosixPath('/home/lexaux/work/freespeech/output/eabcdd83-7dc3-451e-99aa-5e45da52c878.mp4')"
     },
     "execution_count": 7,
     "metadata": {},
     "output_type": "execute_result"
    }
   ],
   "source": [
    "synth_output, voices = await speech.synthesize_events(events, \"Melinda\", \"en-US\", 0, OUTPUT_DIR)\n",
    "mixed_file = await media.mix((synth_output, audio_file), (1, 0.4),  output_dir=OUTPUT_DIR)\n",
    "dubbed_video = await media.dub(cut_video_file, mixed_file, output_dir=OUTPUT_DIR)\n",
    "\n",
    "dubbed_video"
   ],
   "metadata": {
    "collapsed": false,
    "pycharm": {
     "name": "#%%\n"
    }
   }
  }
 ],
 "metadata": {
  "interpreter": {
   "hash": "23393d2575091a37cff0d0e9e7479591a295495b26c3b2ebf9b64da572e02d85"
  },
  "kernelspec": {
   "display_name": "Python 3.10.4 64-bit",
   "language": "python",
   "name": "python3"
  },
  "language_info": {
   "codemirror_mode": {
    "name": "ipython",
    "version": 3
   },
   "file_extension": ".py",
   "mimetype": "text/x-python",
   "name": "python",
   "nbconvert_exporter": "python",
   "pygments_lexer": "ipython3",
   "version": "3.10.4"
  }
 },
 "nbformat": 4,
 "nbformat_minor": 5
}