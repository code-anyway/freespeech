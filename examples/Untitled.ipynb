{
 "cells": [
  {
   "cell_type": "code",
   "execution_count": 3,
   "id": "c06a35c7-9a95-469a-878d-0e1a7b220997",
   "metadata": {},
   "outputs": [],
   "source": [
    "from freespeech.lib import youtube\n",
    "\n",
    "\n",
    "PRESIDENT_UA_DAY_55 = \"https://www.youtube.com/watch?v=PRLIlthRIwA\"\n",
    "\n",
    "t = youtube.get_transcripts(PRESIDENT_UA_DAY_55)"
   ]
  },
  {
   "cell_type": "code",
   "execution_count": 4,
   "id": "facff56b-9168-47f0-9aa1-5da2b9214ecf",
   "metadata": {},
   "outputs": [
    {
     "name": "stdout",
     "output_type": "stream",
     "text": [
      "Collecting seaborn\n",
      "  Downloading seaborn-0.11.2-py3-none-any.whl (292 kB)\n",
      "\u001b[2K     \u001b[38;2;114;156;31m━━━━━━━━━━━━━━━━━━━━━━━━━━━━━━━━━━━━━━\u001b[0m \u001b[32m292.8/292.8 KB\u001b[0m \u001b[31m10.0 MB/s\u001b[0m eta \u001b[36m0:00:00\u001b[0m\n",
      "\u001b[?25hCollecting pandas>=0.23\n",
      "  Downloading pandas-1.4.2-cp310-cp310-manylinux_2_17_aarch64.manylinux2014_aarch64.whl (11.0 MB)\n",
      "\u001b[2K     \u001b[38;2;114;156;31m━━━━━━━━━━━━━━━━━━━━━━━━━━━━━━━━━━━━━━━━\u001b[0m \u001b[32m11.0/11.0 MB\u001b[0m \u001b[31m28.7 MB/s\u001b[0m eta \u001b[36m0:00:00\u001b[0mm eta \u001b[36m0:00:01\u001b[0m0:01\u001b[0m01\u001b[0m\n",
      "\u001b[?25hCollecting matplotlib>=2.2\n",
      "  Downloading matplotlib-3.5.1-cp310-cp310-manylinux_2_17_aarch64.manylinux2014_aarch64.whl (11.6 MB)\n",
      "\u001b[2K     \u001b[38;2;114;156;31m━━━━━━━━━━━━━━━━━━━━━━━━━━━━━━━━━━━━━━━━\u001b[0m \u001b[32m11.6/11.6 MB\u001b[0m \u001b[31m27.4 MB/s\u001b[0m eta \u001b[36m0:00:00\u001b[0mm eta \u001b[36m0:00:01\u001b[0m0:01\u001b[0m01\u001b[0m\n",
      "\u001b[?25hCollecting scipy>=1.0\n",
      "  Downloading scipy-1.8.0-cp310-cp310-manylinux_2_17_aarch64.manylinux2014_aarch64.whl (39.0 MB)\n",
      "\u001b[2K     \u001b[38;2;114;156;31m━━━━━━━━━━━━━━━━━━━━━━━━━━━━━━━━━━━━━━━━\u001b[0m \u001b[32m39.0/39.0 MB\u001b[0m \u001b[31m22.1 MB/s\u001b[0m eta \u001b[36m0:00:00\u001b[0mm eta \u001b[36m0:00:01\u001b[0m[36m0:00:01\u001b[0m\n",
      "\u001b[?25hCollecting numpy>=1.15\n",
      "  Downloading numpy-1.22.3-cp310-cp310-manylinux_2_17_aarch64.manylinux2014_aarch64.whl (13.4 MB)\n",
      "\u001b[2K     \u001b[38;2;114;156;31m━━━━━━━━━━━━━━━━━━━━━━━━━━━━━━━━━━━━━━━━\u001b[0m \u001b[32m13.4/13.4 MB\u001b[0m \u001b[31m28.1 MB/s\u001b[0m eta \u001b[36m0:00:00\u001b[0mm eta \u001b[36m0:00:01\u001b[0m0:01\u001b[0m01\u001b[0m\n",
      "\u001b[?25hCollecting pillow>=6.2.0\n",
      "  Downloading Pillow-9.1.0-cp310-cp310-manylinux_2_17_aarch64.manylinux2014_aarch64.whl (4.3 MB)\n",
      "\u001b[2K     \u001b[38;2;114;156;31m━━━━━━━━━━━━━━━━━━━━━━━━━━━━━━━━━━━━━━━━\u001b[0m \u001b[32m4.3/4.3 MB\u001b[0m \u001b[31m29.9 MB/s\u001b[0m eta \u001b[36m0:00:00\u001b[0mm eta \u001b[36m0:00:01\u001b[0m0:01\u001b[0m\n",
      "\u001b[?25hCollecting cycler>=0.10\n",
      "  Downloading cycler-0.11.0-py3-none-any.whl (6.4 kB)\n",
      "Requirement already satisfied: pyparsing>=2.2.1 in /opt/venv/lib/python3.10/site-packages (from matplotlib>=2.2->seaborn) (3.0.8)\n",
      "Collecting kiwisolver>=1.0.1\n",
      "  Downloading kiwisolver-1.4.2-cp310-cp310-manylinux_2_17_aarch64.manylinux2014_aarch64.whl (1.4 MB)\n",
      "\u001b[2K     \u001b[38;2;114;156;31m━━━━━━━━━━━━━━━━━━━━━━━━━━━━━━━━━━━━━━━━\u001b[0m \u001b[32m1.4/1.4 MB\u001b[0m \u001b[31m29.4 MB/s\u001b[0m eta \u001b[36m0:00:00\u001b[0m MB/s\u001b[0m eta \u001b[36m0:00:01\u001b[0m\n",
      "\u001b[?25hRequirement already satisfied: packaging>=20.0 in /opt/venv/lib/python3.10/site-packages (from matplotlib>=2.2->seaborn) (21.3)\n",
      "Requirement already satisfied: python-dateutil>=2.7 in /opt/venv/lib/python3.10/site-packages (from matplotlib>=2.2->seaborn) (2.8.2)\n",
      "Collecting fonttools>=4.22.0\n",
      "  Downloading fonttools-4.32.0-py3-none-any.whl (900 kB)\n",
      "\u001b[2K     \u001b[38;2;114;156;31m━━━━━━━━━━━━━━━━━━━━━━━━━━━━━━━━━━━━━━\u001b[0m \u001b[32m900.8/900.8 KB\u001b[0m \u001b[31m25.3 MB/s\u001b[0m eta \u001b[36m0:00:00\u001b[0mm eta \u001b[36m0:00:01\u001b[0m\n",
      "\u001b[?25hRequirement already satisfied: pytz>=2020.1 in /opt/venv/lib/python3.10/site-packages (from pandas>=0.23->seaborn) (2022.1)\n",
      "Requirement already satisfied: six>=1.5 in /opt/venv/lib/python3.10/site-packages (from python-dateutil>=2.7->matplotlib>=2.2->seaborn) (1.16.0)\n",
      "Installing collected packages: pillow, numpy, kiwisolver, fonttools, cycler, scipy, pandas, matplotlib, seaborn\n",
      "Successfully installed cycler-0.11.0 fonttools-4.32.0 kiwisolver-1.4.2 matplotlib-3.5.1 numpy-1.22.3 pandas-1.4.2 pillow-9.1.0 scipy-1.8.0 seaborn-0.11.2\n"
     ]
    }
   ],
   "source": [
    "!pip install seaborn"
   ]
  },
  {
   "cell_type": "code",
   "execution_count": 27,
   "id": "074ebbda-c5e0-4b4f-8fb4-0b35f06ccb1c",
   "metadata": {},
   "outputs": [
    {
     "data": {
      "text/plain": [
       "[(Event(time_ms=0, duration_ms=1840, chunks=['Ukrainians!'], voice=None),\n",
       "  800.8460727645248),\n",
       " (Event(time_ms=1840, duration_ms=2560, chunks=['All our defenders!'], voice=None),\n",
       "  1310.4753917964952),\n",
       " (Event(time_ms=51640, duration_ms=4960, chunks=['If we had access to all the weapons we need,'], voice=None),\n",
       "  3203.3842910580993),\n",
       " (Event(time_ms=73240, duration_ms=4080, chunks=['in tactics and wisdom is quite obvious.'], voice=None),\n",
       "  2839.363348892406),\n",
       " (Event(time_ms=84680, duration_ms=5600, chunks=['it is unfair that Ukraine is still forced to ask'], voice=None),\n",
       "  3494.6010447906538),\n",
       " (Event(time_ms=97560, duration_ms=4080, chunks=['needs now, if they have the ammunition'], voice=None),\n",
       "  2766.5591604592673),\n",
       " (Event(time_ms=101640, duration_ms=3000, chunks=['that we need here and now,'], voice=None),\n",
       "  1892.9088992616041),\n",
       " (Event(time_ms=104640, duration_ms=6880, chunks=['it is their moral duty first of all to help protect freedom.'], voice=None),\n",
       "  4368.251305988317),\n",
       " (Event(time_ms=125840, duration_ms=4120, chunks=['And if we get what some partners plan'], voice=None),\n",
       "  2693.7549720261286),\n",
       " (Event(time_ms=133760, duration_ms=5880, chunks=['it will save the lives of thousands of people.'], voice=None),\n",
       "  3348.9926679243763),\n",
       " (Event(time_ms=146200, duration_ms=5680, chunks=['Any delay in helping Ukraine gives the occupiers'], voice=None),\n",
       "  3494.6010447906538),\n",
       " (Event(time_ms=164560, duration_ms=3680, chunks=['They still consider ordinary housing'], voice=None),\n",
       "  2620.9507835929903),\n",
       " (Event(time_ms=178080, duration_ms=5480, chunks=['the most barbaric and inhuman army in the world.'], voice=None),\n",
       "  3494.6010447906538),\n",
       " (Event(time_ms=191200, duration_ms=4120, chunks=['using all kinds of weapons for this,'], voice=None),\n",
       "  2620.9507835929903),\n",
       " (Event(time_ms=213600, duration_ms=3560, chunks=['all those guilty of war crimes,'], voice=None),\n",
       "  2256.929841427297),\n",
       " (Event(time_ms=225760, duration_ms=4320, chunks=['unequivocal unwillingness to cooperate.'], voice=None),\n",
       "  2839.363348892406),\n",
       " (Event(time_ms=237240, duration_ms=6320, chunks=['to organize humanitarian corridors and save our people.'], voice=None),\n",
       "  4004.230363822624),\n",
       " (Event(time_ms=276440, duration_ms=5120, chunks=['When your fate is decided, Moscow will be silent.'], voice=None),\n",
       "  3567.405233223792),\n",
       " (Event(time_ms=301000, duration_ms=2560, chunks=['It looks pathetic.'], voice=None),\n",
       "  1310.4753917964952),\n",
       " (Event(time_ms=306800, duration_ms=6240, chunks=['to attract anyone to their side except for some outcasts.'], voice=None),\n",
       "  4149.838740688901),\n",
       " (Event(time_ms=317120, duration_ms=3480, chunks=['support Ukrainian national unity.'], voice=None),\n",
       "  2402.538218293574),\n",
       " (Event(time_ms=331720, duration_ms=7680, chunks=['and all our other communities - for this clear position.'], voice=None),\n",
       "  4077.0345522557623),\n",
       " (Event(time_ms=349640, duration_ms=3800, chunks=['the sooner normal life will return.'], voice=None),\n",
       "  2548.1465951598516),\n",
       " (Event(time_ms=478360, duration_ms=3640, chunks=['a decision and leave Russia.'], voice=None),\n",
       "  2038.5172761278811),\n",
       " (Event(time_ms=487760, duration_ms=4200, chunks=['for it means complicity in mass killings.'], voice=None),\n",
       "  2984.971725758683),\n",
       " (Event(time_ms=495240, duration_ms=3080, chunks=['against humanity and genocide.'], voice=None),\n",
       "  2184.1256529941584),\n",
       " (Event(time_ms=511120, duration_ms=3320, chunks=['229 of them are servicemen'], voice=None),\n",
       "  1892.9088992616041),\n",
       " (Event(time_ms=525800, duration_ms=2960, chunks=['to the 36th brigade, Azov,'], voice=None),\n",
       "  1892.9088992616041),\n",
       " (Event(time_ms=534520, duration_ms=3600, chunks=['the 555th military hospital,'], voice=None),\n",
       "  2038.5172761278811),\n",
       " (Event(time_ms=552080, duration_ms=2600, chunks=['Glory to Ukraine!'], voice=None),\n",
       "  1237.6712033633564)]"
      ]
     },
     "execution_count": 27,
     "metadata": {},
     "output_type": "execute_result"
    }
   ],
   "source": [
    "def entropy(event):\n",
    "    return len(\"\".join(event.chunks)) / event.duration_ms\n",
    "\n",
    "\n",
    "events = t[\"en-US\"]\n",
    "\n",
    "sigma = statistics.stdev([entropy(e) for e in events])\n",
    "mean = statistics.mean([entropy(e) for e in events])\n",
    "\n",
    "[(e, len(\"\".join(e.chunks)) / mean) for e in t[\"en-US\"] if entropy(e) < mean - sigma]\n"
   ]
  },
  {
   "cell_type": "code",
   "execution_count": 6,
   "id": "280cdf1d-262c-4a14-bd96-db7fccbd402c",
   "metadata": {},
   "outputs": [],
   "source": [
    "import seaborn as sns"
   ]
  },
  {
   "cell_type": "code",
   "execution_count": 7,
   "id": "5d5e81d8-54ef-49bb-918b-897b157a4c2a",
   "metadata": {},
   "outputs": [
    {
     "data": {
      "text/plain": [
       "<AxesSubplot:ylabel='Count'>"
      ]
     },
     "execution_count": 7,
     "metadata": {},
     "output_type": "execute_result"
    },
    {
     "data": {
      "image/png": "[encoded data removed]",
      "text/plain": [
       "<Figure size 432x288 with 1 Axes>"
      ]
     },
     "metadata": {
      "needs_background": "light"
     },
     "output_type": "display_data"
    }
   ],
   "source": [
    "sns.histplot(entropy)"
   ]
  },
  {
   "cell_type": "code",
   "execution_count": null,
   "id": "cab0b552-b28c-4cc3-b82f-deac27cc2d74",
   "metadata": {},
   "outputs": [],
   "source": []
  }
 ],
 "metadata": {
  "kernelspec": {
   "display_name": "Python 3 (ipykernel)",
   "language": "python",
   "name": "python3"
  },
  "language_info": {
   "codemirror_mode": {
    "name": "ipython",
    "version": 3
   },
   "file_extension": ".py",
   "mimetype": "text/x-python",
   "name": "python",
   "nbconvert_exporter": "python",
   "pygments_lexer": "ipython3",
   "version": "3.10.4"
  }
 },
 "nbformat": 4,
 "nbformat_minor": 5
}
